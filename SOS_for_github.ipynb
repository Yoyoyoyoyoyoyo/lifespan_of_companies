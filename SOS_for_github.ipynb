{
 "cells": [
  {
   "cell_type": "markdown",
   "metadata": {},
   "source": [
    "# Using states' Secretary of State data to learn about organizations\n",
    "\n",
    "\n",
    "## Outline:\n",
    "    1. Scrape some data and load it into Elasticsearch\n",
    "    2. Use Kibana somehow?\n",
    "    3. Query Elasticsearch for data to put into a pandas dataframe\n",
    "    4. Prep the dataframe by adding new variables\n",
    "    5. Make models and learn something new about companies in Rhode Island\n",
    "\n",
    "### Before starting, make sure you have ready:\n",
    "    - Elasticsearch (installed and running) (both the program & the Python package)\n",
    "    - Tor (installed and running)\n",
    "    - bs4, aka BeautifulSoup\n",
    "    - pandas\n",
    "    - pysocks isn't imported, but it must be installed"
   ]
  },
  {
   "cell_type": "code",
   "execution_count": 176,
   "metadata": {},
   "outputs": [],
   "source": [
    "import pandas as pd\n",
    "import numpy as np\n",
    "import statsmodels.api as sm\n",
    "import matplotlib.pyplot as plt\n",
    "import requests\n",
    "import json\n",
    "import random\n",
    "import re\n",
    "import pickle\n",
    "import math\n",
    "import collections\n",
    "import elasticsearch.helpers\n",
    "from pandas.io.json import json_normalize\n",
    "from bs4 import BeautifulSoup\n",
    "from elasticsearch import Elasticsearch\n",
    "from collections import Counter\n",
    "from sklearn.model_selection import train_test_split\n",
    "from scipy.stats import anderson, normaltest, boxcox"
   ]
  },
  {
   "cell_type": "markdown",
   "metadata": {},
   "source": [
    "# Step 1: scrape some data\n",
    "\n",
    "### Scraping data can be illegal! I'm not recommending you do it, just showing you how easy it is to do. If you're interested in the analysis, you can buy this full database from the Rhode Island Secretary of State for fifty bucks.\n",
    "\n",
    "\n",
    "### We're using Tor just to show how to use Tor. Unless you're scraping the dark web, using Tor is pretty impractical. Tor is orders of magnitude slower than normal requests.\n",
    "\n",
    "### The data we collect is being stored in Elasticsearch. You could keep it around in memory, but it takes a long time to scrape data, so it's better to save it to a database so you can quickly use it again in the future if need be."
   ]
  },
  {
   "cell_type": "code",
   "execution_count": 3,
   "metadata": {},
   "outputs": [],
   "source": [
    "def get_tor_session():\n",
    "    session = requests.session()\n",
    "    # Set up your proxies to use Tor\n",
    "    session.proxies = {'http': 'socks5://localhost:9150',\n",
    "                       'https': 'socks5://localhost:9150'}\n",
    "    return session"
   ]
  },
  {
   "cell_type": "code",
   "execution_count": 4,
   "metadata": {},
   "outputs": [],
   "source": [
    "def try_and_except_loop(soup, data_dict, value, prefix, value_not_text=False):\n",
    "    \"\"\"A short loop to keep things a little DRYer\"\"\"\n",
    "    if value_not_text:\n",
    "        try:\n",
    "            data_dict[value] = soup.find(id=prefix + str(value)).value\n",
    "        except AttributeError:\n",
    "            pass\n",
    "    else:\n",
    "        try:\n",
    "            data_dict[value] = soup.find(id=prefix + str(value)).text\n",
    "        except AttributeError:\n",
    "            pass"
   ]
  },
  {
   "cell_type": "code",
   "execution_count": 5,
   "metadata": {},
   "outputs": [],
   "source": [
    "# After inspecting the web page we're going to be grabbing, I got the names of the worthwhile fields:\n",
    "VALUES_TO_EXTRACT = [\"EntityName\",\n",
    "                    \"EntityType\",\n",
    "                    \"OrganisationDate\", # Yes, this is misspelled in the HTML\n",
    "                    \"EffectiveDate\",\n",
    "                    \"InactiveDate\",\n",
    "                    \"PrincipleStreet\",\n",
    "                    \"PrincipleCity\",\n",
    "                    \"PrincipleState\",\n",
    "                    \"PrincipleZip\",\n",
    "                    \"PrincipleCountry\",\n",
    "                    \"ResidentAgentFlag\",\n",
    "                    \"ConsentFlag\",\n",
    "                    \"ResidentAgentName\",\n",
    "                    \"ResidentStreet\",\n",
    "                    \"ResidentCity\",\n",
    "                    \"ResidentState\",\n",
    "                    \"ResidentZip\",\n",
    "                    \"ResidentCountry\"]\n",
    "\n",
    "def parse_rhode_island_entity_summary(session):\n",
    "    \"\"\"When given Rhode Island's Entity Summary page, this builds a dictionary of\n",
    "        all the noteworthy data on the webpage\"\"\"\n",
    "    data_dict = {}\n",
    "    soup = BeautifulSoup(session._content)\n",
    "\n",
    "    # This value includes the words \"Identification Number: \". Clear that useless text.\n",
    "    # Also, if there is no ID number present, then there's no other information present either,\n",
    "    # and there's no need to continue selecting data.\n",
    "    try:\n",
    "        data_dict[\"IDNumber\"] = soup.find(id=\"MainContent_lblIDNumber\").text[-9:]\n",
    "    except AttributeError:\n",
    "        return False\n",
    "\n",
    "    for item in VALUES_TO_EXTRACT:\n",
    "        try_and_except_loop(soup, data_dict, item, \"MainContent_lbl\")\n",
    "    try_and_except_loop(soup, data_dict, \"Comments\", \"MainContent_txt\")\n",
    "    try_and_except_loop(soup, data_dict, \"NIACS\", \"MainContent_txt\", value_not_text=True)\n",
    "\n",
    "    # The length of the list of directors & officers varies by company\n",
    "    d_and_o_list = []\n",
    "    table = soup.find(id=\"MainContent_grdOfficers\")\n",
    "    try:\n",
    "        for row in table.find_all('tr')[1:]:\n",
    "            col = row.find_all('td')\n",
    "            d_and_o_list += [col[0].text, col[1].text, col[2].text]\n",
    "    except AttributeError:\n",
    "        # Some pages don't have information on directors & officers\n",
    "        pass\n",
    "    data_dict['d_and_o'] = d_and_o_list\n",
    "\n",
    "    # I have no idea if their data on stocks is meaningful, but just in case:\n",
    "    try:\n",
    "        stock_cols = soup.find(id=\"MainContent_grdStocks\").tbody.tr.find_all('td')\n",
    "        data_dict['stock_info'] = [stock_cols[item].text for item in range(len(stock_cols))]\n",
    "    except AttributeError:\n",
    "        # Some pages don't have information on stocks. Makes sense, since all the info isn't on corporations.\n",
    "        pass\n",
    "\n",
    "    return data_dict"
   ]
  },
  {
   "cell_type": "code",
   "execution_count": 6,
   "metadata": {},
   "outputs": [],
   "source": [
    "es = Elasticsearch()\n",
    "\n",
    "def create_elasticsearch_index():\n",
    "    \"\"\"This should only be run once: re-running it will delete any saved data!\"\"\"\n",
    "    es.indices.delete(index=\"ri_sos\", ignore=[400, 404])\n",
    "    es_settings = {\n",
    "        \"settings\": {\n",
    "            \"number_of_shards\": 1,\n",
    "            \"number_of_replicas\": 0\n",
    "        },\n",
    "        \"mappings\": {\n",
    "            \"corporate_data\": {\n",
    "                \"properties\": {\n",
    "                    \"OrganisationDate\": {\n",
    "                        \"type\": \"date\",\n",
    "                        \"format\": \"MM-dd-yyyy\"\n",
    "                    },\n",
    "                    \"EffectiveDate\": {\n",
    "                        \"type\": \"date\",\n",
    "                        \"format\": \"MM-dd-yyyy\"\n",
    "                    },\n",
    "                    \"InactiveDate\": {\n",
    "                        \"type\": \"date\",\n",
    "                        \"format\": \"MM-dd-yyyy\"\n",
    "                    },\n",
    "                    \"IDNumber\": {\n",
    "                        \"type\": \"integer\"\n",
    "                    }\n",
    "                }\n",
    "            }\n",
    "        }}\n",
    "    es.indices.create(index=\"ri_sos\", body=es_settings)"
   ]
  },
  {
   "cell_type": "code",
   "execution_count": 7,
   "metadata": {},
   "outputs": [],
   "source": [
    "def save_data_in_elasticsearch(returned_page):\n",
    "    \"\"\"Updates elasticsearch with a single row of data\"\"\"\n",
    "    try:\n",
    "        es.index(index=\"ri_sos\", doc_type=\"corporate_data\", body=json.dumps(returned_page))\n",
    "    except:\n",
    "        # Don't let the scraping stop in case some page has an unusual structure.\n",
    "        # Instead, print out the bad data & figure out the exceptions later.\n",
    "        print(\"Didn't save:\", returned_page)"
   ]
  },
  {
   "cell_type": "code",
   "execution_count": 8,
   "metadata": {},
   "outputs": [],
   "source": [
    "def collect_rhode_island_data(start_at=0, records_to_get=1, create_index=False, random_subset_size=False, prior_records=False,\n",
    "                              failed_records=[]):\n",
    "    \"\"\"This function ties together connecting with Tor, scraping data, and loading it into Elasticsearch.\n",
    "        It returns a list of all records it unsuccessfully tried to grab.\"\"\"\n",
    "    URL_string = \"http://ucc.state.ri.us/CorpWeb/CorpSearch/CorpSummary.aspx?FEIN=\"\n",
    "    session = get_tor_session()\n",
    "    # Since we're already using Tor, let's pretend we're accessing the web through a browser\n",
    "    # instead of letting people see it's through a Python script:\n",
    "    headers = {'User-agent': 'Opera/1.1.2 FCS'}\n",
    "\n",
    "    ## If you want to confirm that you're using Tor, then see if your\n",
    "    ## session's IP address matches a normal request's IP address\n",
    "    # print(\"TOR IP address:\", session.get(\"http://httpbin.org/ip\").text)\n",
    "    # print(\"Your normal IP address:\", requests.get(\"http://httpbin.org/ip\").text)\n",
    "\n",
    "    # If this is your first time through, then you'll need to create an index in Elasticsearch\n",
    "    if create_index:\n",
    "        create_elasticsearch_index()\n",
    "\n",
    "    # Options for random sampling of data\n",
    "    if random_subset_size:\n",
    "        records = random.sample(range(165000), random_subset_size)\n",
    "    else:\n",
    "        records = [start_at + item for item in range(records_to_get)]\n",
    "    if prior_records:\n",
    "        records = set(records) - set(prior_records)\n",
    "\n",
    "    for record in records:\n",
    "        corp_id = str(start_at + record)\n",
    "        # The string provided should be 9 digits long, padded by prepended by 0s\n",
    "        corp_id = corp_id.rjust(9, \"0\")\n",
    "\n",
    "        returned_page = session.get(URL_string + str(corp_id), headers=headers)\n",
    "        data_dict = parse_rhode_island_entity_summary(returned_page)\n",
    "        if data_dict:\n",
    "            # Value will be false if the page scraped is blank, so no need to save anything\n",
    "            save_data_in_elasticsearch(data_dict)\n",
    "        else:\n",
    "            failed_records += [record]\n",
    "\n",
    "        # Clear cookies to make it harder to track you between requests:\n",
    "        session.cookies.clear()\n",
    "    return failed_records"
   ]
  },
  {
   "cell_type": "markdown",
   "metadata": {},
   "source": [
    "## Uncomment & run this if it's your first time running this script:"
   ]
  },
  {
   "cell_type": "code",
   "execution_count": null,
   "metadata": {},
   "outputs": [],
   "source": [
    "# Now we finally start collecting some data\n",
    "#### ONLY RUN THIS ONCE! OTHERWISE IT WILL DELETE YOUR INDEX, DELETING ALL OF YOUR DATA!\n",
    "# failed_records = collect_rhode_island_data(start_at=0, \n",
    "#                                           records_to_get=5,\n",
    "#                                           create_index=True)"
   ]
  },
  {
   "cell_type": "markdown",
   "metadata": {},
   "source": [
    "## Otherwise load your previously saved list of failed records:"
   ]
  },
  {
   "cell_type": "code",
   "execution_count": null,
   "metadata": {},
   "outputs": [],
   "source": [
    "# Load your list of pickled failed records:\n",
    "\n",
    "#with open('failed_records', 'rb') as fp:\n",
    "#    failed_records = pickle.load(fp)"
   ]
  },
  {
   "cell_type": "markdown",
   "metadata": {},
   "source": [
    "### Rhode Island has about 165,000 companies that follow the expected URL pattern. At 1 request/second, that's ~46 hours of scraping to get everything. We could speed up the process by making bulk entries into Elasticsearch rather than making individual entries, by making multiple requests at a time, or using normal requests instead of Tor, but we don't want to overwhelm the server. Always be nice to whoever has to maintain the servers you're talking to. Scraping slowly is nice.\n",
    "\n",
    "### We don't need the full database to do some analysis. Instead of scraping everything, let's randomly pull some samples and study that subset."
   ]
  },
  {
   "cell_type": "code",
   "execution_count": null,
   "metadata": {},
   "outputs": [],
   "source": [
    "failed_records = collect_rhode_island_data(start_at=0,\n",
    "                                           random_subset_size=5,\n",
    "                                           failed_records=failed_records)"
   ]
  },
  {
   "cell_type": "code",
   "execution_count": 11,
   "metadata": {},
   "outputs": [],
   "source": [
    "# Pull prior_records from Elasticsearch so you don't pull them again:\n",
    "def get_prior_records(failed_records):\n",
    "    \"\"\"Return a list of all the IDNumbers saved in Elasticsearch, including any failed_records you want to exclude\"\"\"\n",
    "    records_search = elasticsearch.helpers.scan(\n",
    "        es, \n",
    "        query={\"query\": {\"match_all\": {}}, \"_source\":[\"IDNumber\"]},\n",
    "        index=\"ri_sos\",\n",
    "        doc_type=\"corporate_data\")\n",
    "\n",
    "    # Return these records, plus the failed_records we already knew about\n",
    "    return [item['_source']['IDNumber'] for item in list(records_search)] + failed_records"
   ]
  },
  {
   "cell_type": "code",
   "execution_count": 12,
   "metadata": {},
   "outputs": [],
   "source": [
    "# Scrape some new records, but don't repeat anything that's already saved in Elasticsearch:\n",
    "failed_records = collect_rhode_island_data(start_at=0,\n",
    "                                           random_subset_size=10,\n",
    "                                           prior_records=get_prior_records(failed_records),\n",
    "                                           failed_records=failed_records)"
   ]
  },
  {
   "cell_type": "markdown",
   "metadata": {},
   "source": [
    "### Re-run the above command whenever you want to add more new data to Elasticsearch. Remember to be nice about it! Don't do it in the middle of a workday, ask for 10,000 records at once, etc. Or don't do it at all because of its questionable legality. You can order the entire DB for $50 from their office."
   ]
  },
  {
   "cell_type": "markdown",
   "metadata": {},
   "source": [
    "# Step 2: inspect your data in Kibana"
   ]
  },
  {
   "cell_type": "code",
   "execution_count": null,
   "metadata": {},
   "outputs": [],
   "source": [
    "# Kibana gives you those pretty graphs in iframes. They're nice and easy to put on a web page.\n",
    "# I'll add them if I ever make a blog post about this."
   ]
  },
  {
   "cell_type": "markdown",
   "metadata": {},
   "source": [
    "## It's strange that there are records with InactiveDates from 1820 in my data. \n",
    "### Visual inspection of the data in Kibana shows that data with an InactiveDate is incredibly sparse until around 1985. I'm going to assume that Rhode Island didn't worry about putting in many inactive corporations into their corporate database when they created it. \n",
    "### It seems reasonable to exclude companies founded before 1984. However, that also puts a ceiling on the life expectancies of companies in my data. Whether they should be excluded or not depends on how you want to use this analysis. I'm going to leave them for now and view this as a study of companies that existed between 1985 and today, regardless of when they were founded."
   ]
  },
  {
   "cell_type": "markdown",
   "metadata": {},
   "source": [
    "# Step 3: load your data into pandas and inspect it more carefully"
   ]
  },
  {
   "cell_type": "code",
   "execution_count": 29,
   "metadata": {},
   "outputs": [
    {
     "name": "stdout",
     "output_type": "stream",
     "text": [
      "(32480, 23)\n"
     ]
    }
   ],
   "source": [
    "# Let's load the database into pandas. Our actual analysis later will only use samples that\n",
    "# have an InactiveDate, so only request data with that data. We'd also want to filter out newer\n",
    "# companies to only work with companies that have had a long time to go out of business, but\n",
    "# reviewing our data in Kibana shows that our newest data is in 2007, implying that newer\n",
    "# companies have a different URL pattern than older companies. No need to filter based on date organized.\n",
    "\n",
    "data_to_load = elasticsearch.helpers.scan(\n",
    "                    es,\n",
    "                    query={\"query\": {\"exists\": {\"field\": \"InactiveDate\"}}},\n",
    "                    index=\"ri_sos\",\n",
    "                    doc_type=\"corporate_data\")\n",
    "\n",
    "# Initialize a double ended queue\n",
    "output_all = collections.deque()\n",
    "# Extend deque with iterator\n",
    "output_all.extend(data_to_load)\n",
    "only_data = [item[\"_source\"] for item in output_all]\n",
    "\n",
    "df = json_normalize(only_data)\n",
    "print(df.shape)"
   ]
  },
  {
   "cell_type": "markdown",
   "metadata": {},
   "source": [
    "### Let's start by seeing what types of companies we have lots of data on.\n",
    "### First get the most commmon words in the names of companies."
   ]
  },
  {
   "cell_type": "code",
   "execution_count": 33,
   "metadata": {},
   "outputs": [
    {
     "name": "stdout",
     "output_type": "stream",
     "text": [
      "[('inc', 18764), ('llc', 6263), ('&', 2499), ('corporation', 1647), ('of', 1365), ('the', 1315), ('company', 1293), ('co', 1147), ('realty', 1145), ('services', 1143), ('ltd', 1031), ('associates', 1019), ('corp', 962), ('island', 842), ('and', 796), ('rhode', 718), ('construction', 696), ('enterprises', 667), ('group', 647), ('incorporated', 618)]\n"
     ]
    }
   ],
   "source": [
    "# Remove all punctuation from the names of companies\n",
    "list_of_names = [row[1] for row in df['EntityName'].iteritems()]\n",
    "\n",
    "list_of_names_no_punctuation = []\n",
    "for name in list_of_names:\n",
    "    list_of_names_no_punctuation += [re.sub('\\,|\\.|\\!|\\;|\\:|\\?|', '', name)]\n",
    "\n",
    "# Break each name into a list of words so we can count the occurrence of each word\n",
    "new_list = []\n",
    "for words in list_of_names_no_punctuation:\n",
    "    for word in words.split():\n",
    "        new_list += [word.lower()]\n",
    "\n",
    "# Count the occurrence of each word:\n",
    "name_count = Counter(new_list)\n",
    "popular_names = name_count.most_common(500)\n",
    "\n",
    "# Print the 10 most popular names:\n",
    "print(popular_names[:20])"
   ]
  },
  {
   "cell_type": "code",
   "execution_count": 34,
   "metadata": {},
   "outputs": [
    {
     "name": "stdout",
     "output_type": "stream",
     "text": [
      "[('inc', 18764), ('llc', 6263), ('&', 2499), ('corporation', 1648), ('service', 1638), ('of', 1365), ('the', 1315), ('company', 1293), ('co', 1148), ('realty', 1145), ('ltd', 1031), ('associate', 1021), ('corp', 969), ('island', 842), ('and', 796), ('rhode', 722), ('enterprise', 715), ('construction', 697), ('group', 648), ('incorporated', 618)]\n"
     ]
    }
   ],
   "source": [
    "# Let's make a 2nd list to see if the popularity changes much if we account for common word endings:\n",
    "list_of_names_no_endings = []\n",
    "for word in new_list:\n",
    "    if word [-1:] == 's':\n",
    "        list_of_names_no_endings += [word[:-1]]\n",
    "    elif word[-3:] == 'ing':\n",
    "        list_of_names_no_endings += [word[:-3]]\n",
    "    else:\n",
    "        list_of_names_no_endings += [word]\n",
    "\n",
    "# Count the occurrence of each word:\n",
    "name_count2 = Counter(list_of_names_no_endings)\n",
    "popular_names2 = name_count2.most_common(500)\n",
    "\n",
    "# Print the 10 most popular names:\n",
    "print(popular_names2[:20])"
   ]
  },
  {
   "cell_type": "markdown",
   "metadata": {},
   "source": [
    "### After some inspection, there wasn't much difference between the two lists for names of data. At least we tried. Let's filter out some unhelpful words and move on."
   ]
  },
  {
   "cell_type": "code",
   "execution_count": 37,
   "metadata": {},
   "outputs": [
    {
     "name": "stdout",
     "output_type": "stream",
     "text": [
      "[('realty', 1145), ('services', 1143), ('island', 842), ('rhode', 718), ('construction', 696), ('management', 532), ('service', 495), ('new', 469), ('properties', 423), ('development', 405), ('international', 389), ('mortgage', 353), ('systems', 353), ('england', 333), ('ri', 332), ('center', 316), ('auto', 306), ('financial', 305), ('american', 291), ('providence', 264), ('street', 264), ('home', 246), ('insurance', 233), ('investments', 229), ('communications', 210), ('entity', 207), ('business', 207), ('solutions', 205), ('not', 203), ('qualified', 200), ('into', 197), ('consulting', 195), ('capital', 195), ('sales', 190), ('**merged', 189), ('builders', 189), ('marketing', 186), ('east', 185), ('agency', 182), ('holdings', 180), ('restaurant', 180), ('products', 178), ('real', 177), ('design', 176), ('newport', 176), ('investment', 174), ('estate', 173), ('foundation', 173), ('industries', 171), ('family', 162), ('building', 157), ('health', 153), ('state', 153), ('t', 152), ('north', 150), ('care', 146), ('national', 144), ('ocean', 141), ('leasing', 140), ('america', 138), ('bay', 138), ('llp', 137), ('technologies', 131), ('hill', 131), ('jewelry', 131), ('usa', 127), ('marine', 124), ('consultants', 124), ('medical', 124), ('electric', 123), ('west', 121), ('property', 115), ('trucking', 114), ('cleaning', 112), ('south', 111), ('county', 111), ('partners', 110), ('md', 110), ('food', 108), ('productions', 107)]\n"
     ]
    }
   ],
   "source": [
    "# There are a lot of unhelpful words in this list. Let's filter out some of the common ones:\n",
    "boring_names = ['inc', 'llc', '&', 'corporation', 'the', 'of', 'company', 'associate', 'co', 'ltd', 'corp', 'and', 'enterprise',\n",
    "               'association', 'group', 'associates', 'enterprises', 'incorporated', 'a', 'limited', 'm', 'r', 'c', 'partnership',\n",
    "               'club', 'in', '', 'd', 'for', 'b', 'lp', 'e', 'h', 'g', 'k', 'p', 'l', '-', 'an', 's', 'i', 'f', 'j']\n",
    "popular_and_not_boring = [item for item in popular_names if item[0] not in boring_names]\n",
    "print(popular_and_not_boring[:80])"
   ]
  },
  {
   "cell_type": "markdown",
   "metadata": {},
   "source": [
    "# Lifespan of businesses: a quick inspection\n",
    "### Our goal is to see how long businesses in different industries stay in business. We don't have a variable for length in business yet, so let's make it."
   ]
  },
  {
   "cell_type": "code",
   "execution_count": 50,
   "metadata": {},
   "outputs": [
    {
     "name": "stdout",
     "output_type": "stream",
     "text": [
      "Returned shape: (32462, 24)\n",
      "\n",
      "count    32462.000000\n",
      "mean      3514.399174\n",
      "std       4116.308415\n",
      "min       -393.000000\n",
      "25%       1030.000000\n",
      "50%       2119.000000\n",
      "75%       4303.000000\n",
      "max      61626.000000\n",
      "Name: time_in_business, dtype: float64\n"
     ]
    }
   ],
   "source": [
    "# How many companies have out-of-business dates?\n",
    "df = df.assign(time_in_business=pd.Series(np.nan))\n",
    "\n",
    "# Convert date columns to the date format\n",
    "df['InactiveDate'] = pd.to_datetime(df['InactiveDate']).dt.date\n",
    "df['OrganisationDate'] = pd.to_datetime(df['OrganisationDate']).dt.date\n",
    "\n",
    "# Add the variable 'time_in_business' when we can calculate it:\n",
    "df.loc[df['InactiveDate'] != np.nan, 'time_in_business'] = (df['InactiveDate'] - df['OrganisationDate']).dt.days\n",
    "\n",
    "# We're trying to predict time_in_business, so let's remove all rows without a value for that\n",
    "df = df[df.time_in_business.notnull()]\n",
    "print(\"Returned shape:\", df.shape)\n",
    "print(\"\")\n",
    "\n",
    "print(df.time_in_business.describe())"
   ]
  },
  {
   "cell_type": "markdown",
   "metadata": {},
   "source": [
    "### How to deal with negative values for time_in_business if you have them in your data"
   ]
  },
  {
   "cell_type": "code",
   "execution_count": 51,
   "metadata": {},
   "outputs": [
    {
     "name": "stdout",
     "output_type": "stream",
     "text": [
      "22741    000002273\n",
      "Name: IDNumber, dtype: object\n"
     ]
    }
   ],
   "source": [
    "# How is there a negative value for time_in_business? Your sample may not have one, but mine did.\n",
    "\n",
    "weird_row = df.loc[df.time_in_business == df.time_in_business.min()]\n",
    "print(weird_row.IDNumber)"
   ]
  },
  {
   "cell_type": "code",
   "execution_count": 52,
   "metadata": {},
   "outputs": [
    {
     "name": "stdout",
     "output_type": "stream",
     "text": [
      "2236     000000417\n",
      "22067    000000417\n",
      "22741    000002273\n",
      "Name: IDNumber, dtype: object\n"
     ]
    }
   ],
   "source": [
    "# On manual inspection, Rhode Island's records do in fact show at least one company as having been \n",
    "# dissolved before it was created. That's very strange. \n",
    "# Manually inspect & delete any records with negative lifespans.\n",
    "\n",
    "weird_rows = df.loc[df.time_in_business < 0]\n",
    "print(weird_rows.IDNumber)"
   ]
  },
  {
   "cell_type": "code",
   "execution_count": 80,
   "metadata": {},
   "outputs": [
    {
     "name": "stdout",
     "output_type": "stream",
     "text": [
      "Resulting shape: (32452, 24)\n"
     ]
    }
   ],
   "source": [
    "### I'm dropping the rows that appeared in my data. Your data will most likely have different rows to drop.\n",
    "# Don't run this cell without inspecting your own data!\n",
    "\n",
    "#for value in weird_rows.index.values:\n",
    "#    df.drop(df.index[[value]], inplace=True)\n",
    "\n",
    "df.drop(df[df.time_in_business < 1].index, inplace=True)\n",
    "print(\"Resulting shape:\", df.shape)"
   ]
  },
  {
   "cell_type": "code",
   "execution_count": 66,
   "metadata": {},
   "outputs": [
    {
     "name": "stdout",
     "output_type": "stream",
     "text": [
      "       IDNumber  time_in_business\n",
      "118   000025265             36599\n",
      "406   000031053             50390\n",
      "5118  000026992             46649\n",
      "6009  000029417             43200\n",
      "6415  000030582             48010\n",
      "6501  000022645             39415\n",
      "6867  000031867             38379\n",
      "7967  000026290             37750\n",
      "8102  000001992             61626\n",
      "8419  000027238             45379\n"
     ]
    }
   ],
   "source": [
    "# The max time_in_business number I have is 61626 days, or 169 years! Does Rhode Island really have that much data?\n",
    "too_long = df.loc[df.time_in_business > 36500]\n",
    "print(too_long[[\"IDNumber\", \"time_in_business\"]][:10])\n",
    "\n",
    "# I manually inspected these in my data, and they were legit. An old bank, an old cemetery, lots of churches, etc."
   ]
  },
  {
   "cell_type": "code",
   "execution_count": 90,
   "metadata": {},
   "outputs": [
    {
     "data": {
      "image/png": "[encoded data removed]",
      "text/plain": [
       "<Figure size 432x288 with 1 Axes>"
      ]
     },
     "metadata": {
      "needs_background": "light"
     },
     "output_type": "display_data"
    }
   ],
   "source": [
    "# Let's graph the distribution to see what it looks like\n",
    "plt.hist(df.time_in_business, bins = 365,\n",
    "         color = 'blue', edgecolor = 'black')\n",
    "plt.axis([0, 10000, 0, df.shape[0] / 13])\n",
    "plt.title('Binwidth = 1 year', size = 30)\n",
    "plt.xlabel('Days in business', size = 22)\n",
    "plt.ylabel('# of companies', size= 22)\n",
    "\n",
    "plt.tight_layout()\n",
    "plt.show()"
   ]
  },
  {
   "cell_type": "code",
   "execution_count": 91,
   "metadata": {},
   "outputs": [
    {
     "name": "stdout",
     "output_type": "stream",
     "text": [
      "count    32452.000000\n",
      "mean         7.682876\n",
      "std          0.985687\n",
      "min          0.000000\n",
      "25%          6.937314\n",
      "50%          7.659171\n",
      "75%          8.367068\n",
      "max         11.028839\n",
      "Name: log_tib, dtype: float64\n"
     ]
    },
    {
     "data": {
      "image/png": "[encoded data removed]",
      "text/plain": [
       "<Figure size 432x288 with 1 Axes>"
      ]
     },
     "metadata": {
      "needs_background": "light"
     },
     "output_type": "display_data"
    }
   ],
   "source": [
    "# This variable is much more appropriate to work with as a log\n",
    "first_tib = df[[\"time_in_business\", \"IDNumber\"]].copy()\n",
    "first_tib[\"log_tib\"] = np.log(first_tib.time_in_business)\n",
    "print(first_tib.log_tib.describe())\n",
    "\n",
    "# Graph it:\n",
    "plt.hist(first_tib.log_tib, bins = 35,\n",
    "         color = 'blue', edgecolor = 'black')\n",
    "plt.axis([0, 15, 0, df.shape[0] / 8])\n",
    "plt.xlabel('Log days in business', size = 22)\n",
    "plt.ylabel('# of companies', size= 22)\n",
    "\n",
    "plt.tight_layout()\n",
    "plt.show()"
   ]
  },
  {
   "cell_type": "code",
   "execution_count": 158,
   "metadata": {},
   "outputs": [
    {
     "name": "stdout",
     "output_type": "stream",
     "text": [
      "AndersonResult(statistic=36.751465774927055, critical_values=array([0.576, 0.656, 0.787, 0.918, 1.092]), significance_level=array([15. , 10. ,  5. ,  2.5,  1. ]))\n",
      "\n",
      "87.48509339430719 1.006591699986235e-19\n",
      "This doesn't look like a normal distribution (reject H0)\n"
     ]
    }
   ],
   "source": [
    "# This looks like a normal/Gaussian distrubtion to me. Let's make sure:\n",
    "print(anderson(first_tib.log_tib))\n",
    "print(\"\")\n",
    "\n",
    "stat, p = normaltest(first_tib.log_tib)\n",
    "print(stat, p)\n",
    "if p > 0.05:\n",
    "    print('We can assume a normal distribution (fail to reject H0)')\n",
    "else:\n",
    "    print(\"This doesn't look like a normal distribution (reject H0)\")"
   ]
  },
  {
   "cell_type": "markdown",
   "metadata": {},
   "source": [
    "# What can we do about our variable of interest failing its normality tests?"
   ]
  },
  {
   "cell_type": "code",
   "execution_count": 123,
   "metadata": {},
   "outputs": [
    {
     "data": {
      "image/png": "[encoded data removed]",
      "text/plain": [
       "<Figure size 432x288 with 1 Axes>"
      ]
     },
     "execution_count": 123,
     "metadata": {},
     "output_type": "execute_result"
    },
    {
     "data": {
      "image/png": "[encoded data removed]",
      "text/plain": [
       "<Figure size 432x288 with 1 Axes>"
      ]
     },
     "metadata": {
      "needs_background": "light"
     },
     "output_type": "display_data"
    }
   ],
   "source": [
    "# Why isn't this normal? Let's make a quantile-quantile plot to inspect further:\n",
    "from statsmodels.graphics.gofplots import qqplot\n",
    "qqplot(first_tib.log_tib, line='s')   # Why is this printing 2 plots?"
   ]
  },
  {
   "cell_type": "code",
   "execution_count": 167,
   "metadata": {},
   "outputs": [
    {
     "name": "stdout",
     "output_type": "stream",
     "text": [
      "Companies with log_tib < 5:     126\n"
     ]
    }
   ],
   "source": [
    "# There are problems in the tails. That's not unexpected. Some businesses seem to shut down almost immediately,\n",
    "# and taking the log of small numbers gives small numbers. For reference, the log of half a year in days ~= 5.2.\n",
    "# There are a reasonable number of corporations that closed that quickly. \n",
    "new_df = first_tib.drop(df[first_tib.log_tib > 5].index)\n",
    "print(\"Companies with log_tib < 5:    \", new_df.shape[0])"
   ]
  },
  {
   "cell_type": "code",
   "execution_count": 169,
   "metadata": {},
   "outputs": [
    {
     "data": {
      "image/png": "[encoded data removed]",
      "text/plain": [
       "<Figure size 432x288 with 1 Axes>"
      ]
     },
     "execution_count": 169,
     "metadata": {},
     "output_type": "execute_result"
    },
    {
     "data": {
      "image/png": "[encoded data removed]",
      "text/plain": [
       "<Figure size 432x288 with 1 Axes>"
      ]
     },
     "metadata": {
      "needs_background": "light"
     },
     "output_type": "display_data"
    }
   ],
   "source": [
    "# What if we only look at data where log_tib > 5?\n",
    "smaller_tib_df = first_tib.drop(df[first_tib.log_tib < 4].index)\n",
    "qqplot(smaller_tib_df.log_tib, line='s')"
   ]
  },
  {
   "cell_type": "code",
   "execution_count": 170,
   "metadata": {},
   "outputs": [
    {
     "name": "stdout",
     "output_type": "stream",
     "text": [
      "AndersonResult(statistic=45.01966183037439, critical_values=array([0.576, 0.656, 0.787, 0.918, 1.092]), significance_level=array([15. , 10. ,  5. ,  2.5,  1. ]))\n",
      "\n",
      "262.5595106305966 9.681144021614116e-58\n",
      "This doesn't look like a normal distribution (reject H0)\n"
     ]
    }
   ],
   "source": [
    "# Normality tests on our adjusted DF:\n",
    "print(anderson(smaller_tib_df.log_tib))\n",
    "print(\"\")\n",
    "\n",
    "stat, p = normaltest(smaller_tib_df.log_tib)\n",
    "print(stat, p)\n",
    "if p > 0.05:\n",
    "    print('We can assume a normal distribution (fail to reject H0)')\n",
    "else:\n",
    "    print(\"This doesn't look like a normal distribution (reject H0)\")"
   ]
  },
  {
   "cell_type": "markdown",
   "metadata": {},
   "source": [
    "### Oof. Dropping those values made us fail the normality tests by an even larger margin."
   ]
  },
  {
   "cell_type": "code",
   "execution_count": 175,
   "metadata": {},
   "outputs": [
    {
     "name": "stdout",
     "output_type": "stream",
     "text": [
      "AndersonResult(statistic=38.81314762545662, critical_values=array([0.576, 0.656, 0.787, 0.918, 1.092]), significance_level=array([15. , 10. ,  5. ,  2.5,  1. ]))\n",
      "\n",
      "53.555046486239924 2.3478449686570937e-12\n",
      "This doesn't look like a normal distribution (reject H0)\n"
     ]
    },
    {
     "data": {
      "image/png": "[encoded data removed]",
      "text/plain": [
       "<Figure size 432x288 with 1 Axes>"
      ]
     },
     "metadata": {
      "needs_background": "light"
     },
     "output_type": "display_data"
    }
   ],
   "source": [
    "# What if, instead of dropping companies that failed super fast, we set their value to some floor value?\n",
    "\n",
    "first_tib['masked_tib'] = first_tib['log_tib']\n",
    "first_tib.loc[first_tib.log_tib < 4, 'masked_tib'] = 4\n",
    "\n",
    "# Print the Q-Q plot\n",
    "qqplot(first_tib.masked_tib, line='s')\n",
    "\n",
    "# Run the normality tests\n",
    "print(anderson(first_tib.masked_tib))\n",
    "print(\"\")\n",
    "\n",
    "stat, p = normaltest(first_tib.masked_tib)\n",
    "print(stat, p)\n",
    "if p > 0.05:\n",
    "    print('We can assume a normal distribution (fail to reject H0)')\n",
    "else:\n",
    "    print(\"This doesn't look like a normal distribution (reject H0)\")"
   ]
  },
  {
   "cell_type": "markdown",
   "metadata": {},
   "source": [
    "### Setting a lower limit for log(time_in_business) made things better, but not very meaningfully.\n",
    "### Let's see if Box-Cox can do any better."
   ]
  },
  {
   "cell_type": "code",
   "execution_count": 142,
   "metadata": {},
   "outputs": [
    {
     "name": "stdout",
     "output_type": "stream",
     "text": [
      "(32452, 3)\n",
      "32452\n"
     ]
    },
    {
     "data": {
      "image/png": "[encoded data removed]",
      "text/plain": [
       "<Figure size 432x288 with 1 Axes>"
      ]
     },
     "metadata": {
      "needs_background": "light"
     },
     "output_type": "display_data"
    }
   ],
   "source": [
    "first_tib['bc_tib'] = boxcox(df.time_in_business)[0]\n",
    "\n",
    "# Graph it:\n",
    "plt.hist(first_tib.bc_tib, bins = 35, edgecolor = 'black')\n",
    "plt.axis([0, 15, 0, df.shape[0] / 8])\n",
    "plt.xlabel('Box-coxed days in business', size = 22)\n",
    "plt.ylabel('# of companies', size= 22)\n",
    "\n",
    "plt.tight_layout()\n",
    "plt.show()"
   ]
  },
  {
   "cell_type": "code",
   "execution_count": 177,
   "metadata": {},
   "outputs": [
    {
     "name": "stdout",
     "output_type": "stream",
     "text": [
      "AndersonResult(statistic=36.91993096729129, critical_values=array([0.576, 0.656, 0.787, 0.918, 1.092]), significance_level=array([15. , 10. ,  5. ,  2.5,  1. ]))\n",
      "\n",
      "85.84543078783886 2.285080773027192e-19\n",
      "This doesn't look like a normal distribution (reject H0)\n"
     ]
    }
   ],
   "source": [
    "# Normality tests again:\n",
    "print(anderson(first_tib.bc_tib))\n",
    "print(\"\")\n",
    "\n",
    "stat, p = normaltest(first_tib.bc_tib)\n",
    "print(stat, p)\n",
    "if p > 0.05:\n",
    "    print('We can assume a normal distribution (fail to reject H0)')\n",
    "else:\n",
    "    print(\"This doesn't look like a normal distribution (reject H0)\")"
   ]
  },
  {
   "cell_type": "code",
   "execution_count": 145,
   "metadata": {},
   "outputs": [
    {
     "data": {
      "image/png": "[encoded data removed]",
      "text/plain": [
       "<Figure size 432x288 with 1 Axes>"
      ]
     },
     "execution_count": 145,
     "metadata": {},
     "output_type": "execute_result"
    },
    {
     "data": {
      "image/png": "[encoded data removed]",
      "text/plain": [
       "<Figure size 432x288 with 1 Axes>"
      ]
     },
     "metadata": {
      "needs_background": "light"
     },
     "output_type": "display_data"
    }
   ],
   "source": [
    "qqplot(first_tib.bc_tib, line='s')"
   ]
  },
  {
   "cell_type": "markdown",
   "metadata": {},
   "source": [
    "### Our data with a floor did better than Box-Cox, but none of our adjustmented distributions are technically Gaussian. However, visually they all appear so close to Gaussian that we're going to assume that we're close enough and won't violate any normality assumptions for parametric methods."
   ]
  },
  {
   "cell_type": "code",
   "execution_count": 178,
   "metadata": {},
   "outputs": [],
   "source": [
    "# Since we have to pick 1, let's use our \n",
    "df[\"log_time_in_business\"] = first_tib['masked_tib']"
   ]
  },
  {
   "cell_type": "markdown",
   "metadata": {},
   "source": [
    "#### We should inspect our other variables further, especially since we found some weird values in time_in_business. It's also worth inspecting whether we should log other variables, like the number of directors & officers. However, this is more a proof-of-concept, so I'll worry about that later."
   ]
  },
  {
   "cell_type": "markdown",
   "metadata": {},
   "source": [
    "### Time to learn something. Which companies stay in business longer?"
   ]
  },
  {
   "cell_type": "code",
   "execution_count": 93,
   "metadata": {},
   "outputs": [],
   "source": [
    "# You can't dynamically create keywords in Python, so here's the long & ugly way to do this:\n",
    "df = df.assign(contains_realty=pd.Series(False))\n",
    "df = df.assign(contains_construction=pd.Series(False))\n",
    "df = df.assign(contains_investment=pd.Series(False))\n",
    "df = df.assign(contains_auto=pd.Series(False))\n",
    "df = df.assign(contains_cleaning=pd.Series(False))\n",
    "df = df.assign(contains_national=pd.Series(False))\n",
    "df = df.assign(contains_state=pd.Series(False))\n",
    "df = df.assign(contains_electric=pd.Series(False))\n",
    "df = df.assign(contains_health=pd.Series(False))\n",
    "df = df.assign(contains_marine=pd.Series(False))\n",
    "df = df.assign(contains_marketing=pd.Series(False))\n",
    "df = df.assign(contains_restaurant=pd.Series(False))\n",
    "df = df.assign(contains_jewelry=pd.Series(False))\n",
    "df = df.assign(contains_technologies=pd.Series(False))\n",
    "df = df.assign(contains_supply=pd.Series(False))\n",
    "df = df.assign(contains_church=pd.Series(False))\n",
    "df = df.assign(contains_not=pd.Series(False))\n",
    "df = df.assign(contains_new=pd.Series(False))\n",
    "\n",
    "df.contains_realty = df.EntityName.str.contains('realty', case=False, regex=False)\n",
    "df.contains_construction = df.EntityName.str.contains('construction', case=False, regex=False)\n",
    "df.contains_investment = df.EntityName.str.contains('investment', case=False, regex=False)\n",
    "df.contains_auto = df.EntityName.str.contains('auto', case=False, regex=False)\n",
    "df.contains_cleaning = df.EntityName.str.contains('cleaning', case=False, regex=False)\n",
    "df.contains_national = df.EntityName.str.contains('national', case=False, regex=False)\n",
    "df.contains_state = df.EntityName.str.contains('state', case=False, regex=False)\n",
    "df.contains_electric = df.EntityName.str.contains('electric', case=False, regex=False)\n",
    "df.contains_health = df.EntityName.str.contains('health', case=False, regex=False)\n",
    "df.contains_marine = df.EntityName.str.contains('marine', case=False, regex=False)\n",
    "df.contains_marketing = df.EntityName.str.contains('marketing', case=False, regex=False)\n",
    "df.contains_restaurant = df.EntityName.str.contains('restaurant', case=False, regex=False)\n",
    "df.contains_jewelry = df.EntityName.str.contains('jewelry', case=False, regex=False)\n",
    "df.contains_technologies = df.EntityName.str.contains('technologies', case=False, regex=False)\n",
    "df.contains_supply = df.EntityName.str.contains('supply', case=False, regex=False)\n",
    "df.contains_church = df.EntityName.str.contains('church', case=False, regex=False)\n",
    "df.contains_not = df.EntityName.str.contains('not', case=False, regex=False)\n",
    "df.contains_new = df.EntityName.str.contains('new', case=False, regex=False)"
   ]
  },
  {
   "cell_type": "code",
   "execution_count": 100,
   "metadata": {},
   "outputs": [
    {
     "name": "stdout",
     "output_type": "stream",
     "text": [
      "Realty: 4609.0 days\n"
     ]
    }
   ],
   "source": []
  },
  {
   "cell_type": "code",
   "execution_count": 101,
   "metadata": {},
   "outputs": [
    {
     "name": "stdout",
     "output_type": "stream",
     "text": [
      "Average life expectancy\n",
      "Realty: 4609.0 days\n",
      "Construction: 3137.0 days\n",
      "Investment: 2736.0 days\n",
      "Auto: 3769.0 days\n",
      "Cleaning: 2165.0 days\n",
      "National: 3133.0 days\n",
      "State: 3416.0 days\n",
      "Electric: 5700.0 days\n",
      "Health: 2822.0 days\n",
      "Marine: 3198.0 days\n",
      "Marketing: 2200.0 days\n",
      "Restaurant: 2995.0 days\n",
      "Jewelry: 4747.0 days\n",
      "Technologies: 2479.0 days\n",
      "Supply: 5370.0 days\n",
      "Church: 7869.0 days\n",
      "\n",
      "Just for curiosity:\n",
      "Not: 4191.0 days\n",
      "New: 3579.0 days\n"
     ]
    }
   ],
   "source": [
    "# Average days in business for different types of businesses (only including businesses that have gone out of business)\n",
    "print(\"Average life expectancy\")\n",
    "print(\"Realty:\", round(df.loc[df.contains_realty == True, \"time_in_business\"].mean(), 0), \"days\")\n",
    "print(\"Construction:\", round(df.loc[df.contains_construction == True, \"time_in_business\"].mean(), 0), \"days\")\n",
    "print(\"Investment:\", round(df.loc[df.contains_investment == True, \"time_in_business\"].mean(), 0), \"days\")\n",
    "print(\"Auto:\", round(df.loc[df.contains_auto == True, \"time_in_business\"].mean(), 0), \"days\")\n",
    "print(\"Cleaning:\", round(df.loc[df.contains_cleaning == True, \"time_in_business\"].mean(), 0), \"days\")\n",
    "print(\"National:\", round(df.loc[df.contains_national == True, \"time_in_business\"].mean(), 0), \"days\")\n",
    "print(\"State:\", round(df.loc[df.contains_state == True, \"time_in_business\"].mean(), 0), \"days\")\n",
    "print(\"Electric:\", round(df.loc[df.contains_electric == True, \"time_in_business\"].mean(), 0), \"days\")\n",
    "print(\"Health:\", round(df.loc[df.contains_health == True, \"time_in_business\"].mean(), 0), \"days\")\n",
    "print(\"Marine:\", round(df.loc[df.contains_marine == True, \"time_in_business\"].mean(), 0), \"days\")\n",
    "print(\"Marketing:\", round(df.loc[df.contains_marketing == True, \"time_in_business\"].mean(), 0), \"days\")\n",
    "print(\"Restaurant:\", round(df.loc[df.contains_restaurant == True, \"time_in_business\"].mean(), 0), \"days\")\n",
    "print(\"Jewelry:\", round(df.loc[df.contains_jewelry == True, \"time_in_business\"].mean(), 0), \"days\")\n",
    "print(\"Technologies:\", round(df.loc[df.contains_technologies == True, \"time_in_business\"].mean(), 0), \"days\")\n",
    "print(\"Supply:\", round(df.loc[df.contains_supply == True, \"time_in_business\"].mean(), 0), \"days\")\n",
    "print(\"Church:\", round(df.loc[df.contains_church == True, \"time_in_business\"].mean(), 0), \"days\")\n",
    "print(\"\")\n",
    "print(\"Just for curiosity:\")\n",
    "print(\"Not:\", round(df.loc[df.contains_not == True, \"time_in_business\"].mean(), 0), \"days\")\n",
    "print(\"New:\", round(df.loc[df.contains_new == True, \"time_in_business\"].mean(), 0), \"days\")"
   ]
  },
  {
   "cell_type": "markdown",
   "metadata": {
    "collapsed": true
   },
   "source": [
    "### With the random sample I used, some differences were substantial. It looks like we may fhave some good predictors.\n",
    "### Let's make the last few variables we're going to use: the number of directors & officers listed, a word-count for the Comments variable similar to what we did for company names, and dummy variables for the type of legal entity registered"
   ]
  },
  {
   "cell_type": "code",
   "execution_count": 102,
   "metadata": {},
   "outputs": [],
   "source": [
    "# The D&O data I grabbed isn't very good. I should have saved a count for each row containing data \n",
    "# in the Directors & Officers table, but I grabbed the values instead. \n",
    "# There are lots of clever things we could do, like count the number of words coercible into integers \n",
    "# (1 per street address plus 1 per zip code), count how often \"USA\" shows up as the country code, etc, but\n",
    "# since this isn't my real, final product, I'm going to take the easy way out & count the number of characters\n",
    "# present in the field. That should serve as a fine proxy.\n",
    "df['officers_listed'] = df.apply(lambda row: len(row.d_and_o), axis=1)"
   ]
  },
  {
   "cell_type": "code",
   "execution_count": 103,
   "metadata": {},
   "outputs": [],
   "source": [
    "# The Comments variable is also called \"Purpose\" on Rhode Island's website. It's intended to be where companies describe\n",
    "# what kind of business they intend to do. Most companies give at least a brief answer, but plenty don't.\n",
    "# My favorite common fake response is \"Any Lawful Purpose.\"\n",
    "\n",
    "# Remove all punctuation and newline characters\n",
    "list_of_comments = [row[1] for row in df.itertuples()]\n",
    "list_of_comments_no_punctuation = []\n",
    "for name in list_of_comments:\n",
    "    name = name.replace('\\n', ' ')\n",
    "    list_of_comments_no_punctuation += [re.sub('\\,|\\.|\\!|\\;|\\:|\\?|', '', name)]\n",
    "\n",
    "# Break each name into a list of words so we can count the occurrence of each word\n",
    "new_list = []\n",
    "for words in list_of_comments_no_punctuation:\n",
    "    for word in words.split():\n",
    "        new_list += [word.lower()]\n",
    "\n",
    "# Count the occurrence of each word:\n",
    "name_count = Counter(new_list)\n",
    "popular_names = name_count.most_common(500)"
   ]
  },
  {
   "cell_type": "code",
   "execution_count": 104,
   "metadata": {},
   "outputs": [],
   "source": [
    "# Filter out the common & unhelpful words. Look at the resulting list to pick out worthwhile words to focus on.\n",
    "# The number clusters are references to the Rhode Island code, typically Title 7.1, which has been repealed.\n",
    "# There's definitely some good information in which code people are quoting, but it'd take more research to discover that.\n",
    "boring_names = ['inc', 'llc', '&', 'corporation', 'the', 'of', 'company', 'associate', 'co', 'ltd', 'corp', 'and', 'enterprise',\n",
    "               'association', 'group', 'associates', 'enterprises', 'incorporated', 'a', 'limited', 'm', 'r', 'c', 'partnership',\n",
    "               'club', 'in', '', 'd', 'for', 'b', 'lp', 'e', 'h', 'g', 'k', 'p', 'l', '-', 'an', 's', 'title', '7-6', '7-16',\n",
    "               '7-11-51', 'to', '7-11', '7-12-1405', '7-13-8', '7', '7-12-1701', 'as', '116', 'on', 'gl', 'at', '1956',\n",
    "               'business', 'operate']\n",
    "popular_and_not_boring = [item for item in popular_names if item[0] not in boring_names]\n",
    "#print(popular_and_not_boring[:80])"
   ]
  },
  {
   "cell_type": "code",
   "execution_count": 105,
   "metadata": {},
   "outputs": [],
   "source": [
    "# You can't dynamically create keywords in Python, so here's the long & ugly way to do this:\n",
    "df = df.assign(comments_contains_retail=pd.Series(False))\n",
    "df = df.assign(comments_contains_management=pd.Series(False))\n",
    "df = df.assign(comments_contains_construction=pd.Series(False))\n",
    "df = df.assign(comments_contains_property=pd.Series(False))\n",
    "df = df.assign(comments_contains_commercial=pd.Series(False))\n",
    "df = df.assign(comments_contains_residential=pd.Series(False))\n",
    "df = df.assign(comments_contains_mortgage=pd.Series(False))\n",
    "df = df.assign(comments_contains_rental=pd.Series(False))\n",
    "df = df.assign(comments_contains_development=pd.Series(False))\n",
    "df = df.assign(comments_contains_restaurant=pd.Series(False))\n",
    "df = df.assign(comments_contains_manage=pd.Series(False))\n",
    "df = df.assign(comments_contains_purchase=pd.Series(False))\n",
    "df = df.assign(comments_contains_food=pd.Series(False))\n",
    "df = df.assign(comments_contains_insurance=pd.Series(False))\n",
    "df = df.assign(comments_contains_equipment=pd.Series(False))\n",
    "df = df.assign(comments_contains_holding=pd.Series(False))\n",
    "df = df.assign(comments_contains_investment=pd.Series(False))\n",
    "df = df.assign(comments_contains_manufacture=pd.Series(False))\n",
    "df = df.assign(comments_contains_design=pd.Series(False))\n",
    "df = df.assign(comments_contains_distribution=pd.Series(False))\n",
    "df = df.assign(comments_contains_maintenance=pd.Series(False))\n",
    "df = df.assign(comments_contains_practice=pd.Series(False))\n",
    "df = df.assign(comments_contains_computer=pd.Series(False))\n",
    "df = df.assign(comments_contains_contracting=pd.Series(False))\n",
    "df = df.assign(comments_contains_health=pd.Series(False))\n",
    "df = df.assign(comments_contains_medical=pd.Series(False))\n",
    "df = df.assign(comments_contains_marketing=pd.Series(False))\n",
    "df = df.assign(comments_contains_installation=pd.Series(False))\n",
    "df = df.assign(comments_contains_jewelry=pd.Series(False))\n",
    "df = df.assign(comments_contains_educational=pd.Series(False))\n",
    "df = df.assign(comments_contains_engineering=pd.Series(False))\n",
    "df = df.assign(comments_contains_community=pd.Series(False))\n",
    "\n",
    "df.comments_contains_retail = df.Comments.str.contains('retail', case=False, regex=False)\n",
    "df.comments_contains_management = df.Comments.str.contains('management', case=False, regex=False)\n",
    "df.comments_contains_construction = df.Comments.str.contains('construction', case=False, regex=False)\n",
    "df.comments_contains_property = df.Comments.str.contains('property', case=False, regex=False)\n",
    "df.comments_contains_development = df.Comments.str.contains('development', case=False, regex=False)\n",
    "df.comments_contains_commercial = df.Comments.str.contains('commercial', case=False, regex=False)\n",
    "df.comments_contains_residential = df.Comments.str.contains('residential', case=False, regex=False)\n",
    "df.comments_contains_mortgage = df.Comments.str.contains('mortgage', case=False, regex=False)\n",
    "df.comments_contains_rental = df.Comments.str.contains('rental', case=False, regex=False)\n",
    "df.comments_contains_restaurant = df.Comments.str.contains('restaurant', case=False, regex=False)\n",
    "df.comments_contains_manage = df.Comments.str.contains('manage', case=False, regex=False)\n",
    "df.comments_contains_purchase = df.Comments.str.contains('purchase', case=False, regex=False)\n",
    "df.comments_contains_food = df.Comments.str.contains('food', case=False, regex=False)\n",
    "df.comments_contains_insurance = df.Comments.str.contains('insurance', case=False, regex=False)\n",
    "df.comments_contains_equipment = df.Comments.str.contains('equipment', case=False, regex=False)\n",
    "df.comments_contains_holding = df.Comments.str.contains('holding', case=False, regex=False)\n",
    "df.comments_contains_investment = df.Comments.str.contains('investment', case=False, regex=False)\n",
    "df.comments_contains_manufacture = df.Comments.str.contains('manufacture', case=False, regex=False)\n",
    "df.comments_contains_design = df.Comments.str.contains('design', case=False, regex=False)\n",
    "df.comments_contains_distribution = df.Comments.str.contains('distribution', case=False, regex=False)\n",
    "df.comments_contains_maintenance = df.Comments.str.contains('maintenance', case=False, regex=False)\n",
    "df.comments_contains_practice = df.Comments.str.contains('practice', case=False, regex=False)\n",
    "df.comments_contains_computer = df.Comments.str.contains('computer', case=False, regex=False)\n",
    "df.comments_contains_contracting = df.Comments.str.contains('contracting', case=False, regex=False)\n",
    "df.comments_contains_health = df.Comments.str.contains('health', case=False, regex=False)\n",
    "df.comments_contains_medical = df.Comments.str.contains('medical', case=False, regex=False)\n",
    "df.comments_contains_marketing = df.Comments.str.contains('marketing', case=False, regex=False)\n",
    "df.comments_contains_installation = df.Comments.str.contains('installation', case=False, regex=False)\n",
    "df.comments_contains_jewelry = df.Comments.str.contains('jewelry', case=False, regex=False)\n",
    "df.comments_contains_educational = df.Comments.str.contains('educational', case=False, regex=False)\n",
    "df.comments_contains_engineering = df.Comments.str.contains('engineering', case=False, regex=False)\n",
    "df.comments_contains_community = df.Comments.str.contains('community', case=False, regex=False)"
   ]
  },
  {
   "cell_type": "code",
   "execution_count": 106,
   "metadata": {},
   "outputs": [],
   "source": [
    "# Make dummy variables for all the types of legal entities that have been registered. We'll use all of them\n",
    "# but one in the analysis ('Foreign Corporation').\n",
    "reg_df = pd.concat([df, pd.get_dummies(df['EntityType'])], axis=1)"
   ]
  },
  {
   "cell_type": "code",
   "execution_count": 107,
   "metadata": {},
   "outputs": [],
   "source": [
    "explanatory_variables = ['comments_contains_retail', 'comments_contains_management', 'comments_contains_construction',\n",
    "                        'comments_contains_property', 'comments_contains_development', 'comments_contains_commercial',\n",
    "                        'comments_contains_residential', 'comments_contains_mortgage', 'comments_contains_rental',\n",
    "                        'comments_contains_restaurant', 'comments_contains_manage', 'comments_contains_purchase',\n",
    "                        'comments_contains_food', 'comments_contains_insurance', 'comments_contains_equipment',\n",
    "                        'comments_contains_holding', 'comments_contains_investment', 'comments_contains_manufacture',\n",
    "                        'comments_contains_design', 'comments_contains_distribution', 'comments_contains_maintenance',\n",
    "                        'comments_contains_practice', 'comments_contains_computer', 'comments_contains_contracting',\n",
    "                        'comments_contains_health', 'comments_contains_medical', 'comments_contains_marketing',\n",
    "                        'comments_contains_installation', 'comments_contains_jewelry', 'comments_contains_educational',\n",
    "                        'comments_contains_engineering', 'comments_contains_community',\n",
    "                        'contains_realty', 'contains_construction', 'contains_investment', 'contains_auto', \n",
    "                        'contains_cleaning', 'contains_national', 'contains_state', 'contains_electric', 'contains_health',\n",
    "                        'contains_marine', 'contains_marketing', 'contains_restaurant', 'contains_jewelry',\n",
    "                        'contains_technologies', 'contains_supply', 'contains_church',\n",
    "                        'Bank', 'Credit Union', 'Domestic Limited Liability Company', 'Domestic Limited Liability Partnership',\n",
    "                        'Domestic Limited Partnership', 'Domestic Non-Profit Corporation', 'Domestic Profit Corporation',\n",
    "                        'Foreign Limited Liability Company', 'Foreign Limited Partnership', 'Foreign Non-Profit Corporation',\n",
    "                        'Foreign Registered Limited Liability Partnership', 'Insurance', 'Professional Service Corporation',\n",
    "                        'officers_listed']\n",
    "\n",
    "# time_in_business as days\n",
    "X_train, X_test, y_train, y_test = train_test_split(reg_df[explanatory_variables],\n",
    "                                                    reg_df['time_in_business'],\n",
    "                                                    test_size=0.2,\n",
    "                                                    random_state=5)\n",
    "\n",
    "# log_time_in_business\n",
    "X_train_logged, X_test_logged, y_train_logged, y_test_logged = train_test_split(reg_df[explanatory_variables],\n",
    "                                                                reg_df['log_time_in_business'],\n",
    "                                                                test_size=0.2,\n",
    "                                                                random_state=5)"
   ]
  },
  {
   "cell_type": "markdown",
   "metadata": {},
   "source": [
    "# Step 5: make some models"
   ]
  },
  {
   "cell_type": "code",
   "execution_count": null,
   "metadata": {},
   "outputs": [],
   "source": [
    "# Bigger question: if I give you details about a new company, can you predict how long they'll be in business?\n",
    "# That's appropriate for a normal linear regression, assuming we ignore the censoring issue for still-in-business companies."
   ]
  },
  {
   "cell_type": "markdown",
   "metadata": {},
   "source": [
    "## Start with a basic elastic net model, modeling time in business in days (not the log)"
   ]
  },
  {
   "cell_type": "code",
   "execution_count": 108,
   "metadata": {},
   "outputs": [
    {
     "name": "stdout",
     "output_type": "stream",
     "text": [
      "                            OLS Regression Results                            \n",
      "==============================================================================\n",
      "Dep. Variable:       time_in_business   R-squared:                       0.454\n",
      "Model:                            OLS   Adj. R-squared:                  0.453\n",
      "Method:                 Least Squares   F-statistic:                     347.1\n",
      "Date:                Tue, 26 Feb 2019   Prob (F-statistic):               0.00\n",
      "Time:                        14:54:38   Log-Likelihood:            -2.5215e+05\n",
      "No. Observations:               25961   AIC:                         5.044e+05\n",
      "Df Residuals:                   25899   BIC:                         5.049e+05\n",
      "Df Model:                          62                                         \n",
      "Covariance Type:            nonrobust                                         \n",
      "====================================================================================================================\n",
      "                                                       coef    std err          t      P>|t|      [0.025      0.975]\n",
      "--------------------------------------------------------------------------------------------------------------------\n",
      "comments_contains_retail                           601.7500    141.605      4.249      0.000     324.195     879.305\n",
      "comments_contains_management                       608.9526    264.392      2.303      0.021      90.729    1127.176\n",
      "comments_contains_construction                      94.0076    170.486      0.551      0.581    -240.154     428.169\n",
      "comments_contains_property                         143.7148    184.197      0.780      0.435    -217.321     504.750\n",
      "comments_contains_development                     -163.0643    184.252     -0.885      0.376    -524.208     198.079\n",
      "comments_contains_commercial                       208.3144    222.678      0.935      0.350    -228.146     644.775\n",
      "comments_contains_residential                     -330.3581    242.452     -1.363      0.173    -805.577     144.861\n",
      "comments_contains_mortgage                         537.6291    214.787      2.503      0.012     116.635     958.623\n",
      "comments_contains_rental                          1677.4306    248.864      6.740      0.000    1189.642    2165.219\n",
      "comments_contains_restaurant                       385.6253    184.144      2.094      0.036      24.692     746.559\n",
      "comments_contains_manage                          -364.1451    211.935     -1.718      0.086    -779.549      51.259\n",
      "comments_contains_purchase                        -211.9028    211.243     -1.003      0.316    -625.950     202.145\n",
      "comments_contains_food                            -555.4901    200.088     -2.776      0.006    -947.674    -163.306\n",
      "comments_contains_insurance                       1097.0779    241.801      4.537      0.000     623.135    1571.021\n",
      "comments_contains_equipment                        923.5605    212.596      4.344      0.000     506.861    1340.260\n",
      "comments_contains_holding                         1508.8517    255.108      5.915      0.000    1008.826    2008.877\n",
      "comments_contains_investment                       683.7703    220.172      3.106      0.002     252.221    1115.320\n",
      "comments_contains_manufacture                     1268.7712    201.838      6.286      0.000     873.158    1664.385\n",
      "comments_contains_design                            23.3959    205.600      0.114      0.909    -379.591     426.383\n",
      "comments_contains_distribution                    -110.5916    259.043     -0.427      0.669    -618.330     397.147\n",
      "comments_contains_maintenance                     -381.0825    295.706     -1.289      0.198    -960.682     198.517\n",
      "comments_contains_practice                         220.2249    317.262      0.694      0.488    -401.626     842.076\n",
      "comments_contains_computer                         115.1672    256.976      0.448      0.654    -388.520     618.855\n",
      "comments_contains_contracting                      111.5240    299.320      0.373      0.709    -475.159     698.207\n",
      "comments_contains_health                          -468.0450    288.639     -1.622      0.105   -1033.794      97.704\n",
      "comments_contains_medical                          585.1946    322.143      1.817      0.069     -46.224    1216.613\n",
      "comments_contains_marketing                         11.5141    254.382      0.045      0.964    -487.089     510.117\n",
      "comments_contains_installation                      20.5933    265.629      0.078      0.938    -500.054     541.241\n",
      "comments_contains_jewelry                         1610.1329    290.255      5.547      0.000    1041.217    2179.048\n",
      "comments_contains_educational                     -675.9489    362.239     -1.866      0.062   -1385.958      34.060\n",
      "comments_contains_engineering                     1282.3063    380.856      3.367      0.001     535.808    2028.805\n",
      "comments_contains_community                       -368.8525    389.598     -0.947      0.344   -1132.486     394.781\n",
      "contains_realty                                   1708.4363    139.057     12.286      0.000    1435.878    1980.995\n",
      "contains_construction                              178.9939    180.824      0.990      0.322    -175.431     533.419\n",
      "contains_investment                               -402.5226    225.569     -1.784      0.074    -844.650      39.605\n",
      "contains_auto                                      378.5226    215.341      1.758      0.079     -43.558     800.603\n",
      "contains_cleaning                                -1035.8141    408.887     -2.533      0.011   -1837.255    -234.373\n",
      "contains_national                                  110.4572    199.396      0.554      0.580    -280.370     501.285\n",
      "contains_state                                      66.1207    209.745      0.315      0.753    -344.992     477.233\n",
      "contains_electric                                 2410.5767    378.673      6.366      0.000    1668.356    3152.797\n",
      "contains_health                                     -5.5358    312.847     -0.018      0.986    -618.733     607.661\n",
      "contains_marine                                     49.1875    370.087      0.133      0.894    -676.203     774.578\n",
      "contains_marketing                                -602.4444    318.833     -1.890      0.059   -1227.375      22.487\n",
      "contains_restaurant                               -310.8375    328.124     -0.947      0.343    -953.979     332.304\n",
      "contains_jewelry                                   366.7345    415.274      0.883      0.377    -447.225    1180.694\n",
      "contains_technologies                             -430.7810    394.515     -1.092      0.275   -1204.053     342.491\n",
      "contains_supply                                   2546.1264    474.173      5.370      0.000    1616.721    3475.532\n",
      "contains_church                                   3224.8969    469.602      6.867      0.000    2304.451    4145.343\n",
      "Bank                                               3.24e+04   2001.435     16.187      0.000    2.85e+04    3.63e+04\n",
      "Credit Union                                      1.406e+04   2311.041      6.086      0.000    9534.890    1.86e+04\n",
      "Domestic Limited Liability Company                1773.6274     65.070     27.257      0.000    1646.086    1901.168\n",
      "Domestic Limited Liability Partnership             668.6761    462.765      1.445      0.148    -238.370    1575.722\n",
      "Domestic Limited Partnership                      4538.8111    314.769     14.419      0.000    3921.846    5155.776\n",
      "Domestic Non-Profit Corporation                   4515.9722    101.394     44.539      0.000    4317.234    4714.710\n",
      "Domestic Profit Corporation                       2903.0425     40.675     71.371      0.000    2823.317    2982.768\n",
      "Foreign Limited Liability Company                 1794.9822    155.386     11.552      0.000    1490.418    2099.547\n",
      "Foreign Limited Partnership                       2481.0915    451.308      5.498      0.000    1596.503    3365.680\n",
      "Foreign Non-Profit Corporation                    1664.6699    393.983      4.225      0.000     892.441    2436.899\n",
      "Foreign Registered Limited Liability Partnership  1162.1542    836.108      1.390      0.165    -476.663    2800.972\n",
      "Insurance                                         4985.5104   1790.750      2.784      0.005    1475.542    8495.479\n",
      "Professional Service Corporation                  5161.4773    315.518     16.359      0.000    4543.045    5779.910\n",
      "officers_listed                                    206.5580      5.182     39.858      0.000     196.400     216.716\n",
      "==============================================================================\n",
      "Omnibus:                    15108.145   Durbin-Watson:                   1.987\n",
      "Prob(Omnibus):                  0.000   Jarque-Bera (JB):           338011.971\n",
      "Skew:                           2.367   Prob(JB):                         0.00\n",
      "Kurtosis:                      20.031   Cond. No.                         534.\n",
      "==============================================================================\n",
      "\n",
      "Warnings:\n",
      "[1] Standard Errors assume that the covariance matrix of the errors is correctly specified.\n"
     ]
    }
   ],
   "source": [
    "# We have so many variables here that overfitting is a reasonable concern. Let's go with an elastic net model\n",
    "# as a first line of defense.\n",
    "\n",
    "e_net = sm.OLS(y_train, X_train.astype(float), L1_wt=.5)\n",
    "print(e_net.fit().summary())"
   ]
  },
  {
   "cell_type": "code",
   "execution_count": 109,
   "metadata": {},
   "outputs": [
    {
     "name": "stdout",
     "output_type": "stream",
     "text": [
      "                            OLS Regression Results                            \n",
      "==============================================================================\n",
      "Dep. Variable:       time_in_business   R-squared:                       0.453\n",
      "Model:                            OLS   Adj. R-squared:                  0.453\n",
      "Method:                 Least Squares   F-statistic:                     597.3\n",
      "Date:                Tue, 26 Feb 2019   Prob (F-statistic):               0.00\n",
      "Time:                        14:54:55   Log-Likelihood:            -2.5216e+05\n",
      "No. Observations:               25961   AIC:                         5.044e+05\n",
      "Df Residuals:                   25925   BIC:                         5.047e+05\n",
      "Df Model:                          36                                         \n",
      "Covariance Type:            nonrobust                                         \n",
      "======================================================================================================\n",
      "                                         coef    std err          t      P>|t|      [0.025      0.975]\n",
      "------------------------------------------------------------------------------------------------------\n",
      "comments_contains_retail             592.2121    141.375      4.189      0.000     315.109     869.315\n",
      "comments_contains_management         611.1967    263.024      2.324      0.020      95.654    1126.739\n",
      "comments_contains_mortgage           491.2451    211.703      2.320      0.020      76.296     906.194\n",
      "comments_contains_rental            1670.4413    247.353      6.753      0.000    1185.615    2155.268\n",
      "comments_contains_restaurant         342.6206    179.398      1.910      0.056      -9.009     694.250\n",
      "comments_contains_manage            -370.6972    209.294     -1.771      0.077    -780.926      39.531\n",
      "comments_contains_food              -573.1853    199.509     -2.873      0.004    -964.234    -182.137\n",
      "comments_contains_insurance         1096.6796    241.240      4.546      0.000     623.835    1569.524\n",
      "comments_contains_equipment          905.9222    210.983      4.294      0.000     492.383    1319.461\n",
      "comments_contains_holding           1518.3094    254.622      5.963      0.000    1019.237    2017.382\n",
      "comments_contains_investment         694.2195    219.398      3.164      0.002     264.188    1124.251\n",
      "comments_contains_manufacture       1260.9594    199.120      6.333      0.000     870.674    1651.245\n",
      "comments_contains_medical            590.8227    314.336      1.880      0.060     -25.294    1206.939\n",
      "comments_contains_jewelry           1658.0719    281.975      5.880      0.000    1105.386    2210.758\n",
      "comments_contains_educational       -703.0684    361.876     -1.943      0.052   -1412.365       6.228\n",
      "comments_contains_engineering       1321.5847    379.151      3.486      0.000     578.428    2064.742\n",
      "contains_realty                     1703.1002    138.586     12.289      0.000    1431.464    1974.736\n",
      "contains_investment                 -403.9711    225.280     -1.793      0.073    -845.533      37.590\n",
      "contains_auto                        371.9614    215.170      1.729      0.084     -49.785     793.707\n",
      "contains_cleaning                  -1072.1475    407.604     -2.630      0.009   -1871.073    -273.222\n",
      "contains_electric                   2413.4279    372.943      6.471      0.000    1682.440    3144.416\n",
      "contains_marketing                  -599.8143    314.493     -1.907      0.057   -1216.238      16.609\n",
      "contains_supply                     2539.0982    473.501      5.362      0.000    1611.010    3467.186\n",
      "contains_church                     3225.4938    469.351      6.872      0.000    2305.540    4145.448\n",
      "Bank                                 3.24e+04   2001.237     16.190      0.000    2.85e+04    3.63e+04\n",
      "Credit Union                        1.407e+04   2310.812      6.087      0.000    9536.874    1.86e+04\n",
      "Domestic Limited Liability Company  1772.0239     63.939     27.714      0.000    1646.700    1897.348\n",
      "Domestic Limited Partnership        4539.4644    314.735     14.423      0.000    3922.566    5156.363\n",
      "Domestic Non-Profit Corporation     4493.4650     99.109     45.338      0.000    4299.205    4687.725\n",
      "Domestic Profit Corporation         2907.4110     39.425     73.746      0.000    2830.137    2984.685\n",
      "Foreign Limited Liability Company   1795.0373    154.925     11.587      0.000    1491.377    2098.698\n",
      "Foreign Limited Partnership         2475.6533    450.718      5.493      0.000    1592.222    3359.085\n",
      "Foreign Non-Profit Corporation      1654.0228    392.870      4.210      0.000     883.976    2424.070\n",
      "Insurance                           4987.1241   1790.568      2.785      0.005    1477.512    8496.737\n",
      "Professional Service Corporation    5193.9080    311.635     16.667      0.000    4583.087    5804.729\n",
      "officers_listed                      206.0466      5.148     40.025      0.000     195.956     216.137\n",
      "==============================================================================\n",
      "Omnibus:                    15104.272   Durbin-Watson:                   1.987\n",
      "Prob(Omnibus):                  0.000   Jarque-Bera (JB):           336022.211\n",
      "Skew:                           2.369   Prob(JB):                         0.00\n",
      "Kurtosis:                      19.976   Cond. No.                         534.\n",
      "==============================================================================\n",
      "\n",
      "Warnings:\n",
      "[1] Standard Errors assume that the covariance matrix of the errors is correctly specified.\n"
     ]
    }
   ],
   "source": [
    "# This model is clearly overspecified. Clear out the worst performing variables & see what happens\n",
    "vars_to_keep = []\n",
    "for item in explanatory_variables:\n",
    "    if e_net.fit().pvalues[item] < 0.1:\n",
    "        vars_to_keep += [item]\n",
    "\n",
    "smaller_X_train = X_train[vars_to_keep]\n",
    "\n",
    "e_net2 = sm.OLS(y_train, smaller_X_train.astype(float), L1_wt=.5)\n",
    "print(e_net2.fit().summary())"
   ]
  },
  {
   "cell_type": "markdown",
   "metadata": {
    "collapsed": true
   },
   "source": [
    "## An adjusted R^2 of 45% is crazy. How can we know so much about the life expectancy of a company from such a small amount of information?"
   ]
  },
  {
   "cell_type": "code",
   "execution_count": null,
   "metadata": {},
   "outputs": [],
   "source": [
    "#test_fit = sm.OLS(y_test, X_test[vars_to_keep].astype(float), L1_wt=.5)\n",
    "\n",
    "#e_fit2 = test_fit.fit()\n",
    "#test_fit = e_fit2.predict(X_test[vars_to_keep])\n",
    "\n",
    "# Set an index for both series\n",
    "#test_fit.reset_index(drop=True, inplace=True)\n",
    "#y_test_indexed = y_test.reset_index(drop=True)\n",
    "\n",
    "# Put them in the same DF\n",
    "#comparison_df = pd.concat([test_fit, y_test_indexed], axis=1)\n",
    "#comparison_df.sort_values(\"time_in_business\", inplace=True)"
   ]
  },
  {
   "cell_type": "code",
   "execution_count": null,
   "metadata": {},
   "outputs": [],
   "source": [
    "#### Graph predictions vs actuals. Order by size of the actual\n",
    "\n"
   ]
  },
  {
   "cell_type": "markdown",
   "metadata": {},
   "source": [
    "## Now use the same elastic net model with logged days_in_business"
   ]
  },
  {
   "cell_type": "code",
   "execution_count": 110,
   "metadata": {},
   "outputs": [
    {
     "name": "stdout",
     "output_type": "stream",
     "text": [
      "                             OLS Regression Results                             \n",
      "================================================================================\n",
      "Dep. Variable:     log_time_in_business   R-squared:                       0.880\n",
      "Model:                              OLS   Adj. R-squared:                  0.879\n",
      "Method:                   Least Squares   F-statistic:                     3056.\n",
      "Date:                  Tue, 26 Feb 2019   Prob (F-statistic):               0.00\n",
      "Time:                          14:56:57   Log-Likelihood:                -62491.\n",
      "No. Observations:                 25961   AIC:                         1.251e+05\n",
      "Df Residuals:                     25899   BIC:                         1.256e+05\n",
      "Df Model:                            62                                         \n",
      "Covariance Type:              nonrobust                                         \n",
      "====================================================================================================================\n",
      "                                                       coef    std err          t      P>|t|      [0.025      0.975]\n",
      "--------------------------------------------------------------------------------------------------------------------\n",
      "comments_contains_retail                             0.8837      0.095      9.287      0.000       0.697       1.070\n",
      "comments_contains_management                         0.5741      0.178      3.232      0.001       0.226       0.922\n",
      "comments_contains_construction                       0.6170      0.115      5.386      0.000       0.392       0.842\n",
      "comments_contains_property                           0.2134      0.124      1.724      0.085      -0.029       0.456\n",
      "comments_contains_development                        0.2906      0.124      2.348      0.019       0.048       0.533\n",
      "comments_contains_commercial                         0.8599      0.150      5.747      0.000       0.567       1.153\n",
      "comments_contains_residential                       -0.1318      0.163     -0.809      0.418      -0.451       0.187\n",
      "comments_contains_mortgage                           3.7290      0.144     25.838      0.000       3.446       4.012\n",
      "comments_contains_rental                             0.8864      0.167      5.301      0.000       0.559       1.214\n",
      "comments_contains_restaurant                         0.4257      0.124      3.441      0.001       0.183       0.668\n",
      "comments_contains_manage                             0.3639      0.142      2.555      0.011       0.085       0.643\n",
      "comments_contains_purchase                           0.0386      0.142      0.272      0.786      -0.240       0.317\n",
      "comments_contains_food                               0.1374      0.134      1.022      0.307      -0.126       0.401\n",
      "comments_contains_insurance                          2.6321      0.162     16.200      0.000       2.314       2.951\n",
      "comments_contains_equipment                          1.7344      0.143     12.142      0.000       1.454       2.014\n",
      "comments_contains_holding                            1.1157      0.171      6.509      0.000       0.780       1.452\n",
      "comments_contains_investment                         0.6090      0.148      4.116      0.000       0.319       0.899\n",
      "comments_contains_manufacture                        1.1627      0.136      8.573      0.000       0.897       1.429\n",
      "comments_contains_design                             0.6767      0.138      4.898      0.000       0.406       0.947\n",
      "comments_contains_distribution                       0.7158      0.174      4.112      0.000       0.375       1.057\n",
      "comments_contains_maintenance                        0.2584      0.199      1.300      0.194      -0.131       0.648\n",
      "comments_contains_practice                           0.3476      0.213      1.631      0.103      -0.070       0.765\n",
      "comments_contains_computer                           1.3162      0.173      7.622      0.000       0.978       1.655\n",
      "comments_contains_contracting                        0.5532      0.201      2.751      0.006       0.159       0.947\n",
      "comments_contains_health                             0.6602      0.194      3.404      0.001       0.280       1.040\n",
      "comments_contains_medical                            0.5795      0.216      2.677      0.007       0.155       1.004\n",
      "comments_contains_marketing                          0.8772      0.171      5.132      0.000       0.542       1.212\n",
      "comments_contains_installation                       1.1027      0.178      6.178      0.000       0.753       1.453\n",
      "comments_contains_jewelry                            0.3408      0.195      1.747      0.081      -0.041       0.723\n",
      "comments_contains_educational                       -0.3855      0.243     -1.584      0.113      -0.863       0.092\n",
      "comments_contains_engineering                        3.1326      0.256     12.241      0.000       2.631       3.634\n",
      "comments_contains_community                         -0.6270      0.262     -2.395      0.017      -1.140      -0.114\n",
      "contains_realty                                      0.7279      0.093      7.790      0.000       0.545       0.911\n",
      "contains_construction                                0.7314      0.122      6.020      0.000       0.493       0.970\n",
      "contains_investment                                  0.2932      0.152      1.935      0.053      -0.004       0.590\n",
      "contains_auto                                        0.8939      0.145      6.178      0.000       0.610       1.178\n",
      "contains_cleaning                                   -0.0130      0.275     -0.047      0.962      -0.551       0.526\n",
      "contains_national                                    1.6092      0.134     12.011      0.000       1.347       1.872\n",
      "contains_state                                       0.6704      0.141      4.757      0.000       0.394       0.947\n",
      "contains_electric                                    1.1674      0.254      4.588      0.000       0.669       1.666\n",
      "contains_health                                      1.8287      0.210      8.700      0.000       1.417       2.241\n",
      "contains_marine                                      0.7298      0.249      2.935      0.003       0.242       1.217\n",
      "contains_marketing                                   1.2053      0.214      5.626      0.000       0.785       1.625\n",
      "contains_restaurant                                  0.5946      0.220      2.697      0.007       0.162       1.027\n",
      "contains_jewelry                                     0.3809      0.279      1.365      0.172      -0.166       0.928\n",
      "contains_technologies                                0.9879      0.265      3.727      0.000       0.468       1.507\n",
      "contains_supply                                      1.7123      0.319      5.374      0.000       1.088       2.337\n",
      "contains_church                                      0.2941      0.316      0.932      0.351      -0.324       0.913\n",
      "Bank                                                 9.3394      1.345      6.945      0.000       6.703      11.975\n",
      "Credit Union                                         8.8429      1.553      5.695      0.000       5.799      11.887\n",
      "Domestic Limited Liability Company                   6.8965      0.044    157.733      0.000       6.811       6.982\n",
      "Domestic Limited Liability Partnership               5.9335      0.311     19.082      0.000       5.324       6.543\n",
      "Domestic Limited Partnership                         8.0541      0.212     38.080      0.000       7.640       8.469\n",
      "Domestic Non-Profit Corporation                      6.5356      0.068     95.928      0.000       6.402       6.669\n",
      "Domestic Profit Corporation                          6.5053      0.027    238.021      0.000       6.452       6.559\n",
      "Foreign Limited Liability Company                    6.5833      0.104     63.053      0.000       6.379       6.788\n",
      "Foreign Limited Partnership                          6.9931      0.303     23.061      0.000       6.399       7.588\n",
      "Foreign Non-Profit Corporation                       5.5109      0.265     20.817      0.000       4.992       6.030\n",
      "Foreign Registered Limited Liability Partnership     6.3937      0.562     11.381      0.000       5.292       7.495\n",
      "Insurance                                            7.3528      1.203      6.111      0.000       4.994       9.711\n",
      "Professional Service Corporation                     7.1906      0.212     33.917      0.000       6.775       7.606\n",
      "officers_listed                                      0.2499      0.003     71.763      0.000       0.243       0.257\n",
      "==============================================================================\n",
      "Omnibus:                     9557.015   Durbin-Watson:                   1.817\n",
      "Prob(Omnibus):                  0.000   Jarque-Bera (JB):          2762187.793\n",
      "Skew:                          -0.490   Prob(JB):                         0.00\n",
      "Kurtosis:                      53.523   Cond. No.                         534.\n",
      "==============================================================================\n",
      "\n",
      "Warnings:\n",
      "[1] Standard Errors assume that the covariance matrix of the errors is correctly specified.\n"
     ]
    }
   ],
   "source": [
    "e_net_logged = sm.OLS(y_train_logged, X_train_logged.astype(float), L1_wt=.5)\n",
    "print(e_net_logged.fit().summary())"
   ]
  },
  {
   "cell_type": "code",
   "execution_count": 111,
   "metadata": {},
   "outputs": [
    {
     "name": "stdout",
     "output_type": "stream",
     "text": [
      "                             OLS Regression Results                             \n",
      "================================================================================\n",
      "Dep. Variable:     log_time_in_business   R-squared:                       0.880\n",
      "Model:                              OLS   Adj. R-squared:                  0.879\n",
      "Method:                   Least Squares   F-statistic:                     3574.\n",
      "Date:                  Tue, 26 Feb 2019   Prob (F-statistic):               0.00\n",
      "Time:                          14:57:09   Log-Likelihood:                -62497.\n",
      "No. Observations:                 25961   AIC:                         1.251e+05\n",
      "Df Residuals:                     25908   BIC:                         1.255e+05\n",
      "Df Model:                            53                                         \n",
      "Covariance Type:              nonrobust                                         \n",
      "====================================================================================================================\n",
      "                                                       coef    std err          t      P>|t|      [0.025      0.975]\n",
      "--------------------------------------------------------------------------------------------------------------------\n",
      "comments_contains_retail                             0.8976      0.094      9.577      0.000       0.714       1.081\n",
      "comments_contains_management                         0.5783      0.177      3.264      0.001       0.231       0.926\n",
      "comments_contains_construction                       0.6079      0.114      5.343      0.000       0.385       0.831\n",
      "comments_contains_property                           0.2187      0.123      1.776      0.076      -0.023       0.460\n",
      "comments_contains_development                        0.2817      0.124      2.278      0.023       0.039       0.524\n",
      "comments_contains_commercial                         0.8085      0.131      6.170      0.000       0.552       1.065\n",
      "comments_contains_mortgage                           3.7138      0.142     26.075      0.000       3.435       3.993\n",
      "comments_contains_rental                             0.8810      0.167      5.273      0.000       0.554       1.209\n",
      "comments_contains_restaurant                         0.4445      0.122      3.641      0.000       0.205       0.684\n",
      "comments_contains_manage                             0.3670      0.142      2.587      0.010       0.089       0.645\n",
      "comments_contains_insurance                          2.6282      0.162     16.177      0.000       2.310       2.947\n",
      "comments_contains_equipment                          1.7371      0.143     12.168      0.000       1.457       2.017\n",
      "comments_contains_holding                            1.1141      0.171      6.500      0.000       0.778       1.450\n",
      "comments_contains_investment                         0.6075      0.148      4.110      0.000       0.318       0.897\n",
      "comments_contains_manufacture                        1.1716      0.135      8.646      0.000       0.906       1.437\n",
      "comments_contains_design                             0.6706      0.138      4.856      0.000       0.400       0.941\n",
      "comments_contains_distribution                       0.7223      0.174      4.161      0.000       0.382       1.063\n",
      "comments_contains_computer                           1.3173      0.173      7.631      0.000       0.979       1.656\n",
      "comments_contains_contracting                        0.5567      0.201      2.771      0.006       0.163       0.951\n",
      "comments_contains_health                             0.6607      0.194      3.407      0.001       0.281       1.041\n",
      "comments_contains_medical                            0.6462      0.212      3.045      0.002       0.230       1.062\n",
      "comments_contains_marketing                          0.8755      0.171      5.123      0.000       0.541       1.210\n",
      "comments_contains_installation                       1.1226      0.177      6.333      0.000       0.775       1.470\n",
      "comments_contains_jewelry                            0.3950      0.190      2.078      0.038       0.022       0.768\n",
      "comments_contains_engineering                        3.1482      0.256     12.310      0.000       2.647       3.649\n",
      "comments_contains_community                         -0.6157      0.262     -2.352      0.019      -1.129      -0.103\n",
      "contains_realty                                      0.7237      0.093      7.753      0.000       0.541       0.907\n",
      "contains_construction                                0.7232      0.121      5.955      0.000       0.485       0.961\n",
      "contains_investment                                  0.2914      0.152      1.923      0.054      -0.006       0.588\n",
      "contains_auto                                        0.8906      0.145      6.156      0.000       0.607       1.174\n",
      "contains_national                                    1.6095      0.134     12.016      0.000       1.347       1.872\n",
      "contains_state                                       0.6676      0.141      4.738      0.000       0.391       0.944\n",
      "contains_electric                                    1.1726      0.254      4.612      0.000       0.674       1.671\n",
      "contains_health                                      1.8224      0.210      8.670      0.000       1.410       2.234\n",
      "contains_marine                                      0.7347      0.249      2.956      0.003       0.247       1.222\n",
      "contains_marketing                                   1.2012      0.214      5.607      0.000       0.781       1.621\n",
      "contains_restaurant                                  0.5962      0.220      2.704      0.007       0.164       1.028\n",
      "contains_technologies                                0.9845      0.265      3.715      0.000       0.465       1.504\n",
      "contains_supply                                      1.7081      0.319      5.362      0.000       1.084       2.332\n",
      "Bank                                                 9.3393      1.345      6.944      0.000       6.703      11.975\n",
      "Credit Union                                         8.8429      1.553      5.694      0.000       5.799      11.887\n",
      "Domestic Limited Liability Company                   6.8997      0.044    158.044      0.000       6.814       6.985\n",
      "Domestic Limited Liability Partnership               6.0720      0.299     20.293      0.000       5.486       6.659\n",
      "Domestic Limited Partnership                         8.0544      0.212     38.080      0.000       7.640       8.469\n",
      "Domestic Non-Profit Corporation                      6.5357      0.067     98.122      0.000       6.405       6.666\n",
      "Domestic Profit Corporation                          6.5117      0.027    240.242      0.000       6.459       6.565\n",
      "Foreign Limited Liability Company                    6.5842      0.104     63.062      0.000       6.380       6.789\n",
      "Foreign Limited Partnership                          6.9905      0.303     23.052      0.000       6.396       7.585\n",
      "Foreign Non-Profit Corporation                       5.4810      0.263     20.825      0.000       4.965       5.997\n",
      "Foreign Registered Limited Liability Partnership     6.4397      0.561     11.476      0.000       5.340       7.540\n",
      "Insurance                                            7.3535      1.203      6.111      0.000       4.995       9.712\n",
      "Professional Service Corporation                     7.2447      0.209     34.585      0.000       6.834       7.655\n",
      "officers_listed                                      0.2499      0.003     71.813      0.000       0.243       0.257\n",
      "==============================================================================\n",
      "Omnibus:                     9550.914   Durbin-Watson:                   1.817\n",
      "Prob(Omnibus):                  0.000   Jarque-Bera (JB):          2759455.763\n",
      "Skew:                          -0.488   Prob(JB):                         0.00\n",
      "Kurtosis:                      53.498   Cond. No.                         534.\n",
      "==============================================================================\n",
      "\n",
      "Warnings:\n",
      "[1] Standard Errors assume that the covariance matrix of the errors is correctly specified.\n"
     ]
    }
   ],
   "source": [
    "# Once more, dropping a bunch of poor predictors:\n",
    "vars_to_keep = []\n",
    "for item in explanatory_variables:\n",
    "    if e_net_logged.fit().pvalues[item] < 0.1:\n",
    "        vars_to_keep += [item]\n",
    "\n",
    "smaller_X_train_logged = X_train_logged[vars_to_keep]\n",
    "\n",
    "e_net2_logged = sm.OLS(y_train_logged, smaller_X_train_logged.astype(float), L1_wt=.5)\n",
    "print(e_net2_logged.fit().summary())"
   ]
  },
  {
   "cell_type": "markdown",
   "metadata": {},
   "source": [
    "## Our adjusted R^2 is now 88%. We've done no model tuning whatsoever. I'm astonished.\n",
    "### Also notice how many more significant variables we had in this model than in the non-logged model."
   ]
  },
  {
   "cell_type": "code",
   "execution_count": null,
   "metadata": {},
   "outputs": [],
   "source": [
    "# Graph the results from test values against their actual values.\n",
    "\n",
    "#test_fit = sm.OLS(y_test, X_test[vars_to_keep].astype(float), L1_wt=.5)\n",
    "test_fit_logged = sm.OLS(y_test_logged, X_test_logged[vars_to_keep].astype(float), L1_wt=.5)\n",
    "#e_fit2_logged = e_net2_logged.fit()\n",
    "\n",
    "e_fit2_logged = test_fit_logged.fit()\n",
    "test_fit_logged2 = e_fit2.predict(X_test_logged[vars_to_keep])\n",
    "\n",
    "# Set an index for both series\n",
    "test_fit_logged2.reset_index(drop=True, inplace=True)\n",
    "y_test_indexed_logged = y_test.reset_index(drop=True)\n",
    "\n",
    "# Put them in the same DF\n",
    "comparison_df_logged = pd.concat([test_fit_logged2, y_test_indexed_logged], axis=1)\n",
    "comparison_df_logged.sort_values(\"time_in_business\", inplace=True)\n",
    "\n",
    "\n",
    "\n",
    "\n",
    "\n",
    "#### Graph predictions vs actuals. Order by size of the actual\n",
    "\n",
    "#fig, ax = plt.subplots()\n",
    "#ax.plot(x1, y, 'o', label=\"Data\")\n",
    "#ax.plot(x1, y_true, 'b-', label=\"True\")\n",
    "#ax.plot(np.hstack((x1, x1n)), np.hstack((ypred, ynewpred)), 'r', label=\"OLS prediction\")\n",
    "#ax.legend(loc=\"best\");\n",
    "\n",
    "#fig, ax = plt.subplots()\n",
    "#fig = sm.graphics.plot_fit(test_fit, y_test_indexed, ax=ax)\n",
    "#ax.set_ylabel(\"Murder Rate\")\n",
    "#ax.set_xlabel(\"Poverty Level\")\n",
    "#ax.set_title(\"Linear Regression\")\n",
    "\n",
    "plt.plot(comparison_df_logged[0], comparison_df_logged[\"time_in_business\"], 'ro')\n",
    "plt.axis([0, 15000, 0, 15000])\n",
    "\n",
    "plt.show()\n",
    "\n"
   ]
  },
  {
   "cell_type": "code",
   "execution_count": null,
   "metadata": {},
   "outputs": [],
   "source": []
  },
  {
   "cell_type": "code",
   "execution_count": null,
   "metadata": {},
   "outputs": [],
   "source": []
  },
  {
   "cell_type": "code",
   "execution_count": null,
   "metadata": {},
   "outputs": [],
   "source": []
  },
  {
   "cell_type": "code",
   "execution_count": null,
   "metadata": {},
   "outputs": [],
   "source": [
    "# Finish by comparing our linear regression model to Random Forests, where I include the same variables,\n",
    "# then another where I throw in more (all) variables."
   ]
  },
  {
   "cell_type": "code",
   "execution_count": null,
   "metadata": {},
   "outputs": [],
   "source": [
    "# rf_df = "
   ]
  },
  {
   "cell_type": "code",
   "execution_count": null,
   "metadata": {},
   "outputs": [],
   "source": []
  },
  {
   "cell_type": "markdown",
   "metadata": {},
   "source": [
    "# This is far from a completed study. \n",
    "\n",
    "### Things left to do:\n",
    "    - There's a colinearity problem introduced by having separate variables for keywords in both EntityName and Comments: lots of companies with names like ABC Insurance will also say in their description that they sell insurance. Instead, the keyword variables should apply to both EntityName and Comments.\n",
    "    - Similarly, I should figure out some clever way to make different variables for all words in EntityName & Comments that's present more than X amount of times. This whole inspect-by-hand thing isn't scalable and leaves too much room for my own biases in what names are important.\n",
    "    - Assess the impact of our data being censored (companies that are still in business aren't included in the analysis, which biases our results towards earlier deaths)\n",
    "    - Not all of these businesses failed. Some were sold, merged, etc. An example is this: http://ucc.state.ri.us/CorpWeb/CorpSearch/CorpSummary.aspx?FEIN=000001992. The issue is figuring out the structure of the pages scraped to know how to scrape it.\n",
    "    - Some of the data we used is subject to change over a company's lifetime. Addresses, DBAs, or the number of directors & officers can all change. Rhode Island includes lots of other documents, and it'd be great to see what other data we can get from those.\n",
    "    - Overlay census data based on companies' principal addresses to see how population density or nearby wealth impact their life expectancy\n",
    "    - Use our other variables like stock information, NAICS codes, or which foreign entities use registered agents\n",
    "    - Consider macroeconomic factors: GDP growth, unemployment rates, etc\n",
    "    - Test for unit roots: are there trends over time that we need to account for? Are survival rates different for companies founded in 1900 vs 1980? Do survival rates for different industruies, like technology or construction companies, change significantly over time due to structural changes (not due to macroeconomic factors that we can control for)?\n",
    "    - More data is always better. I only used 10,000 samples in this study.\n",
    "### An extension of this study:\n",
    "    - It's neat to be able to estimate a company's lifespan at birth. It'd be useful to estimate how much longer a company will stay in business, regardless of how old it already is."
   ]
  },
  {
   "cell_type": "code",
   "execution_count": null,
   "metadata": {},
   "outputs": [],
   "source": [
    "# If you've done much scraping, then your failed_records list could be pretty long. You don't want to\n",
    "# repeat attempting to scrape those failed records, so save the list to a file.\n",
    "\n",
    "#with open('failed_records', 'wb') as fp:\n",
    "#    pickle.dump(failed_records, fp)"
   ]
  },
  {
   "cell_type": "code",
   "execution_count": null,
   "metadata": {},
   "outputs": [],
   "source": []
  }
 ],
 "metadata": {
  "kernelspec": {
   "display_name": "Python 3",
   "language": "python",
   "name": "python3"
  },
  "language_info": {
   "codemirror_mode": {
    "name": "ipython",
    "version": 3
   },
   "file_extension": ".py",
   "mimetype": "text/x-python",
   "name": "python",
   "nbconvert_exporter": "python",
   "pygments_lexer": "ipython3",
   "version": "3.6.4"
  }
 },
 "nbformat": 4,
 "nbformat_minor": 2
}
