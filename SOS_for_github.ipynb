{
 "cells": [
  {
   "cell_type": "markdown",
   "metadata": {},
   "source": [
    "# Using states' Secretary of State data to learn about organizations\n",
    "\n",
    "\n",
    "## Outline:\n",
    "    1. Scrape some data and load it into Elasticsearch\n",
    "    2. Use Kibana somehow?\n",
    "    3. Query Elasticsearch for data to put into a pandas dataframe\n",
    "    4. Prep the dataframe by adding new variables\n",
    "    5. Make models and learn something new about companies in Rhode Island\n",
    "\n",
    "### Before starting, make sure you have ready:\n",
    "    - Elasticsearch (installed and running) (both the program & the Python package)\n",
    "    - Tor (installed and running)\n",
    "    - bs4, aka BeautifulSoup\n",
    "    - pandas\n",
    "    - pysocks isn't imported, but it must be installed"
   ]
  },
  {
   "cell_type": "code",
   "execution_count": 1,
   "metadata": {},
   "outputs": [],
   "source": [
    "import pandas as pd\n",
    "import numpy as np\n",
    "import statsmodels.api as sm\n",
    "import matplotlib.pyplot as plt\n",
    "import requests\n",
    "import json\n",
    "import random\n",
    "import re\n",
    "import pickle\n",
    "import math\n",
    "import collections\n",
    "from nltk.stem import WordNetLemmatizer, PorterStemmer\n",
    "import elasticsearch.helpers\n",
    "from pandas.io.json import json_normalize\n",
    "from bs4 import BeautifulSoup\n",
    "from elasticsearch import Elasticsearch\n",
    "from collections import Counter\n",
    "from sklearn.model_selection import train_test_split\n",
    "from scipy.stats import anderson, normaltest, boxcox"
   ]
  },
  {
   "cell_type": "markdown",
   "metadata": {},
   "source": [
    "# Step 1: scrape some data\n",
    "\n",
    "### Scraping data can be illegal! I'm not recommending you do it, just showing you how easy it is to do. If you're interested in the analysis, you can buy this full database from the Rhode Island Secretary of State for fifty bucks.\n",
    "\n",
    "\n",
    "### We're using Tor just to show how to use Tor. Unless you're scraping the dark web, using Tor is pretty impractical. Tor is orders of magnitude slower than normal requests.\n",
    "\n",
    "### The data we collect is being stored in Elasticsearch. You could keep it around in memory, but it takes a long time to scrape data, so it's better to save it to a database so you can quickly use it again in the future if need be."
   ]
  },
  {
   "cell_type": "code",
   "execution_count": null,
   "metadata": {},
   "outputs": [],
   "source": [
    "def get_tor_session():\n",
    "    session = requests.session()\n",
    "    # Set up your proxies to use Tor\n",
    "    session.proxies = {'http': 'socks5://localhost:9150',\n",
    "                       'https': 'socks5://localhost:9150'}\n",
    "    return session"
   ]
  },
  {
   "cell_type": "code",
   "execution_count": null,
   "metadata": {},
   "outputs": [],
   "source": [
    "def try_and_except_loop(soup, data_dict, value, prefix, value_not_text=False):\n",
    "    \"\"\"A short loop to keep things a little DRYer\"\"\"\n",
    "    if value_not_text:\n",
    "        try:\n",
    "            data_dict[value] = soup.find(id=prefix + str(value)).value\n",
    "        except AttributeError:\n",
    "            pass\n",
    "    else:\n",
    "        try:\n",
    "            data_dict[value] = soup.find(id=prefix + str(value)).text\n",
    "        except AttributeError:\n",
    "            pass"
   ]
  },
  {
   "cell_type": "code",
   "execution_count": null,
   "metadata": {},
   "outputs": [],
   "source": [
    "# After inspecting the web page we're going to be grabbing, I got the names of the worthwhile fields:\n",
    "VALUES_TO_EXTRACT = [\"EntityName\",\n",
    "                    \"EntityType\",\n",
    "                    \"OrganisationDate\", # Yes, this is misspelled in the HTML\n",
    "                    \"EffectiveDate\",\n",
    "                    \"InactiveDate\",\n",
    "                    \"PrincipleStreet\",\n",
    "                    \"PrincipleCity\",\n",
    "                    \"PrincipleState\",\n",
    "                    \"PrincipleZip\",\n",
    "                    \"PrincipleCountry\",\n",
    "                    \"ResidentAgentFlag\",\n",
    "                    \"ConsentFlag\",\n",
    "                    \"ResidentAgentName\",\n",
    "                    \"ResidentStreet\",\n",
    "                    \"ResidentCity\",\n",
    "                    \"ResidentState\",\n",
    "                    \"ResidentZip\",\n",
    "                    \"ResidentCountry\"]\n",
    "\n",
    "def parse_rhode_island_entity_summary(session):\n",
    "    \"\"\"When given Rhode Island's Entity Summary page, this builds a dictionary of\n",
    "        all the noteworthy data on the webpage\"\"\"\n",
    "    data_dict = {}\n",
    "    soup = BeautifulSoup(session._content)\n",
    "\n",
    "    # This value includes the words \"Identification Number: \". Clear that useless text.\n",
    "    # Also, if there is no ID number present, then there's no other information present either,\n",
    "    # and there's no need to continue selecting data.\n",
    "    try:\n",
    "        data_dict[\"IDNumber\"] = soup.find(id=\"MainContent_lblIDNumber\").text[-9:]\n",
    "    except AttributeError:\n",
    "        return False\n",
    "\n",
    "    for item in VALUES_TO_EXTRACT:\n",
    "        try_and_except_loop(soup, data_dict, item, \"MainContent_lbl\")\n",
    "    try_and_except_loop(soup, data_dict, \"Comments\", \"MainContent_txt\")\n",
    "    try_and_except_loop(soup, data_dict, \"NIACS\", \"MainContent_txt\", value_not_text=True)\n",
    "\n",
    "    # The length of the list of directors & officers varies by company\n",
    "    d_and_o_list = []\n",
    "    table = soup.find(id=\"MainContent_grdOfficers\")\n",
    "    try:\n",
    "        for row in table.find_all('tr')[1:]:\n",
    "            col = row.find_all('td')\n",
    "            d_and_o_list += [col[0].text, col[1].text, col[2].text]\n",
    "    except AttributeError:\n",
    "        # Some pages don't have information on directors & officers\n",
    "        pass\n",
    "    data_dict['d_and_o'] = d_and_o_list\n",
    "\n",
    "    # I have no idea if their data on stocks is meaningful, but just in case:\n",
    "    try:\n",
    "        stock_cols = soup.find(id=\"MainContent_grdStocks\").tbody.tr.find_all('td')\n",
    "        data_dict['stock_info'] = [stock_cols[item].text for item in range(len(stock_cols))]\n",
    "    except AttributeError:\n",
    "        # Some pages don't have information on stocks. Makes sense, since all the info isn't on corporations.\n",
    "        pass\n",
    "\n",
    "    return data_dict"
   ]
  },
  {
   "cell_type": "code",
   "execution_count": 2,
   "metadata": {},
   "outputs": [],
   "source": [
    "es = Elasticsearch()\n",
    "\n",
    "def create_elasticsearch_index():\n",
    "    \"\"\"This should only be run once: re-running it will delete any saved data!\"\"\"\n",
    "    es.indices.delete(index=\"ri_sos\", ignore=[400, 404])\n",
    "    es_settings = {\n",
    "        \"settings\": {\n",
    "            \"number_of_shards\": 1,\n",
    "            \"number_of_replicas\": 0\n",
    "        },\n",
    "        \"mappings\": {\n",
    "            \"corporate_data\": {\n",
    "                \"properties\": {\n",
    "                    \"OrganisationDate\": {\n",
    "                        \"type\": \"date\",\n",
    "                        \"format\": \"MM-dd-yyyy\"\n",
    "                    },\n",
    "                    \"EffectiveDate\": {\n",
    "                        \"type\": \"date\",\n",
    "                        \"format\": \"MM-dd-yyyy\"\n",
    "                    },\n",
    "                    \"InactiveDate\": {\n",
    "                        \"type\": \"date\",\n",
    "                        \"format\": \"MM-dd-yyyy\"\n",
    "                    },\n",
    "                    \"IDNumber\": {\n",
    "                        \"type\": \"integer\"\n",
    "                    }\n",
    "                }\n",
    "            }\n",
    "        }}\n",
    "    es.indices.create(index=\"ri_sos\", body=es_settings)"
   ]
  },
  {
   "cell_type": "code",
   "execution_count": null,
   "metadata": {},
   "outputs": [],
   "source": [
    "def save_data_in_elasticsearch(returned_page):\n",
    "    \"\"\"Updates elasticsearch with a single row of data\"\"\"\n",
    "    try:\n",
    "        es.index(index=\"ri_sos\", doc_type=\"corporate_data\", body=json.dumps(returned_page))\n",
    "    except:\n",
    "        # Don't let the scraping stop in case some page has an unusual structure.\n",
    "        # Instead, print out the bad data & figure out the exceptions later.\n",
    "        print(\"Didn't save:\", returned_page)"
   ]
  },
  {
   "cell_type": "code",
   "execution_count": null,
   "metadata": {},
   "outputs": [],
   "source": [
    "def collect_rhode_island_data(start_at=0, records_to_get=1, create_index=False, random_subset_size=False, prior_records=False,\n",
    "                              failed_records=[]):\n",
    "    \"\"\"This function ties together connecting with Tor, scraping data, and loading it into Elasticsearch.\n",
    "        It returns a list of all records it unsuccessfully tried to grab.\"\"\"\n",
    "    URL_string = \"http://ucc.state.ri.us/CorpWeb/CorpSearch/CorpSummary.aspx?FEIN=\"\n",
    "    session = get_tor_session()\n",
    "    # Since we're already using Tor, let's pretend we're accessing the web through a browser\n",
    "    # instead of letting people see it's through a Python script:\n",
    "    headers = {'User-agent': 'Opera/1.1.2 FCS'}\n",
    "\n",
    "    ## If you want to confirm that you're using Tor, then see if your\n",
    "    ## session's IP address matches a normal request's IP address\n",
    "    # print(\"TOR IP address:\", session.get(\"http://httpbin.org/ip\").text)\n",
    "    # print(\"Your normal IP address:\", requests.get(\"http://httpbin.org/ip\").text)\n",
    "\n",
    "    # If this is your first time through, then you'll need to create an index in Elasticsearch\n",
    "    if create_index:\n",
    "        create_elasticsearch_index()\n",
    "\n",
    "    # Options for random sampling of data\n",
    "    if random_subset_size:\n",
    "        records = random.sample(range(165000), random_subset_size)\n",
    "    else:\n",
    "        records = [start_at + item for item in range(records_to_get)]\n",
    "    if prior_records:\n",
    "        records = set(records) - set(prior_records)\n",
    "\n",
    "    for record in records:\n",
    "        corp_id = str(start_at + record)\n",
    "        # The string provided should be 9 digits long, padded by prepended by 0s\n",
    "        corp_id = corp_id.rjust(9, \"0\")\n",
    "\n",
    "        returned_page = session.get(URL_string + str(corp_id), headers=headers)\n",
    "        data_dict = parse_rhode_island_entity_summary(returned_page)\n",
    "        if data_dict:\n",
    "            # Value will be false if the page scraped is blank, so no need to save anything\n",
    "            save_data_in_elasticsearch(data_dict)\n",
    "        else:\n",
    "            failed_records += [record]\n",
    "\n",
    "        # Clear cookies to make it harder to track you between requests:\n",
    "        session.cookies.clear()\n",
    "    return failed_records"
   ]
  },
  {
   "cell_type": "markdown",
   "metadata": {},
   "source": [
    "## Uncomment & run this if it's your first time running this script:"
   ]
  },
  {
   "cell_type": "code",
   "execution_count": null,
   "metadata": {},
   "outputs": [],
   "source": [
    "# Now we finally start collecting some data\n",
    "#### ONLY RUN THIS ONCE! OTHERWISE IT WILL DELETE YOUR INDEX, DELETING ALL OF YOUR DATA!\n",
    "# failed_records = collect_rhode_island_data(start_at=0, \n",
    "#                                           records_to_get=5,\n",
    "#                                           create_index=True)"
   ]
  },
  {
   "cell_type": "markdown",
   "metadata": {},
   "source": [
    "## Otherwise load your previously saved list of failed records:"
   ]
  },
  {
   "cell_type": "code",
   "execution_count": null,
   "metadata": {},
   "outputs": [],
   "source": [
    "# Load your list of pickled failed records:\n",
    "\n",
    "#with open('failed_records', 'rb') as fp:\n",
    "#    failed_records = pickle.load(fp)"
   ]
  },
  {
   "cell_type": "markdown",
   "metadata": {},
   "source": [
    "### Rhode Island has about 165,000 companies that follow the expected URL pattern. At 1 request/second, that's ~46 hours of scraping to get everything. We could speed up the process by making bulk entries into Elasticsearch rather than making individual entries, by making multiple requests at a time, or using normal requests instead of Tor, but we don't want to overwhelm the server. Always be nice to whoever has to maintain the servers you're talking to. Scraping slowly is nice.\n",
    "\n",
    "### We don't need the full database to do some analysis. Instead of scraping everything, let's randomly pull some samples and study that subset."
   ]
  },
  {
   "cell_type": "code",
   "execution_count": null,
   "metadata": {},
   "outputs": [],
   "source": [
    "failed_records = collect_rhode_island_data(start_at=0,\n",
    "                                           random_subset_size=5,\n",
    "                                           failed_records=failed_records)"
   ]
  },
  {
   "cell_type": "code",
   "execution_count": null,
   "metadata": {},
   "outputs": [],
   "source": [
    "# Pull prior_records from Elasticsearch so you don't pull them again:\n",
    "def get_prior_records(failed_records):\n",
    "    \"\"\"Return a list of all the IDNumbers saved in Elasticsearch, including any failed_records you want to exclude\"\"\"\n",
    "    records_search = elasticsearch.helpers.scan(\n",
    "        es, \n",
    "        query={\"query\": {\"match_all\": {}}, \"_source\":[\"IDNumber\"]},\n",
    "        index=\"ri_sos\",\n",
    "        doc_type=\"corporate_data\")\n",
    "\n",
    "    # Return these records, plus the failed_records we already knew about\n",
    "    return [item['_source']['IDNumber'] for item in list(records_search)] + failed_records"
   ]
  },
  {
   "cell_type": "code",
   "execution_count": null,
   "metadata": {},
   "outputs": [],
   "source": [
    "# Scrape some new records, but don't repeat anything that's already saved in Elasticsearch:\n",
    "failed_records = collect_rhode_island_data(start_at=0,\n",
    "                                           random_subset_size=10,\n",
    "                                           prior_records=get_prior_records(failed_records),\n",
    "                                           failed_records=failed_records)"
   ]
  },
  {
   "cell_type": "markdown",
   "metadata": {},
   "source": [
    "### Re-run the above command whenever you want to add more new data to Elasticsearch. Remember to be nice about it! Don't do it in the middle of a workday, ask for 10,000 records at once, etc. Or don't do it at all because of its questionable legality. You can order the entire DB for $50 from their office."
   ]
  },
  {
   "cell_type": "markdown",
   "metadata": {},
   "source": [
    "# Step 2: inspect your data in Kibana"
   ]
  },
  {
   "cell_type": "code",
   "execution_count": null,
   "metadata": {},
   "outputs": [],
   "source": [
    "# Kibana gives you those pretty graphs in iframes. They're nice and easy to put on a web page.\n",
    "# I'll add them if I ever make a blog post about this."
   ]
  },
  {
   "cell_type": "markdown",
   "metadata": {},
   "source": [
    "## It's strange that there are records with InactiveDates from 1820 in my data. \n",
    "### Visual inspection of the data in Kibana shows that data with an InactiveDate is incredibly sparse until around 1985. I'm going to assume that Rhode Island didn't worry about putting in many inactive corporations into their corporate database when they created it. \n",
    "### It seems reasonable to exclude companies founded before 1984. However, that also puts a ceiling on the life expectancies of companies in my data. Whether they should be excluded or not depends on how you want to use this analysis. I'm going to leave them for now and view this as a study of companies that existed between 1985 and today, regardless of when they were founded."
   ]
  },
  {
   "cell_type": "markdown",
   "metadata": {},
   "source": [
    "# Step 3: load your data into pandas and inspect it more carefully"
   ]
  },
  {
   "cell_type": "code",
   "execution_count": 3,
   "metadata": {},
   "outputs": [
    {
     "name": "stdout",
     "output_type": "stream",
     "text": [
      "(32480, 23)\n"
     ]
    }
   ],
   "source": [
    "# Let's load the database into pandas. Our actual analysis later will only use samples that\n",
    "# have an InactiveDate, so only request data with that data. We'd also want to filter out newer\n",
    "# companies to only work with companies that have had a long time to go out of business, but\n",
    "# reviewing our data in Kibana shows that our newest data is in 2007, implying that newer\n",
    "# companies have a different URL pattern than older companies. No need to filter based on date organized.\n",
    "\n",
    "data_to_load = elasticsearch.helpers.scan(\n",
    "                    es,\n",
    "                    query={\"query\": {\"exists\": {\"field\": \"InactiveDate\"}}},\n",
    "                    index=\"ri_sos\",\n",
    "                    doc_type=\"corporate_data\")\n",
    "\n",
    "# Initialize a double ended queue\n",
    "output_all = collections.deque()\n",
    "# Extend deque with iterator\n",
    "output_all.extend(data_to_load)\n",
    "only_data = [item[\"_source\"] for item in output_all]\n",
    "\n",
    "df = json_normalize(only_data)\n",
    "print(df.shape)"
   ]
  },
  {
   "cell_type": "markdown",
   "metadata": {},
   "source": [
    "# Step 4: prepare the data\n",
    "## Lifespan of businesses: a quick inspection\n",
    "### Our goal is to see how long businesses in different industries stay in business. We don't have a variable for length in business yet, so let's make it."
   ]
  },
  {
   "cell_type": "code",
   "execution_count": 4,
   "metadata": {},
   "outputs": [
    {
     "name": "stdout",
     "output_type": "stream",
     "text": [
      "Returned shape: (32462, 24)\n",
      "\n",
      "count    32462.000000\n",
      "mean      3514.399174\n",
      "std       4116.308415\n",
      "min       -393.000000\n",
      "25%       1030.000000\n",
      "50%       2119.000000\n",
      "75%       4303.000000\n",
      "max      61626.000000\n",
      "Name: time_in_business, dtype: float64\n"
     ]
    }
   ],
   "source": [
    "# How many companies have out-of-business dates?\n",
    "df = df.assign(time_in_business=pd.Series(np.nan))\n",
    "\n",
    "# Convert date columns to the date format\n",
    "df['InactiveDate'] = pd.to_datetime(df['InactiveDate']).dt.date\n",
    "df['OrganisationDate'] = pd.to_datetime(df['OrganisationDate']).dt.date\n",
    "\n",
    "# Add the variable 'time_in_business' when we can calculate it:\n",
    "df.loc[df['InactiveDate'] != np.nan, 'time_in_business'] = (df['InactiveDate'] - df['OrganisationDate']).dt.days\n",
    "\n",
    "# We're trying to predict time_in_business, so let's remove all rows without a value for that\n",
    "df = df[df.time_in_business.notnull()]\n",
    "print(\"Returned shape:\", df.shape)\n",
    "print(\"\")\n",
    "\n",
    "print(df.time_in_business.describe())"
   ]
  },
  {
   "cell_type": "markdown",
   "metadata": {},
   "source": [
    "### How to deal with negative values for time_in_business if you have them in your data"
   ]
  },
  {
   "cell_type": "code",
   "execution_count": 5,
   "metadata": {},
   "outputs": [
    {
     "name": "stdout",
     "output_type": "stream",
     "text": [
      "22741    000002273\n",
      "Name: IDNumber, dtype: object\n"
     ]
    }
   ],
   "source": [
    "# How is there a negative value for time_in_business? Your sample may not have one, but mine did.\n",
    "\n",
    "weird_row = df.loc[df.time_in_business == df.time_in_business.min()]\n",
    "print(weird_row.IDNumber)"
   ]
  },
  {
   "cell_type": "code",
   "execution_count": 6,
   "metadata": {},
   "outputs": [
    {
     "name": "stdout",
     "output_type": "stream",
     "text": [
      "2236     000000417\n",
      "22067    000000417\n",
      "22741    000002273\n",
      "Name: IDNumber, dtype: object\n"
     ]
    }
   ],
   "source": [
    "# On manual inspection, Rhode Island's records do in fact show at least one company as having been \n",
    "# dissolved before it was created. That's very strange. \n",
    "# Manually inspect & delete any records with negative lifespans.\n",
    "\n",
    "weird_rows = df.loc[df.time_in_business < 0]\n",
    "print(weird_rows.IDNumber)"
   ]
  },
  {
   "cell_type": "code",
   "execution_count": 7,
   "metadata": {},
   "outputs": [
    {
     "name": "stdout",
     "output_type": "stream",
     "text": [
      "Resulting shape: (32455, 24)\n"
     ]
    }
   ],
   "source": [
    "### I'm dropping the rows that appeared in my data. Your data will most likely have different rows to drop.\n",
    "# Don't run this cell without inspecting your own data!\n",
    "\n",
    "#for value in weird_rows.index.values:\n",
    "#    df.drop(df.index[[value]], inplace=True)\n",
    "\n",
    "df.drop(df[df.time_in_business < 1].index, inplace=True)\n",
    "print(\"Resulting shape:\", df.shape)"
   ]
  },
  {
   "cell_type": "code",
   "execution_count": 8,
   "metadata": {},
   "outputs": [
    {
     "name": "stdout",
     "output_type": "stream",
     "text": [
      "       IDNumber  time_in_business\n",
      "118   000025265           36599.0\n",
      "406   000031053           50390.0\n",
      "5118  000026992           46649.0\n",
      "6009  000029417           43200.0\n",
      "6415  000030582           48010.0\n",
      "6501  000022645           39415.0\n",
      "6867  000031867           38379.0\n",
      "7967  000026290           37750.0\n",
      "8102  000001992           61626.0\n",
      "8419  000027238           45379.0\n"
     ]
    }
   ],
   "source": [
    "# The max time_in_business number I have is 61626 days, or 169 years! Does Rhode Island really have that much data?\n",
    "too_long = df.loc[df.time_in_business > 36500]\n",
    "print(too_long[[\"IDNumber\", \"time_in_business\"]][:10])\n",
    "\n",
    "# I manually inspected these in my data, and they were legit. An old bank, an old cemetery, lots of churches, etc."
   ]
  },
  {
   "cell_type": "code",
   "execution_count": 9,
   "metadata": {},
   "outputs": [
    {
     "data": {
      "image/png": "[encoded data removed]",
      "text/plain": [
       "<Figure size 432x288 with 1 Axes>"
      ]
     },
     "metadata": {
      "needs_background": "light"
     },
     "output_type": "display_data"
    }
   ],
   "source": [
    "# Let's graph the distribution to see what it looks like\n",
    "plt.hist(df.time_in_business, bins = 365,\n",
    "         color = 'blue', edgecolor = 'black')\n",
    "plt.axis([0, 10000, 0, df.shape[0] / 13])\n",
    "plt.title('Binwidth = 1 year', size = 30)\n",
    "plt.xlabel('Days in business', size = 22)\n",
    "plt.ylabel('# of companies', size= 22)\n",
    "\n",
    "plt.tight_layout()\n",
    "plt.show()"
   ]
  },
  {
   "cell_type": "code",
   "execution_count": 10,
   "metadata": {},
   "outputs": [
    {
     "name": "stdout",
     "output_type": "stream",
     "text": [
      "count    32455.000000\n",
      "mean         7.682856\n",
      "std          0.985654\n",
      "min          0.000000\n",
      "25%          6.937314\n",
      "50%          7.659171\n",
      "75%          8.367068\n",
      "max         11.028839\n",
      "Name: log_tib, dtype: float64\n"
     ]
    },
    {
     "data": {
      "image/png": "[encoded data removed]",
      "text/plain": [
       "<Figure size 432x288 with 1 Axes>"
      ]
     },
     "metadata": {
      "needs_background": "light"
     },
     "output_type": "display_data"
    }
   ],
   "source": [
    "# This variable is much more appropriate to work with as a log\n",
    "first_tib = df[[\"time_in_business\", \"IDNumber\"]].copy()\n",
    "first_tib[\"log_tib\"] = np.log(first_tib.time_in_business)\n",
    "print(first_tib.log_tib.describe())\n",
    "\n",
    "# Graph it:\n",
    "plt.hist(first_tib.log_tib, bins = 35,\n",
    "         color = 'blue', edgecolor = 'black')\n",
    "plt.axis([0, 15, 0, df.shape[0] / 8])\n",
    "plt.xlabel('Log days in business', size = 22)\n",
    "plt.ylabel('# of companies', size= 22)\n",
    "\n",
    "plt.tight_layout()\n",
    "plt.show()"
   ]
  },
  {
   "cell_type": "code",
   "execution_count": 11,
   "metadata": {},
   "outputs": [
    {
     "name": "stdout",
     "output_type": "stream",
     "text": [
      "AndersonResult(statistic=36.75036083165469, critical_values=array([0.576, 0.656, 0.787, 0.918, 1.092]), significance_level=array([15. , 10. ,  5. ,  2.5,  1. ]))\n",
      "\n",
      "87.57501944588827 9.623347113283342e-20\n",
      "This doesn't look like a normal distribution (reject H0)\n"
     ]
    }
   ],
   "source": [
    "# This looks like a normal/Gaussian distrubtion to me. Let's make sure:\n",
    "print(anderson(first_tib.log_tib))\n",
    "print(\"\")\n",
    "\n",
    "stat, p = normaltest(first_tib.log_tib)\n",
    "print(stat, p)\n",
    "if p > 0.05:\n",
    "    print('We can assume a normal distribution (fail to reject H0)')\n",
    "else:\n",
    "    print(\"This doesn't look like a normal distribution (reject H0)\")"
   ]
  },
  {
   "cell_type": "markdown",
   "metadata": {},
   "source": [
    "# What can we do about our variable of interest failing its normality tests?"
   ]
  },
  {
   "cell_type": "code",
   "execution_count": 12,
   "metadata": {},
   "outputs": [
    {
     "data": {
      "image/png": "[encoded data removed]",
      "text/plain": [
       "<Figure size 432x288 with 1 Axes>"
      ]
     },
     "execution_count": 12,
     "metadata": {},
     "output_type": "execute_result"
    },
    {
     "data": {
      "image/png": "[encoded data removed]",
      "text/plain": [
       "<Figure size 432x288 with 1 Axes>"
      ]
     },
     "metadata": {
      "needs_background": "light"
     },
     "output_type": "display_data"
    }
   ],
   "source": [
    "# Why isn't this normal? Let's make a quantile-quantile plot to inspect further:\n",
    "from statsmodels.graphics.gofplots import qqplot\n",
    "qqplot(first_tib.log_tib, line='s')"
   ]
  },
  {
   "cell_type": "code",
   "execution_count": 13,
   "metadata": {},
   "outputs": [
    {
     "name": "stdout",
     "output_type": "stream",
     "text": [
      "Companies with log_tib < 5:     126\n"
     ]
    }
   ],
   "source": [
    "# There are problems in the tails. That's not unexpected. Some businesses seem to shut down almost immediately,\n",
    "# and taking the log of small numbers gives small numbers. For reference, the log of half a year in days ~= 5.2.\n",
    "# There are a reasonable number of corporations that closed that quickly. \n",
    "new_df = first_tib.drop(df[first_tib.log_tib > 5].index)\n",
    "print(\"Companies with log_tib < 5:    \", new_df.shape[0])"
   ]
  },
  {
   "cell_type": "code",
   "execution_count": 14,
   "metadata": {},
   "outputs": [
    {
     "data": {
      "image/png": "[encoded data removed]",
      "text/plain": [
       "<Figure size 432x288 with 1 Axes>"
      ]
     },
     "execution_count": 14,
     "metadata": {},
     "output_type": "execute_result"
    },
    {
     "data": {
      "image/png": "[encoded data removed]",
      "text/plain": [
       "<Figure size 432x288 with 1 Axes>"
      ]
     },
     "metadata": {
      "needs_background": "light"
     },
     "output_type": "display_data"
    }
   ],
   "source": [
    "# What if we only look at data where log_tib > 4?\n",
    "smaller_tib_df = first_tib.drop(df[first_tib.log_tib < 4].index)\n",
    "qqplot(smaller_tib_df.log_tib, line='s')"
   ]
  },
  {
   "cell_type": "code",
   "execution_count": 15,
   "metadata": {},
   "outputs": [
    {
     "name": "stdout",
     "output_type": "stream",
     "text": [
      "AndersonResult(statistic=45.01683117806169, critical_values=array([0.576, 0.656, 0.787, 0.918, 1.092]), significance_level=array([15. , 10. ,  5. ,  2.5,  1. ]))\n",
      "\n",
      "262.4525130625439 1.0213178154947688e-57\n",
      "This doesn't look like a normal distribution (reject H0)\n"
     ]
    }
   ],
   "source": [
    "# Normality tests on our adjusted DF:\n",
    "print(anderson(smaller_tib_df.log_tib))\n",
    "print(\"\")\n",
    "\n",
    "stat, p = normaltest(smaller_tib_df.log_tib)\n",
    "print(stat, p)\n",
    "if p > 0.05:\n",
    "    print('We can assume a normal distribution (fail to reject H0)')\n",
    "else:\n",
    "    print(\"This doesn't look like a normal distribution (reject H0)\")"
   ]
  },
  {
   "cell_type": "markdown",
   "metadata": {},
   "source": [
    "### Oof. Dropping those values made us fail the normality tests by an even larger margin."
   ]
  },
  {
   "cell_type": "code",
   "execution_count": 16,
   "metadata": {},
   "outputs": [
    {
     "name": "stdout",
     "output_type": "stream",
     "text": [
      "AndersonResult(statistic=38.81120835130059, critical_values=array([0.576, 0.656, 0.787, 0.918, 1.092]), significance_level=array([15. , 10. ,  5. ,  2.5,  1. ]))\n",
      "\n",
      "53.52792844481411 2.3798962481562054e-12\n",
      "This doesn't look like a normal distribution (reject H0)\n"
     ]
    },
    {
     "data": {
      "image/png": "[encoded data removed]",
      "text/plain": [
       "<Figure size 432x288 with 1 Axes>"
      ]
     },
     "metadata": {
      "needs_background": "light"
     },
     "output_type": "display_data"
    }
   ],
   "source": [
    "# What if, instead of dropping companies that failed super quickly, we set their value to some floor value?\n",
    "# For reference, log(55) ~= 4. We're setting a floor equal to about 2 months in business.\n",
    "first_tib['masked_tib'] = first_tib['log_tib']\n",
    "first_tib.loc[first_tib.log_tib < 4, 'masked_tib'] = 4\n",
    "\n",
    "# Print the Q-Q plot\n",
    "qqplot(first_tib.masked_tib, line='s')\n",
    "\n",
    "# Run the normality tests\n",
    "print(anderson(first_tib.masked_tib))\n",
    "print(\"\")\n",
    "\n",
    "stat, p = normaltest(first_tib.masked_tib)\n",
    "print(stat, p)\n",
    "if p > 0.05:\n",
    "    print('We can assume a normal distribution (fail to reject H0)')\n",
    "else:\n",
    "    print(\"This doesn't look like a normal distribution (reject H0)\")"
   ]
  },
  {
   "cell_type": "markdown",
   "metadata": {},
   "source": [
    "### Setting a lower limit for log(time_in_business) made things better, but not very meaningfully.\n",
    "### Let's see if Box-Cox can do any better."
   ]
  },
  {
   "cell_type": "code",
   "execution_count": 17,
   "metadata": {},
   "outputs": [
    {
     "data": {
      "image/png": "[encoded data removed]",
      "text/plain": [
       "<Figure size 432x288 with 1 Axes>"
      ]
     },
     "metadata": {
      "needs_background": "light"
     },
     "output_type": "display_data"
    }
   ],
   "source": [
    "first_tib['bc_tib'] = boxcox(df.time_in_business)[0]\n",
    "\n",
    "# Graph it:\n",
    "plt.hist(first_tib.bc_tib, bins = 35, edgecolor = 'black')\n",
    "plt.axis([0, 15, 0, df.shape[0] / 8])\n",
    "plt.xlabel('Box-Coxed days in business', size = 22)\n",
    "plt.ylabel('# of companies', size= 22)\n",
    "\n",
    "plt.tight_layout()\n",
    "plt.show()"
   ]
  },
  {
   "cell_type": "code",
   "execution_count": 18,
   "metadata": {},
   "outputs": [
    {
     "name": "stdout",
     "output_type": "stream",
     "text": [
      "AndersonResult(statistic=36.91422027554654, critical_values=array([0.576, 0.656, 0.787, 0.918, 1.092]), significance_level=array([15. , 10. ,  5. ,  2.5,  1. ]))\n",
      "\n",
      "85.97985345012555 2.1365450073894404e-19\n",
      "This doesn't look like a normal distribution (reject H0)\n"
     ]
    }
   ],
   "source": [
    "# Normality tests again:\n",
    "print(anderson(first_tib.bc_tib))\n",
    "print(\"\")\n",
    "\n",
    "stat, p = normaltest(first_tib.bc_tib)\n",
    "print(stat, p)\n",
    "if p > 0.05:\n",
    "    print('We can assume a normal distribution (fail to reject H0)')\n",
    "else:\n",
    "    print(\"This doesn't look like a normal distribution (reject H0)\")"
   ]
  },
  {
   "cell_type": "code",
   "execution_count": 19,
   "metadata": {},
   "outputs": [
    {
     "data": {
      "image/png": "[encoded data removed]",
      "text/plain": [
       "<Figure size 432x288 with 1 Axes>"
      ]
     },
     "execution_count": 19,
     "metadata": {},
     "output_type": "execute_result"
    },
    {
     "data": {
      "image/png": "[encoded data removed]",
      "text/plain": [
       "<Figure size 432x288 with 1 Axes>"
      ]
     },
     "metadata": {
      "needs_background": "light"
     },
     "output_type": "display_data"
    }
   ],
   "source": [
    "qqplot(first_tib.bc_tib, line='s')"
   ]
  },
  {
   "cell_type": "markdown",
   "metadata": {},
   "source": [
    "### Our data with a floor did better than Box-Cox, but none of our adjustmented distributions are technically Gaussian. However, visually they all appear so close to Gaussian that we're going to assume that we're close enough and won't violate any normality assumptions for parametric methods."
   ]
  },
  {
   "cell_type": "code",
   "execution_count": 20,
   "metadata": {},
   "outputs": [],
   "source": [
    "# Since we have to pick 1, let's use our \n",
    "df[\"log_time_in_business\"] = first_tib['masked_tib']"
   ]
  },
  {
   "cell_type": "markdown",
   "metadata": {},
   "source": [
    "#### We should inspect our other variables further, especially since we found some weird values in time_in_business. It's also worth inspecting whether we should log other variables, like the number of directors & officers. However, this is more a proof-of-concept, so I'll worry about that later."
   ]
  },
  {
   "cell_type": "markdown",
   "metadata": {},
   "source": [
    "## Next, let's look at our explanatory variables"
   ]
  },
  {
   "cell_type": "markdown",
   "metadata": {},
   "source": [
    "### Let's start by seeing what types of companies we have lots of data on."
   ]
  },
  {
   "cell_type": "code",
   "execution_count": 21,
   "metadata": {},
   "outputs": [
    {
     "name": "stdout",
     "output_type": "stream",
     "text": [
      "[('inc', 18760), ('llc', 6262), ('&', 2496), ('corporation', 1644), ('of', 1361), ('the', 1310), ('company', 1286), ('co', 1147), ('realty', 1145), ('services', 1141), ('ltd', 1031), ('associates', 1017), ('corp', 961), ('island', 839), ('and', 796), ('rhode', 714), ('construction', 696), ('enterprises', 667), ('group', 647), ('incorporated', 618)]\n"
     ]
    }
   ],
   "source": [
    "# Remove all punctuation from the names of companies\n",
    "list_of_names = [row[1] for row in df['EntityName'].iteritems()]\n",
    "\n",
    "list_of_names_no_punctuation = []\n",
    "for name in list_of_names:\n",
    "    list_of_names_no_punctuation += [re.sub('\\,|\\.|\\!|\\;|\\:|\\?|', '', name)]\n",
    "\n",
    "# Break each name into a list of words so we can count the occurrence of each word\n",
    "new_list = []        # Bad name, fix this\n",
    "for words in list_of_names_no_punctuation:\n",
    "    for word in words.split():\n",
    "        new_list += [word.lower()]\n",
    "\n",
    "# Count the occurrence of each word:\n",
    "name_count = Counter(new_list)\n",
    "popular_names = name_count.most_common(500)\n",
    "\n",
    "# Print the 10 most popular names:\n",
    "print(popular_names[:20])"
   ]
  },
  {
   "cell_type": "markdown",
   "metadata": {},
   "source": [
    "### Common ways to standardize words are stemming or lemmatization. I'm suspicious of the efficacy of lemmatization for companies' names: lemmatization only works properly when you know the part of speech (noun, verb, adjective...) of the word you're trying to standardize, and since business names aren't complete sentences, I'm doubtful that sentence parsers will do a great job figuring that out.\n",
    "### Eventually I'll compare the results of stemming vs lemmatization on business names, but that's going on the back-burner."
   ]
  },
  {
   "cell_type": "code",
   "execution_count": 22,
   "metadata": {},
   "outputs": [
    {
     "name": "stdout",
     "output_type": "stream",
     "text": [
      "[('inc', 18760), ('llc', 6262), ('&', 2496), ('corpor', 1672), ('servic', 1650), ('associ', 1500), ('of', 1361), ('compani', 1313), ('the', 1310), ('co', 1148), ('realti', 1145), ('ltd', 1031), ('corp', 968), ('island', 841), ('and', 796), ('rhode', 718), ('enterpris', 716), ('construct', 697), ('group', 649), ('incorpor', 623)]\n"
     ]
    }
   ],
   "source": [
    "stemmer = PorterStemmer()\n",
    "list_of_stems = [stemmer.stem(word) for word in new_list]\n",
    "\n",
    "# Count the occurrence of each word:\n",
    "name_count2 = Counter(list_of_stems)\n",
    "popular_names2 = name_count2.most_common(500)\n",
    "\n",
    "# Print the 10 most popular names:\n",
    "print(popular_names2[:20])"
   ]
  },
  {
   "cell_type": "code",
   "execution_count": 23,
   "metadata": {},
   "outputs": [
    {
     "name": "stdout",
     "output_type": "stream",
     "text": [
      "[('servic', 1650), ('realti', 1145), ('island', 841), ('rhode', 718), ('enterpris', 716), ('construct', 697), ('manag', 553), ('properti', 538), ('new', 468), ('develop', 441), ('invest', 408), ('intern', 391), ('system', 381), ('mortgag', 357), ('center', 355), ('england', 333), ('ri', 332), ('consult', 329), ('home', 329), ('commun', 323), ('financi', 309), ('auto', 306), ('product', 305), ('american', 295), ('market', 288), ('design', 281), ('hold', 277), ('provid', 273), ('street', 265), ('insur', 229), ('industri', 229), ('limit', 227), ('technolog', 226), ('estat', 220), ('solut', 213), ('entiti', 208), ('not', 203), ('restaur', 202), ('qualifi', 200), ('into', 197), ('capit', 195), ('builder', 193), ('sale', 191), ('**merg', 189), ('east', 185), ('agenc', 183), ('real', 177), ('newport', 176), ('state', 174), ('fund', 172), ('food', 171), ('famili', 168), ('truck', 162), ('build', 161), ('electr', 156), ('leas', 155), ('son', 155), ('health', 151), ('transport', 150), ('nation', 150), ('north', 150), ('care', 147), ('america', 146), ('ocean', 143), ('clean', 141), ('hill', 141), ('hous', 139), ('bay', 138), ('jewelri', 132), ('marin', 130), ('network', 129), ('usa', 127), ('medic', 126), ('west', 121), ('landscap', 121), ('secur', 116), ('park', 114), ('paint', 114), ('partner', 113), ('south', 111)]\n"
     ]
    }
   ],
   "source": [
    "# There are lots of words in this list that shouldn't be there. For example, any word that indicates what type of legal\n",
    "# entity the company is (llc, inc, corporation) should be excluded since we already have that data.\n",
    "# Also, there are lots of one letter words, and we wouldn't believe they have statistical significance even if our\n",
    "# tests indicated that they did. Let's clear those out from the list of popular names.\n",
    "\n",
    "boring_names = ['inc', 'llc', 'corporation', 'the', 'of', 'company', 'associate', 'co', 'ltd', 'corp', 'and', 'enterprise',\n",
    "               'association', 'group', 'associates', 'enterprises', 'incorporated', 'limited', 'partnership',\n",
    "               'club', 'in', 'for', 'lp', 'an', 'corpor', 'associ', 'compani', 'incorpor', 'busi', 'foundat', 'llp']\n",
    "popular_and_not_boring_names = [item for item in popular_names2 if item[0] not in boring_names and len(item[0]) > 1]\n",
    "print(popular_and_not_boring_names[:80])"
   ]
  },
  {
   "cell_type": "markdown",
   "metadata": {},
   "source": [
    "### Now that we've found the most popular names, let's also look at important words in the companies' descriptions of their businesses."
   ]
  },
  {
   "cell_type": "code",
   "execution_count": 24,
   "metadata": {},
   "outputs": [],
   "source": [
    "# The Comments variable is also called \"Purpose\" on Rhode Island's website. It's intended to be where companies describe\n",
    "# what kind of business they intend to do. Most companies give at least a brief answer, but plenty don't.\n",
    "# My favorite common fake response is \"Any Lawful Purpose.\"\n",
    "\n",
    "# Remove all punctuation and newline characters\n",
    "list_of_comments = [row[1] for row in df['Comments'].iteritems()]\n",
    "list_of_comments_no_punctuation = []\n",
    "for name in list_of_comments:\n",
    "    name = name.replace('\\n', ' ')\n",
    "    list_of_comments_no_punctuation += [re.sub('\\,|\\.|\\!|\\;|\\:|\\?|', '', name)]\n",
    "\n",
    "# Break each name into a list of words so we can count the occurrence of each word\n",
    "new_list = []\n",
    "for words in list_of_comments_no_punctuation:\n",
    "    for word in words.split():\n",
    "        new_list += [word.lower()]\n",
    "\n",
    "# Just like we did with EntityName, we need to stem the comments:\n",
    "list_of_stems = [stemmer.stem(word) for word in new_list]\n",
    "\n",
    "# Count the occurrence of each word:\n",
    "comment_count = Counter(list_of_stems)\n",
    "popular_comments = comment_count.most_common(500)"
   ]
  },
  {
   "cell_type": "code",
   "execution_count": 25,
   "metadata": {},
   "outputs": [
    {
     "name": "stdout",
     "output_type": "stream",
     "text": [
      "[('titl', 27078), ('servic', 3044), ('real', 2635), ('estat', 2350), ('sale', 2092), ('busi', 1801), ('oper', 1753), ('sell', 1368), ('provid', 1330), ('manag', 1304), ('engag', 1081), ('develop', 1029), ('retail', 1022), ('product', 1018), ('own', 894), ('construct', 879), ('gener', 877), ('consult', 829), ('manufactur', 788), ('properti', 749), ('leas', 693), ('relat', 651), ('restaur', 640), ('other', 621), ('or', 572), ('invest', 564), ('all', 536), ('purchas', 529), ('commerci', 519), ('repair', 514), ('mortgag', 511), ('market', 509), ('design', 508), ('hold', 498), ('buy', 494), ('food', 494), ('compani', 487), ('equip', 487), ('distribut', 474), ('residenti', 445), ('deal', 426), ('wholesal', 422), ('instal', 416), ('build', 416), ('insur', 379), ('conduct', 354), ('comput', 348), ('educ', 348), ('promot', 344), ('with', 336), ('home', 336), ('rental', 335), ('store', 320), ('contract', 309), ('industri', 308), ('ani', 299), ('public', 289), ('acquir', 281), ('commun', 281), ('ownership', 273), ('jewelri', 268), ('activ', 267), ('maintain', 266), ('care', 263), ('includ', 260), ('practic', 242), ('broker', 240), ('otherwis', 236), ('and/or', 236), ('mainten', 231), ('telecommun', 228), ('system', 225), ('purpos', 224), ('health', 222), ('improv', 218), ('person', 217), ('kind', 216), ('medic', 216), ('use', 206), ('island', 203)]\n"
     ]
    }
   ],
   "source": [
    "# Filter out the common & unhelpful words. Look at the resulting list to pick out worthwhile words to focus on.\n",
    "# The number clusters are references to the Rhode Island code, typically Title 7.1, which has been repealed.\n",
    "# There's definitely some good information in which code people are quoting, but it'd take more research to discover that.\n",
    "boring_names = ['inc', 'llc', 'corporation', 'the', 'of', 'company', 'associate', 'co', 'ltd', 'corp', 'and', 'enterprise',\n",
    "               'association', 'group', 'associates', 'enterprises', 'incorporated', 'limited', 'partnership',\n",
    "               'club', 'in', 'for', 'lp', 'an', 'title', '7-6', '7-16', '7-11-51', 'to', '7-11', '7-12-1405',\n",
    "                '7-13-8', '7-12-1701', 'as', '116', 'on', 'gl', 'at', '1956', 'business', 'operate']\n",
    "popular_and_not_boring_comments = [item for item in popular_comments if item[0] not in boring_names and len(item[0]) > 1]\n",
    "print(popular_and_not_boring_comments[:80])"
   ]
  },
  {
   "cell_type": "markdown",
   "metadata": {},
   "source": [
    "### Make variables for whether a company's name or self-description contains the most popular words or not"
   ]
  },
  {
   "cell_type": "code",
   "execution_count": 26,
   "metadata": {},
   "outputs": [
    {
     "data": {
      "text/plain": [
       "694"
      ]
     },
     "execution_count": 26,
     "metadata": {},
     "output_type": "execute_result"
    }
   ],
   "source": [
    "# These lists are based on the 500 most popular words in names or descriptions (before filtering out words).\n",
    "# That 500 number is very arbitrary.\n",
    "all_the_popular_words = [word[0] for word in popular_and_not_boring_names]\n",
    "all_the_popular_words += [word[0] for word in popular_and_not_boring_comments]\n",
    "new_variable_list = list(set(all_the_popular_words))\n",
    "len(new_variable_list)"
   ]
  },
  {
   "cell_type": "code",
   "execution_count": 27,
   "metadata": {},
   "outputs": [],
   "source": [
    "# Adding those hundreds of variables to the dataframe.\n",
    "# Scrub entity names & descriptions in the same way we did to come up with the most common words.\n",
    "# Return a list of all words present in a company's name/description\n",
    "\n",
    "def standardize_names_and_comments(entity_name, self_description):\n",
    "    combo_phrase = []\n",
    "    return_phrase = []\n",
    "\n",
    "    entity_name.replace('\\n', ' ')\n",
    "    self_description.replace('\\n', ' ')\n",
    "\n",
    "    for word in entity_name.split():\n",
    "        combo_phrase += [word.lower()]\n",
    "    for word in self_description.split():\n",
    "        combo_phrase += [word.lower()]\n",
    "\n",
    "    for word in combo_phrase:\n",
    "        return_phrase += [re.sub('\\,|\\.|\\!|\\;|\\:|\\?|', '', word)]\n",
    "\n",
    "    return list(set([stemmer.stem(word) for word in return_phrase if len(word) > 1]))"
   ]
  },
  {
   "cell_type": "code",
   "execution_count": 28,
   "metadata": {},
   "outputs": [
    {
     "data": {
      "text/plain": [
       "(32455, 719)"
      ]
     },
     "execution_count": 28,
     "metadata": {},
     "output_type": "execute_result"
    }
   ],
   "source": [
    "# Add all our new variables to the dataframe\n",
    "new_keywords = dict.fromkeys(new_variable_list, pd.Series([False] * len(df)))\n",
    "df = df.assign(**new_keywords)\n",
    "df.shape"
   ]
  },
  {
   "cell_type": "code",
   "execution_count": 29,
   "metadata": {},
   "outputs": [],
   "source": [
    "# Iterate over each row in the df. Figure out which words they share with new_variable_list, and switch that Boolean to True\n",
    "for index, row in df.iterrows():\n",
    "        words_present = standardize_names_and_comments(row['EntityName'], row['Comments'])\n",
    "        for word in words_present:\n",
    "            if word in new_variable_list:\n",
    "                df.at[index, word] = True"
   ]
  },
  {
   "cell_type": "code",
   "execution_count": 30,
   "metadata": {},
   "outputs": [
    {
     "data": {
      "text/plain": [
       "count     32433\n",
       "unique        2\n",
       "top       False\n",
       "freq      29787\n",
       "Name: real, dtype: object"
      ]
     },
     "execution_count": 30,
     "metadata": {},
     "output_type": "execute_result"
    }
   ],
   "source": [
    "# As long as there are 2 unique values, instead of the 1 (\"False\") we originally made, then things worked:\n",
    "df.real.describe()"
   ]
  },
  {
   "cell_type": "code",
   "execution_count": 31,
   "metadata": {},
   "outputs": [
    {
     "name": "stdout",
     "output_type": "stream",
     "text": [
      "Average life expectancy\n",
      "Estate (presumably real estate): 3816.0 days\n",
      "Construction: 3169.0 days\n",
      "Restaurant: 3456.0 days\n",
      "Jewelry: 5338.0 days\n",
      "Design: 3033.0 days\n",
      "Investment: 3193.0 days\n",
      "Insurance: 3893.0 days\n"
     ]
    }
   ],
   "source": [
    "# Look at the average life expectancy for businesses containing a few popular words:\n",
    "print(\"Average life expectancy\")\n",
    "print(\"Estate (presumably real estate):\", round(df.loc[df.estat == True, \"time_in_business\"].mean(), 0), \"days\")\n",
    "print(\"Construction:\", round(df.loc[df.construct == True, \"time_in_business\"].mean(), 0), \"days\")\n",
    "print(\"Restaurant:\", round(df.loc[df.restaur == True, \"time_in_business\"].mean(), 0), \"days\")\n",
    "print(\"Jewelry:\", round(df.loc[df.jewelri == True, \"time_in_business\"].mean(), 0), \"days\")\n",
    "print(\"Design:\", round(df.loc[df.design == True, \"time_in_business\"].mean(), 0), \"days\")\n",
    "print(\"Investment:\", round(df.loc[df.invest == True, \"time_in_business\"].mean(), 0), \"days\")\n",
    "print(\"Insurance:\", round(df.loc[df.insur == True, \"time_in_business\"].mean(), 0), \"days\")"
   ]
  },
  {
   "cell_type": "markdown",
   "metadata": {
    "collapsed": true
   },
   "source": [
    "### With the random sample I used, some differences were substantial. It looks like we may have some good predictors.\n",
    "### Let's make the last few variables we're going to use: the number of directors & officers listed, a word-count for the Comments variable similar to what we did for company names, and dummy variables for the type of legal entity registered"
   ]
  },
  {
   "cell_type": "code",
   "execution_count": 32,
   "metadata": {},
   "outputs": [],
   "source": [
    "# The D&O data I grabbed isn't very good. I should have saved a count for each row containing data \n",
    "# in the Directors & Officers table, but I grabbed the values instead. \n",
    "# There are lots of clever things we could do, like count the number of words coercible into integers \n",
    "# (1 per street address plus 1 per zip code), count how often \"USA\" shows up as the country code, etc, but\n",
    "# since this isn't my real, final product, I'm going to take the easy way out & count the number of characters\n",
    "# present in the field. That should serve as a fine proxy.\n",
    "df['officers_listed'] = df.apply(lambda row: len(row.d_and_o), axis=1)"
   ]
  },
  {
   "cell_type": "code",
   "execution_count": 33,
   "metadata": {},
   "outputs": [],
   "source": [
    "# Make dummy variables for all the types of legal entities that have been registered. We'll use all of them\n",
    "# but one in the analysis ('Foreign Corporation').\n",
    "reg_df = pd.concat([df, pd.get_dummies(df['EntityType'])], axis=1)"
   ]
  },
  {
   "cell_type": "markdown",
   "metadata": {},
   "source": [
    "### Train/test split the data so it's ready to use"
   ]
  },
  {
   "cell_type": "code",
   "execution_count": 43,
   "metadata": {},
   "outputs": [],
   "source": [
    "explanatory_variables = new_variable_list + ['officers_listed']\n",
    "\n",
    "# time_in_business as days\n",
    "X_train, X_test, y_train, y_test = train_test_split(reg_df[explanatory_variables],\n",
    "                                                    reg_df['time_in_business'],\n",
    "                                                    test_size=0.2,\n",
    "                                                    random_state=5)\n",
    "\n",
    "# log_time_in_business\n",
    "X_train_logged, X_test_logged, y_train_logged, y_test_logged = train_test_split(reg_df[explanatory_variables],\n",
    "                                                                reg_df['log_time_in_business'],\n",
    "                                                                test_size=0.2,\n",
    "                                                                random_state=5)"
   ]
  },
  {
   "cell_type": "markdown",
   "metadata": {},
   "source": [
    "# Step 5: make some models"
   ]
  },
  {
   "cell_type": "code",
   "execution_count": null,
   "metadata": {},
   "outputs": [],
   "source": [
    "# Bigger question: if I give you details about a new company, can you predict how long they'll be in business?\n",
    "# That's appropriate for a normal linear regression, assuming we ignore the censoring issue for still-in-business companies."
   ]
  },
  {
   "cell_type": "markdown",
   "metadata": {},
   "source": [
    "## Start with a basic elastic net model, modeling time in business in days (not the log)"
   ]
  },
  {
   "cell_type": "markdown",
   "metadata": {},
   "source": [
    "### But first, we have to do something about the size of our dataframe! I get a MemoryError when trying to run an elastic net model. Let's first shrink the size of our dataframes."
   ]
  },
  {
   "cell_type": "code",
   "execution_count": 47,
   "metadata": {},
   "outputs": [
    {
     "name": "stdout",
     "output_type": "stream",
     "text": [
      "<class 'pandas.core.frame.DataFrame'>\n",
      "Int64Index: 25964 entries, 6644 to 2920\n",
      "Columns: 695 entries, teach to officers_listed\n",
      "dtypes: int64(1), object(694)\n",
      "memory usage: 275.6 MB\n"
     ]
    }
   ],
   "source": [
    "X_train.info(memory_usage='deep')"
   ]
  },
  {
   "cell_type": "code",
   "execution_count": null,
   "metadata": {},
   "outputs": [],
   "source": []
  },
  {
   "cell_type": "code",
   "execution_count": null,
   "metadata": {},
   "outputs": [],
   "source": []
  },
  {
   "cell_type": "code",
   "execution_count": null,
   "metadata": {},
   "outputs": [],
   "source": []
  },
  {
   "cell_type": "code",
   "execution_count": 44,
   "metadata": {},
   "outputs": [
    {
     "ename": "MemoryError",
     "evalue": "",
     "output_type": "error",
     "traceback": [
      "\u001b[1;31m---------------------------------------------------------------------------\u001b[0m",
      "\u001b[1;31mMemoryError\u001b[0m                               Traceback (most recent call last)",
      "\u001b[1;32m<ipython-input-44-e8b8c43fb0d4>\u001b[0m in \u001b[0;36m<module>\u001b[1;34m\u001b[0m\n\u001b[0;32m      2\u001b[0m \u001b[1;31m# as a first line of defense.\u001b[0m\u001b[1;33m\u001b[0m\u001b[1;33m\u001b[0m\u001b[0m\n\u001b[0;32m      3\u001b[0m \u001b[1;33m\u001b[0m\u001b[0m\n\u001b[1;32m----> 4\u001b[1;33m \u001b[0me_net\u001b[0m \u001b[1;33m=\u001b[0m \u001b[0msm\u001b[0m\u001b[1;33m.\u001b[0m\u001b[0mOLS\u001b[0m\u001b[1;33m(\u001b[0m\u001b[0my_train\u001b[0m\u001b[1;33m,\u001b[0m \u001b[0mX_train\u001b[0m\u001b[1;33m.\u001b[0m\u001b[0mastype\u001b[0m\u001b[1;33m(\u001b[0m\u001b[0mfloat\u001b[0m\u001b[1;33m)\u001b[0m\u001b[1;33m,\u001b[0m \u001b[0mL1_wt\u001b[0m\u001b[1;33m=\u001b[0m\u001b[1;36m.5\u001b[0m\u001b[1;33m)\u001b[0m\u001b[1;33m\u001b[0m\u001b[0m\n\u001b[0m\u001b[0;32m      5\u001b[0m \u001b[0mprint\u001b[0m\u001b[1;33m(\u001b[0m\u001b[0me_net\u001b[0m\u001b[1;33m.\u001b[0m\u001b[0mfit\u001b[0m\u001b[1;33m(\u001b[0m\u001b[1;33m)\u001b[0m\u001b[1;33m.\u001b[0m\u001b[0msummary\u001b[0m\u001b[1;33m(\u001b[0m\u001b[1;33m)\u001b[0m\u001b[1;33m)\u001b[0m\u001b[1;33m\u001b[0m\u001b[0m\n",
      "\u001b[1;32mc:\\users\\aubre\\desktop\\github_math\\git_math\\lib\\site-packages\\pandas\\core\\generic.py\u001b[0m in \u001b[0;36mastype\u001b[1;34m(self, dtype, copy, errors, **kwargs)\u001b[0m\n\u001b[0;32m   5689\u001b[0m             \u001b[1;31m# else, only a single dtype is given\u001b[0m\u001b[1;33m\u001b[0m\u001b[1;33m\u001b[0m\u001b[0m\n\u001b[0;32m   5690\u001b[0m             new_data = self._data.astype(dtype=dtype, copy=copy, errors=errors,\n\u001b[1;32m-> 5691\u001b[1;33m                                          **kwargs)\n\u001b[0m\u001b[0;32m   5692\u001b[0m             \u001b[1;32mreturn\u001b[0m \u001b[0mself\u001b[0m\u001b[1;33m.\u001b[0m\u001b[0m_constructor\u001b[0m\u001b[1;33m(\u001b[0m\u001b[0mnew_data\u001b[0m\u001b[1;33m)\u001b[0m\u001b[1;33m.\u001b[0m\u001b[0m__finalize__\u001b[0m\u001b[1;33m(\u001b[0m\u001b[0mself\u001b[0m\u001b[1;33m)\u001b[0m\u001b[1;33m\u001b[0m\u001b[0m\n\u001b[0;32m   5693\u001b[0m \u001b[1;33m\u001b[0m\u001b[0m\n",
      "\u001b[1;32mc:\\users\\aubre\\desktop\\github_math\\git_math\\lib\\site-packages\\pandas\\core\\internals\\managers.py\u001b[0m in \u001b[0;36mastype\u001b[1;34m(self, dtype, **kwargs)\u001b[0m\n\u001b[0;32m    529\u001b[0m \u001b[1;33m\u001b[0m\u001b[0m\n\u001b[0;32m    530\u001b[0m     \u001b[1;32mdef\u001b[0m \u001b[0mastype\u001b[0m\u001b[1;33m(\u001b[0m\u001b[0mself\u001b[0m\u001b[1;33m,\u001b[0m \u001b[0mdtype\u001b[0m\u001b[1;33m,\u001b[0m \u001b[1;33m**\u001b[0m\u001b[0mkwargs\u001b[0m\u001b[1;33m)\u001b[0m\u001b[1;33m:\u001b[0m\u001b[1;33m\u001b[0m\u001b[0m\n\u001b[1;32m--> 531\u001b[1;33m         \u001b[1;32mreturn\u001b[0m \u001b[0mself\u001b[0m\u001b[1;33m.\u001b[0m\u001b[0mapply\u001b[0m\u001b[1;33m(\u001b[0m\u001b[1;34m'astype'\u001b[0m\u001b[1;33m,\u001b[0m \u001b[0mdtype\u001b[0m\u001b[1;33m=\u001b[0m\u001b[0mdtype\u001b[0m\u001b[1;33m,\u001b[0m \u001b[1;33m**\u001b[0m\u001b[0mkwargs\u001b[0m\u001b[1;33m)\u001b[0m\u001b[1;33m\u001b[0m\u001b[0m\n\u001b[0m\u001b[0;32m    532\u001b[0m \u001b[1;33m\u001b[0m\u001b[0m\n\u001b[0;32m    533\u001b[0m     \u001b[1;32mdef\u001b[0m \u001b[0mconvert\u001b[0m\u001b[1;33m(\u001b[0m\u001b[0mself\u001b[0m\u001b[1;33m,\u001b[0m \u001b[1;33m**\u001b[0m\u001b[0mkwargs\u001b[0m\u001b[1;33m)\u001b[0m\u001b[1;33m:\u001b[0m\u001b[1;33m\u001b[0m\u001b[0m\n",
      "\u001b[1;32mc:\\users\\aubre\\desktop\\github_math\\git_math\\lib\\site-packages\\pandas\\core\\internals\\managers.py\u001b[0m in \u001b[0;36mapply\u001b[1;34m(self, f, axes, filter, do_integrity_check, consolidate, **kwargs)\u001b[0m\n\u001b[0;32m    400\u001b[0m         bm = self.__class__(result_blocks, axes or self.axes,\n\u001b[0;32m    401\u001b[0m                             do_integrity_check=do_integrity_check)\n\u001b[1;32m--> 402\u001b[1;33m         \u001b[0mbm\u001b[0m\u001b[1;33m.\u001b[0m\u001b[0m_consolidate_inplace\u001b[0m\u001b[1;33m(\u001b[0m\u001b[1;33m)\u001b[0m\u001b[1;33m\u001b[0m\u001b[0m\n\u001b[0m\u001b[0;32m    403\u001b[0m         \u001b[1;32mreturn\u001b[0m \u001b[0mbm\u001b[0m\u001b[1;33m\u001b[0m\u001b[0m\n\u001b[0;32m    404\u001b[0m \u001b[1;33m\u001b[0m\u001b[0m\n",
      "\u001b[1;32mc:\\users\\aubre\\desktop\\github_math\\git_math\\lib\\site-packages\\pandas\\core\\internals\\managers.py\u001b[0m in \u001b[0;36m_consolidate_inplace\u001b[1;34m(self)\u001b[0m\n\u001b[0;32m    927\u001b[0m     \u001b[1;32mdef\u001b[0m \u001b[0m_consolidate_inplace\u001b[0m\u001b[1;33m(\u001b[0m\u001b[0mself\u001b[0m\u001b[1;33m)\u001b[0m\u001b[1;33m:\u001b[0m\u001b[1;33m\u001b[0m\u001b[0m\n\u001b[0;32m    928\u001b[0m         \u001b[1;32mif\u001b[0m \u001b[1;32mnot\u001b[0m \u001b[0mself\u001b[0m\u001b[1;33m.\u001b[0m\u001b[0mis_consolidated\u001b[0m\u001b[1;33m(\u001b[0m\u001b[1;33m)\u001b[0m\u001b[1;33m:\u001b[0m\u001b[1;33m\u001b[0m\u001b[0m\n\u001b[1;32m--> 929\u001b[1;33m             \u001b[0mself\u001b[0m\u001b[1;33m.\u001b[0m\u001b[0mblocks\u001b[0m \u001b[1;33m=\u001b[0m \u001b[0mtuple\u001b[0m\u001b[1;33m(\u001b[0m\u001b[0m_consolidate\u001b[0m\u001b[1;33m(\u001b[0m\u001b[0mself\u001b[0m\u001b[1;33m.\u001b[0m\u001b[0mblocks\u001b[0m\u001b[1;33m)\u001b[0m\u001b[1;33m)\u001b[0m\u001b[1;33m\u001b[0m\u001b[0m\n\u001b[0m\u001b[0;32m    930\u001b[0m             \u001b[0mself\u001b[0m\u001b[1;33m.\u001b[0m\u001b[0m_is_consolidated\u001b[0m \u001b[1;33m=\u001b[0m \u001b[1;32mTrue\u001b[0m\u001b[1;33m\u001b[0m\u001b[0m\n\u001b[0;32m    931\u001b[0m             \u001b[0mself\u001b[0m\u001b[1;33m.\u001b[0m\u001b[0m_known_consolidated\u001b[0m \u001b[1;33m=\u001b[0m \u001b[1;32mTrue\u001b[0m\u001b[1;33m\u001b[0m\u001b[0m\n",
      "\u001b[1;32mc:\\users\\aubre\\desktop\\github_math\\git_math\\lib\\site-packages\\pandas\\core\\internals\\managers.py\u001b[0m in \u001b[0;36m_consolidate\u001b[1;34m(blocks)\u001b[0m\n\u001b[0;32m   1897\u001b[0m     \u001b[1;32mfor\u001b[0m \u001b[1;33m(\u001b[0m\u001b[0m_can_consolidate\u001b[0m\u001b[1;33m,\u001b[0m \u001b[0mdtype\u001b[0m\u001b[1;33m)\u001b[0m\u001b[1;33m,\u001b[0m \u001b[0mgroup_blocks\u001b[0m \u001b[1;32min\u001b[0m \u001b[0mgrouper\u001b[0m\u001b[1;33m:\u001b[0m\u001b[1;33m\u001b[0m\u001b[0m\n\u001b[0;32m   1898\u001b[0m         merged_blocks = _merge_blocks(list(group_blocks), dtype=dtype,\n\u001b[1;32m-> 1899\u001b[1;33m                                       _can_consolidate=_can_consolidate)\n\u001b[0m\u001b[0;32m   1900\u001b[0m         \u001b[0mnew_blocks\u001b[0m \u001b[1;33m=\u001b[0m \u001b[0m_extend_blocks\u001b[0m\u001b[1;33m(\u001b[0m\u001b[0mmerged_blocks\u001b[0m\u001b[1;33m,\u001b[0m \u001b[0mnew_blocks\u001b[0m\u001b[1;33m)\u001b[0m\u001b[1;33m\u001b[0m\u001b[0m\n\u001b[0;32m   1901\u001b[0m     \u001b[1;32mreturn\u001b[0m \u001b[0mnew_blocks\u001b[0m\u001b[1;33m\u001b[0m\u001b[0m\n",
      "\u001b[1;32mc:\\users\\aubre\\desktop\\github_math\\git_math\\lib\\site-packages\\pandas\\core\\internals\\blocks.py\u001b[0m in \u001b[0;36m_merge_blocks\u001b[1;34m(blocks, dtype, _can_consolidate)\u001b[0m\n\u001b[0;32m   3144\u001b[0m         \u001b[1;31m# combination of those slices is a slice, too.\u001b[0m\u001b[1;33m\u001b[0m\u001b[1;33m\u001b[0m\u001b[0m\n\u001b[0;32m   3145\u001b[0m         \u001b[0mnew_mgr_locs\u001b[0m \u001b[1;33m=\u001b[0m \u001b[0mnp\u001b[0m\u001b[1;33m.\u001b[0m\u001b[0mconcatenate\u001b[0m\u001b[1;33m(\u001b[0m\u001b[1;33m[\u001b[0m\u001b[0mb\u001b[0m\u001b[1;33m.\u001b[0m\u001b[0mmgr_locs\u001b[0m\u001b[1;33m.\u001b[0m\u001b[0mas_array\u001b[0m \u001b[1;32mfor\u001b[0m \u001b[0mb\u001b[0m \u001b[1;32min\u001b[0m \u001b[0mblocks\u001b[0m\u001b[1;33m]\u001b[0m\u001b[1;33m)\u001b[0m\u001b[1;33m\u001b[0m\u001b[0m\n\u001b[1;32m-> 3146\u001b[1;33m         \u001b[0mnew_values\u001b[0m \u001b[1;33m=\u001b[0m \u001b[0mnp\u001b[0m\u001b[1;33m.\u001b[0m\u001b[0mvstack\u001b[0m\u001b[1;33m(\u001b[0m\u001b[1;33m[\u001b[0m\u001b[0mb\u001b[0m\u001b[1;33m.\u001b[0m\u001b[0mvalues\u001b[0m \u001b[1;32mfor\u001b[0m \u001b[0mb\u001b[0m \u001b[1;32min\u001b[0m \u001b[0mblocks\u001b[0m\u001b[1;33m]\u001b[0m\u001b[1;33m)\u001b[0m\u001b[1;33m\u001b[0m\u001b[0m\n\u001b[0m\u001b[0;32m   3147\u001b[0m \u001b[1;33m\u001b[0m\u001b[0m\n\u001b[0;32m   3148\u001b[0m         \u001b[0margsort\u001b[0m \u001b[1;33m=\u001b[0m \u001b[0mnp\u001b[0m\u001b[1;33m.\u001b[0m\u001b[0margsort\u001b[0m\u001b[1;33m(\u001b[0m\u001b[0mnew_mgr_locs\u001b[0m\u001b[1;33m)\u001b[0m\u001b[1;33m\u001b[0m\u001b[0m\n",
      "\u001b[1;32mc:\\users\\aubre\\desktop\\github_math\\git_math\\lib\\site-packages\\numpy\\core\\shape_base.py\u001b[0m in \u001b[0;36mvstack\u001b[1;34m(tup)\u001b[0m\n\u001b[0;32m    281\u001b[0m     \"\"\"\n\u001b[0;32m    282\u001b[0m     \u001b[0m_warn_for_nonsequence\u001b[0m\u001b[1;33m(\u001b[0m\u001b[0mtup\u001b[0m\u001b[1;33m)\u001b[0m\u001b[1;33m\u001b[0m\u001b[0m\n\u001b[1;32m--> 283\u001b[1;33m     \u001b[1;32mreturn\u001b[0m \u001b[0m_nx\u001b[0m\u001b[1;33m.\u001b[0m\u001b[0mconcatenate\u001b[0m\u001b[1;33m(\u001b[0m\u001b[1;33m[\u001b[0m\u001b[0matleast_2d\u001b[0m\u001b[1;33m(\u001b[0m\u001b[0m_m\u001b[0m\u001b[1;33m)\u001b[0m \u001b[1;32mfor\u001b[0m \u001b[0m_m\u001b[0m \u001b[1;32min\u001b[0m \u001b[0mtup\u001b[0m\u001b[1;33m]\u001b[0m\u001b[1;33m,\u001b[0m \u001b[1;36m0\u001b[0m\u001b[1;33m)\u001b[0m\u001b[1;33m\u001b[0m\u001b[0m\n\u001b[0m\u001b[0;32m    284\u001b[0m \u001b[1;33m\u001b[0m\u001b[0m\n\u001b[0;32m    285\u001b[0m \u001b[1;33m\u001b[0m\u001b[0m\n",
      "\u001b[1;31mMemoryError\u001b[0m: "
     ]
    }
   ],
   "source": [
    "# We have so many variables here that overfitting is a reasonable concern. Let's go with an elastic net model\n",
    "# as a first line of defense.\n",
    "\n",
    "e_net = sm.OLS(y_train, X_train.astype(float), L1_wt=.5)\n",
    "print(e_net.fit().summary())"
   ]
  },
  {
   "cell_type": "code",
   "execution_count": null,
   "metadata": {},
   "outputs": [],
   "source": [
    "# This model is clearly overspecified. Clear out the worst performing variables & see what happens\n",
    "vars_to_keep = []\n",
    "for item in explanatory_variables:\n",
    "    if e_net.fit().pvalues[item] < 0.1:\n",
    "        vars_to_keep += [item]\n",
    "\n",
    "smaller_X_train = X_train[vars_to_keep]\n",
    "\n",
    "e_net2 = sm.OLS(y_train, smaller_X_train.astype(float), L1_wt=.5)\n",
    "print(e_net2.fit().summary())"
   ]
  },
  {
   "cell_type": "markdown",
   "metadata": {
    "collapsed": true
   },
   "source": [
    "## An adjusted R^2 of 45% is crazy. How can we know so much about the life expectancy of a company from such a small amount of information?"
   ]
  },
  {
   "cell_type": "code",
   "execution_count": null,
   "metadata": {},
   "outputs": [],
   "source": [
    "#test_fit = sm.OLS(y_test, X_test[vars_to_keep].astype(float), L1_wt=.5)\n",
    "\n",
    "#e_fit2 = test_fit.fit()\n",
    "#test_fit = e_fit2.predict(X_test[vars_to_keep])\n",
    "\n",
    "# Set an index for both series\n",
    "#test_fit.reset_index(drop=True, inplace=True)\n",
    "#y_test_indexed = y_test.reset_index(drop=True)\n",
    "\n",
    "# Put them in the same DF\n",
    "#comparison_df = pd.concat([test_fit, y_test_indexed], axis=1)\n",
    "#comparison_df.sort_values(\"time_in_business\", inplace=True)"
   ]
  },
  {
   "cell_type": "code",
   "execution_count": null,
   "metadata": {},
   "outputs": [],
   "source": [
    "#### Graph predictions vs actuals. Order by size of the actual\n",
    "\n"
   ]
  },
  {
   "cell_type": "markdown",
   "metadata": {},
   "source": [
    "## Now use the same elastic net model with logged days_in_business"
   ]
  },
  {
   "cell_type": "code",
   "execution_count": null,
   "metadata": {},
   "outputs": [],
   "source": [
    "e_net_logged = sm.OLS(y_train_logged, X_train_logged.astype(float), L1_wt=.5)\n",
    "print(e_net_logged.fit().summary())"
   ]
  },
  {
   "cell_type": "code",
   "execution_count": null,
   "metadata": {},
   "outputs": [],
   "source": [
    "# Once more, dropping a bunch of poor predictors:\n",
    "vars_to_keep = []\n",
    "for item in explanatory_variables:\n",
    "    if e_net_logged.fit().pvalues[item] < 0.1:\n",
    "        vars_to_keep += [item]\n",
    "\n",
    "smaller_X_train_logged = X_train_logged[vars_to_keep]\n",
    "\n",
    "e_net2_logged = sm.OLS(y_train_logged, smaller_X_train_logged.astype(float), L1_wt=.5)\n",
    "print(e_net2_logged.fit().summary())"
   ]
  },
  {
   "cell_type": "markdown",
   "metadata": {},
   "source": [
    "## Our adjusted R^2 is now 88%. We've done no model tuning whatsoever. I'm astonished.\n",
    "### Also notice how many more significant variables we had in this model than in the non-logged model."
   ]
  },
  {
   "cell_type": "code",
   "execution_count": null,
   "metadata": {},
   "outputs": [],
   "source": [
    "# Graph the results from test values against their actual values."
   ]
  },
  {
   "cell_type": "code",
   "execution_count": null,
   "metadata": {},
   "outputs": [],
   "source": []
  },
  {
   "cell_type": "code",
   "execution_count": null,
   "metadata": {},
   "outputs": [],
   "source": []
  },
  {
   "cell_type": "code",
   "execution_count": null,
   "metadata": {},
   "outputs": [],
   "source": []
  },
  {
   "cell_type": "code",
   "execution_count": null,
   "metadata": {},
   "outputs": [],
   "source": []
  },
  {
   "cell_type": "code",
   "execution_count": null,
   "metadata": {},
   "outputs": [],
   "source": [
    "# Finish by comparing our linear regression model to Random Forests, where I include the same variables,\n",
    "# then another where I throw in more (all) variables."
   ]
  },
  {
   "cell_type": "code",
   "execution_count": null,
   "metadata": {},
   "outputs": [],
   "source": [
    "# rf_df = "
   ]
  },
  {
   "cell_type": "code",
   "execution_count": null,
   "metadata": {},
   "outputs": [],
   "source": []
  },
  {
   "cell_type": "markdown",
   "metadata": {},
   "source": [
    "# This is far from a completed study. \n",
    "\n",
    "### Things left to do:\n",
    "    - There's a colinearity problem introduced by having separate variables for keywords in both EntityName and Comments: lots of companies with names like ABC Insurance will also say in their description that they sell insurance. Instead, the keyword variables should apply to both EntityName and Comments.\n",
    "    - Similarly, I should figure out some clever way to make different variables for all words in EntityName & Comments that's present more than X amount of times. This whole inspect-by-hand thing isn't scalable and leaves too much room for my own biases in what names are important.\n",
    "    - Inspect the error terms. Because log(time_in_business) isn't normally distributed, and the exceptions seem to be around the tails of the distribution, I bet the error term isn't fully independent.\n",
    "    - Assess the impact of our data being censored (companies that are still in business aren't included in the analysis, which biases our results towards earlier deaths)\n",
    "    - Not all of these businesses failed. Some were sold, merged, etc. An example is this: http://ucc.state.ri.us/CorpWeb/CorpSearch/CorpSummary.aspx?FEIN=000001992. The issue is figuring out the structure of the pages scraped to know how to scrape it.\n",
    "    - Some of the data we used is subject to change over a company's lifetime. Addresses, DBAs, or the number of directors & officers can all change. Rhode Island includes lots of other documents, and it'd be great to see what other data we can get from those.\n",
    "    - Overlay census data based on companies' principal addresses to see how population density or nearby wealth impact their life expectancy\n",
    "    - Use our other variables like stock information, NAICS codes, or which foreign entities use registered agents\n",
    "    - Consider macroeconomic factors: GDP growth, unemployment rates, etc\n",
    "    - Test for unit roots: are there trends over time that we need to account for? Are survival rates different for companies founded in 1900 vs 1980? Do survival rates for different industruies, like technology or construction companies, change significantly over time due to structural changes (not due to macroeconomic factors that we can control for)?\n",
    "    - More data is always better. I only used 10,000 samples in this study.\n",
    "### An extension of this study:\n",
    "    - It's neat to be able to estimate a company's lifespan at birth. It'd be useful to estimate how much longer a company will stay in business, regardless of how old it already is."
   ]
  },
  {
   "cell_type": "code",
   "execution_count": null,
   "metadata": {},
   "outputs": [],
   "source": [
    "# If you've done much scraping, then your failed_records list could be pretty long. You don't want to\n",
    "# repeat attempting to scrape those failed records, so save the list to a file.\n",
    "\n",
    "#with open('failed_records', 'wb') as fp:\n",
    "#    pickle.dump(failed_records, fp)"
   ]
  },
  {
   "cell_type": "code",
   "execution_count": null,
   "metadata": {},
   "outputs": [],
   "source": []
  }
 ],
 "metadata": {
  "kernelspec": {
   "display_name": "Python 3",
   "language": "python",
   "name": "python3"
  },
  "language_info": {
   "codemirror_mode": {
    "name": "ipython",
    "version": 3
   },
   "file_extension": ".py",
   "mimetype": "text/x-python",
   "name": "python",
   "nbconvert_exporter": "python",
   "pygments_lexer": "ipython3",
   "version": "3.6.4"
  }
 },
 "nbformat": 4,
 "nbformat_minor": 2
}
