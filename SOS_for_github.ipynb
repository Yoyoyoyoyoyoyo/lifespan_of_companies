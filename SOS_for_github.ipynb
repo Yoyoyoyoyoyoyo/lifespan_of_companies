{
 "cells": [
  {
   "cell_type": "markdown",
   "metadata": {},
   "source": [
    "# Using states' Secretary of State data to learn about organizations\n",
    "\n",
    "\n",
    "## Outline:\n",
    "    1. Scrape some data and load it into Elasticsearch\n",
    "    2. Visual data inspection with Kibana\n",
    "    3. Query Elasticsearch for data to put into a pandas dataframe\n",
    "    4. Prep the dataframe by adding new variables\n",
    "    5. Make models and learn something new about companies in Rhode Island\n",
    "\n",
    "### Before starting, make sure you have ready:\n",
    "    - Elasticsearch (installed and running) (both the program & the Python package)\n",
    "    - Tor (installed and running)\n",
    "    - bs4, aka BeautifulSoup\n",
    "    - pandas\n",
    "    - pysocks isn't imported, but it must be installed"
   ]
  },
  {
   "cell_type": "code",
   "execution_count": 1,
   "metadata": {},
   "outputs": [],
   "source": [
    "import pandas as pd\n",
    "import numpy as np\n",
    "import statsmodels.api as sm\n",
    "import matplotlib.pyplot as plt\n",
    "import requests\n",
    "import json\n",
    "import random\n",
    "import re\n",
    "import pickle\n",
    "import math\n",
    "import collections\n",
    "from nltk.stem import PorterStemmer\n",
    "import elasticsearch.helpers\n",
    "from pandas.io.json import json_normalize\n",
    "from bs4 import BeautifulSoup\n",
    "from elasticsearch import Elasticsearch\n",
    "from collections import Counter\n",
    "from sklearn.model_selection import train_test_split\n",
    "from sklearn.linear_model import ElasticNetCV\n",
    "from scipy.stats import anderson, normaltest, boxcox"
   ]
  },
  {
   "cell_type": "markdown",
   "metadata": {},
   "source": [
    "# Step 1: scrape some data\n",
    "\n",
    "### Scraping data can be illegal! I'm not recommending you do it, just showing you how easy it is to do. If you're interested in the analysis, you can buy this full database from the Rhode Island Secretary of State for fifty bucks.\n",
    "\n",
    "\n",
    "### We're using Tor just to show how to use Tor. Unless you're scraping the dark web, using Tor is pretty impractical. Tor is orders of magnitude slower than normal requests.\n",
    "\n",
    "### The data we collect is being stored in Elasticsearch. You could keep it around in memory, but it takes a long time to scrape data, so it's better to save it to a database so you can quickly use it again in the future if need be."
   ]
  },
  {
   "cell_type": "code",
   "execution_count": null,
   "metadata": {},
   "outputs": [],
   "source": [
    "def get_tor_session():\n",
    "    session = requests.session()\n",
    "    # Set up your proxies to use Tor\n",
    "    session.proxies = {'http': 'socks5://localhost:9150',\n",
    "                       'https': 'socks5://localhost:9150'}\n",
    "    return session"
   ]
  },
  {
   "cell_type": "code",
   "execution_count": null,
   "metadata": {},
   "outputs": [],
   "source": [
    "def try_and_except_loop(soup, data_dict, value, prefix, value_not_text=False):\n",
    "    \"\"\"A short loop to keep things a little DRYer\"\"\"\n",
    "    if value_not_text:\n",
    "        try:\n",
    "            data_dict[value] = soup.find(id=prefix + str(value)).value\n",
    "        except AttributeError:\n",
    "            pass\n",
    "    else:\n",
    "        try:\n",
    "            data_dict[value] = soup.find(id=prefix + str(value)).text\n",
    "        except AttributeError:\n",
    "            pass"
   ]
  },
  {
   "cell_type": "code",
   "execution_count": null,
   "metadata": {},
   "outputs": [],
   "source": [
    "# After inspecting the web page we're going to be grabbing, I got the names of the worthwhile fields:\n",
    "VALUES_TO_EXTRACT = [\"EntityName\",\n",
    "                    \"EntityType\",\n",
    "                    \"OrganisationDate\", # Yes, this is misspelled in the HTML\n",
    "                    \"EffectiveDate\",\n",
    "                    \"InactiveDate\",\n",
    "                    \"PrincipleStreet\",\n",
    "                    \"PrincipleCity\",\n",
    "                    \"PrincipleState\",\n",
    "                    \"PrincipleZip\",\n",
    "                    \"PrincipleCountry\",\n",
    "                    \"ResidentAgentFlag\",\n",
    "                    \"ConsentFlag\",\n",
    "                    \"ResidentAgentName\",\n",
    "                    \"ResidentStreet\",\n",
    "                    \"ResidentCity\",\n",
    "                    \"ResidentState\",\n",
    "                    \"ResidentZip\",\n",
    "                    \"ResidentCountry\"]\n",
    "\n",
    "def parse_rhode_island_entity_summary(session):\n",
    "    \"\"\"When given Rhode Island's Entity Summary page, this builds a dictionary of\n",
    "        all the noteworthy data on the webpage\"\"\"\n",
    "    data_dict = {}\n",
    "    soup = BeautifulSoup(session._content)\n",
    "\n",
    "    # This value includes the words \"Identification Number: \". Clear that useless text.\n",
    "    # Also, if there is no ID number present, then there's no other information present either,\n",
    "    # and there's no need to continue selecting data.\n",
    "    try:\n",
    "        data_dict[\"IDNumber\"] = soup.find(id=\"MainContent_lblIDNumber\").text[-9:]\n",
    "    except AttributeError:\n",
    "        return False\n",
    "\n",
    "    for item in VALUES_TO_EXTRACT:\n",
    "        try_and_except_loop(soup, data_dict, item, \"MainContent_lbl\")\n",
    "    try_and_except_loop(soup, data_dict, \"Comments\", \"MainContent_txt\")\n",
    "    try_and_except_loop(soup, data_dict, \"NIACS\", \"MainContent_txt\", value_not_text=True)\n",
    "\n",
    "    # The length of the list of directors & officers varies by company\n",
    "    d_and_o_list = []\n",
    "    table = soup.find(id=\"MainContent_grdOfficers\")\n",
    "    try:\n",
    "        for row in table.find_all('tr')[1:]:\n",
    "            col = row.find_all('td')\n",
    "            d_and_o_list += [col[0].text, col[1].text, col[2].text]\n",
    "    except AttributeError:\n",
    "        # Some pages don't have information on directors & officers\n",
    "        pass\n",
    "    data_dict['d_and_o'] = d_and_o_list\n",
    "\n",
    "    # I have no idea if their data on stocks is meaningful, but just in case:\n",
    "    try:\n",
    "        stock_cols = soup.find(id=\"MainContent_grdStocks\").tbody.tr.find_all('td')\n",
    "        data_dict['stock_info'] = [stock_cols[item].text for item in range(len(stock_cols))]\n",
    "    except AttributeError:\n",
    "        # Some pages don't have information on stocks. Makes sense, since all the info isn't on corporations.\n",
    "        pass\n",
    "\n",
    "    return data_dict"
   ]
  },
  {
   "cell_type": "code",
   "execution_count": 2,
   "metadata": {},
   "outputs": [],
   "source": [
    "es = Elasticsearch()\n",
    "\n",
    "def create_elasticsearch_index():\n",
    "    \"\"\"This should only be run once: re-running it will delete any saved data!\"\"\"\n",
    "    es.indices.delete(index=\"ri_sos\", ignore=[400, 404])\n",
    "    es_settings = {\n",
    "        \"settings\": {\n",
    "            \"number_of_shards\": 1,\n",
    "            \"number_of_replicas\": 0\n",
    "        },\n",
    "        \"mappings\": {\n",
    "            \"corporate_data\": {\n",
    "                \"properties\": {\n",
    "                    \"OrganisationDate\": {\n",
    "                        \"type\": \"date\",\n",
    "                        \"format\": \"MM-dd-yyyy\"\n",
    "                    },\n",
    "                    \"EffectiveDate\": {\n",
    "                        \"type\": \"date\",\n",
    "                        \"format\": \"MM-dd-yyyy\"\n",
    "                    },\n",
    "                    \"InactiveDate\": {\n",
    "                        \"type\": \"date\",\n",
    "                        \"format\": \"MM-dd-yyyy\"\n",
    "                    },\n",
    "                    \"IDNumber\": {\n",
    "                        \"type\": \"integer\"\n",
    "                    }\n",
    "                }\n",
    "            }\n",
    "        }}\n",
    "    es.indices.create(index=\"ri_sos\", body=es_settings)"
   ]
  },
  {
   "cell_type": "code",
   "execution_count": null,
   "metadata": {},
   "outputs": [],
   "source": [
    "def save_data_in_elasticsearch(returned_page):\n",
    "    \"\"\"Updates elasticsearch with a single row of data\"\"\"\n",
    "    try:\n",
    "        es.index(index=\"ri_sos\", doc_type=\"corporate_data\", body=json.dumps(returned_page))\n",
    "    except:\n",
    "        # Don't let the scraping stop in case some page has an unusual structure.\n",
    "        # Instead, print out the bad data & figure out the exceptions later.\n",
    "        print(\"Didn't save:\", returned_page)"
   ]
  },
  {
   "cell_type": "code",
   "execution_count": null,
   "metadata": {},
   "outputs": [],
   "source": [
    "def collect_rhode_island_data(start_at=0, records_to_get=1, create_index=False, random_subset_size=False, prior_records=False,\n",
    "                              failed_records=[]):\n",
    "    \"\"\"This function ties together connecting with Tor, scraping data, and loading it into Elasticsearch.\n",
    "        It returns a list of all records it unsuccessfully tried to grab.\"\"\"\n",
    "    URL_string = \"http://ucc.state.ri.us/CorpWeb/CorpSearch/CorpSummary.aspx?FEIN=\"\n",
    "    session = get_tor_session()\n",
    "    # Since we're already using Tor, let's pretend we're accessing the web through a browser\n",
    "    # instead of letting people see it's through a Python script:\n",
    "    headers = {'User-agent': 'Opera/1.1.2 FCS'}\n",
    "\n",
    "    ## If you want to confirm that you're using Tor, then see if your\n",
    "    ## session's IP address matches a normal request's IP address\n",
    "    # print(\"TOR IP address:\", session.get(\"http://httpbin.org/ip\").text)\n",
    "    # print(\"Your normal IP address:\", requests.get(\"http://httpbin.org/ip\").text)\n",
    "\n",
    "    # If this is your first time through, then you'll need to create an index in Elasticsearch\n",
    "    if create_index:\n",
    "        create_elasticsearch_index()\n",
    "\n",
    "    # Options for random sampling of data\n",
    "    if random_subset_size:\n",
    "        records = random.sample(range(165000), random_subset_size)\n",
    "    else:\n",
    "        records = [start_at + item for item in range(records_to_get)]\n",
    "    if prior_records:\n",
    "        records = set(records) - set(prior_records)\n",
    "\n",
    "    for record in records:\n",
    "        corp_id = str(start_at + record)\n",
    "        # The string provided should be 9 digits long, padded by prepended by 0s\n",
    "        corp_id = corp_id.rjust(9, \"0\")\n",
    "\n",
    "        returned_page = session.get(URL_string + str(corp_id), headers=headers)\n",
    "        data_dict = parse_rhode_island_entity_summary(returned_page)\n",
    "        if data_dict:\n",
    "            # Value will be false if the page scraped is blank, so no need to save anything\n",
    "            save_data_in_elasticsearch(data_dict)\n",
    "        else:\n",
    "            failed_records += [record]\n",
    "\n",
    "        # Clear cookies to make it harder to track you between requests:\n",
    "        session.cookies.clear()\n",
    "    return failed_records"
   ]
  },
  {
   "cell_type": "markdown",
   "metadata": {},
   "source": [
    "## Uncomment & run this if it's your first time running this script:"
   ]
  },
  {
   "cell_type": "code",
   "execution_count": null,
   "metadata": {},
   "outputs": [],
   "source": [
    "# Now we finally start collecting some data\n",
    "#### ONLY RUN THIS ONCE! OTHERWISE IT WILL DELETE YOUR INDEX, DELETING ALL OF YOUR DATA!\n",
    "# failed_records = collect_rhode_island_data(start_at=0, \n",
    "#                                           records_to_get=5,\n",
    "#                                           create_index=True)"
   ]
  },
  {
   "cell_type": "markdown",
   "metadata": {},
   "source": [
    "## Otherwise load your previously saved list of failed records:"
   ]
  },
  {
   "cell_type": "code",
   "execution_count": null,
   "metadata": {},
   "outputs": [],
   "source": [
    "# Load your list of pickled failed records:\n",
    "\n",
    "#with open('failed_records', 'rb') as fp:\n",
    "#    failed_records = pickle.load(fp)"
   ]
  },
  {
   "cell_type": "markdown",
   "metadata": {},
   "source": [
    "### Rhode Island has about 165,000 companies that follow the expected URL pattern. At 1 request/second, that's ~46 hours of scraping to get everything. We could speed up the process by making bulk entries into Elasticsearch rather than making individual entries, by making multiple requests at a time, or using normal requests instead of Tor, but we don't want to overwhelm the server. Always be nice to whoever has to maintain the servers you're talking to. Scraping slowly is nice.\n",
    "\n",
    "### We don't need the full database to do some analysis. Instead of scraping everything, let's randomly pull some samples and study that subset."
   ]
  },
  {
   "cell_type": "code",
   "execution_count": null,
   "metadata": {},
   "outputs": [],
   "source": [
    "failed_records = collect_rhode_island_data(start_at=0,\n",
    "                                           random_subset_size=5,\n",
    "                                           failed_records=failed_records)"
   ]
  },
  {
   "cell_type": "code",
   "execution_count": null,
   "metadata": {},
   "outputs": [],
   "source": [
    "# Pull prior_records from Elasticsearch so you don't pull them again:\n",
    "def get_prior_records(failed_records):\n",
    "    \"\"\"Return a list of all the IDNumbers saved in Elasticsearch, including any failed_records you want to exclude\"\"\"\n",
    "    records_search = elasticsearch.helpers.scan(\n",
    "        es, \n",
    "        query={\"query\": {\"match_all\": {}}, \"_source\":[\"IDNumber\"]},\n",
    "        index=\"ri_sos\",\n",
    "        doc_type=\"corporate_data\")\n",
    "\n",
    "    # Return these records, plus the failed_records we already knew about\n",
    "    return [item['_source']['IDNumber'] for item in list(records_search)] + failed_records"
   ]
  },
  {
   "cell_type": "code",
   "execution_count": null,
   "metadata": {},
   "outputs": [],
   "source": [
    "# Scrape some new records, but don't repeat anything that's already saved in Elasticsearch:\n",
    "failed_records = collect_rhode_island_data(start_at=0,\n",
    "                                           random_subset_size=10,\n",
    "                                           prior_records=get_prior_records(failed_records),\n",
    "                                           failed_records=failed_records)"
   ]
  },
  {
   "cell_type": "markdown",
   "metadata": {},
   "source": [
    "### Re-run the above command whenever you want to add more new data to Elasticsearch. Remember to be nice about it! Don't do it in the middle of a workday, ask for 10,000 records at once, etc. Or don't do it at all because of its questionable legality. You can order the entire DB for $50 from their office."
   ]
  },
  {
   "cell_type": "markdown",
   "metadata": {},
   "source": [
    "# Step 2: inspect your data in Kibana"
   ]
  },
  {
   "cell_type": "code",
   "execution_count": null,
   "metadata": {},
   "outputs": [],
   "source": [
    "# Kibana gives you those pretty graphs in iframes. They're nice and easy to put on a web page.\n",
    "# I'll add them if I ever make a blog post about this."
   ]
  },
  {
   "cell_type": "markdown",
   "metadata": {},
   "source": [
    "## It's strange that there are records with InactiveDates from 1820 in my data. \n",
    "### Visual inspection of the data in Kibana shows that data with an InactiveDate is incredibly sparse until around 1985. I'm going to assume that Rhode Island didn't worry about putting in many inactive corporations into their corporate database when they created it. \n",
    "### It seems reasonable to exclude companies founded before 1984. However, that also puts a ceiling on the life expectancies of companies in my data. Whether they should be excluded or not depends on how you want to use this analysis. I'm going to leave them for now and view this as a study of companies that existed between 1985 and today, regardless of when they were founded."
   ]
  },
  {
   "cell_type": "markdown",
   "metadata": {},
   "source": [
    "# Step 3: load your data into pandas and inspect it more carefully"
   ]
  },
  {
   "cell_type": "code",
   "execution_count": 3,
   "metadata": {},
   "outputs": [
    {
     "name": "stdout",
     "output_type": "stream",
     "text": [
      "(32480, 23)\n"
     ]
    }
   ],
   "source": [
    "# Let's load the database into pandas. Our actual analysis later will only use samples that\n",
    "# have an InactiveDate, so only request data with that data. We'd also want to filter out newer\n",
    "# companies to only work with companies that have had a long time to go out of business, but\n",
    "# reviewing our data in Kibana shows that our newest data is in 2007, implying that newer\n",
    "# companies have a different URL pattern than older companies. No need to filter based on date organized.\n",
    "\n",
    "data_to_load = elasticsearch.helpers.scan(\n",
    "                    es,\n",
    "                    query={\"query\": {\"exists\": {\"field\": \"InactiveDate\"}}},\n",
    "                    index=\"ri_sos\",\n",
    "                    doc_type=\"corporate_data\")\n",
    "\n",
    "# Initialize a double ended queue\n",
    "output_all = collections.deque()\n",
    "# Extend deque with iterator\n",
    "output_all.extend(data_to_load)\n",
    "only_data = [item[\"_source\"] for item in output_all]\n",
    "\n",
    "df = json_normalize(only_data)\n",
    "print(df.shape)"
   ]
  },
  {
   "cell_type": "markdown",
   "metadata": {},
   "source": [
    "# Step 4: prepare the data\n",
    "## Lifespan of businesses: a quick inspection\n",
    "### Our goal is to see how long businesses in different industries stay in business. We don't have a variable for length in business yet, so let's make it."
   ]
  },
  {
   "cell_type": "code",
   "execution_count": 4,
   "metadata": {},
   "outputs": [
    {
     "name": "stdout",
     "output_type": "stream",
     "text": [
      "Returned shape: (32462, 24)\n",
      "\n",
      "count    32462.000000\n",
      "mean      3514.399174\n",
      "std       4116.308415\n",
      "min       -393.000000\n",
      "25%       1030.000000\n",
      "50%       2119.000000\n",
      "75%       4303.000000\n",
      "max      61626.000000\n",
      "Name: time_in_business, dtype: float64\n"
     ]
    }
   ],
   "source": [
    "# How many companies have out-of-business dates?\n",
    "df = df.assign(time_in_business=pd.Series(np.nan))\n",
    "\n",
    "# Convert date columns to the date format\n",
    "df['InactiveDate'] = pd.to_datetime(df['InactiveDate']).dt.date\n",
    "df['OrganisationDate'] = pd.to_datetime(df['OrganisationDate']).dt.date\n",
    "\n",
    "# Add the variable 'time_in_business' when we can calculate it:\n",
    "df.loc[df['InactiveDate'] != np.nan, 'time_in_business'] = (df['InactiveDate'] - df['OrganisationDate']).dt.days\n",
    "\n",
    "# We're trying to predict time_in_business, so let's remove all rows without a value for that\n",
    "df = df[df.time_in_business.notnull()]\n",
    "print(\"Returned shape:\", df.shape)\n",
    "print(\"\")\n",
    "\n",
    "print(df.time_in_business.describe())"
   ]
  },
  {
   "cell_type": "markdown",
   "metadata": {},
   "source": [
    "### How to deal with negative values for time_in_business if you have them in your data"
   ]
  },
  {
   "cell_type": "code",
   "execution_count": 5,
   "metadata": {},
   "outputs": [
    {
     "name": "stdout",
     "output_type": "stream",
     "text": [
      "22741    000002273\n",
      "Name: IDNumber, dtype: object\n"
     ]
    }
   ],
   "source": [
    "# How is there a negative value for time_in_business? Your sample may not have one, but mine did.\n",
    "\n",
    "weird_row = df.loc[df.time_in_business == df.time_in_business.min()]\n",
    "print(weird_row.IDNumber)"
   ]
  },
  {
   "cell_type": "code",
   "execution_count": 6,
   "metadata": {},
   "outputs": [
    {
     "name": "stdout",
     "output_type": "stream",
     "text": [
      "2236     000000417\n",
      "22067    000000417\n",
      "22741    000002273\n",
      "Name: IDNumber, dtype: object\n"
     ]
    }
   ],
   "source": [
    "# On manual inspection, Rhode Island's records do in fact show at least one company as having been \n",
    "# dissolved before it was created. That's very strange. \n",
    "# Manually inspect & delete any records with negative lifespans.\n",
    "\n",
    "weird_rows = df.loc[df.time_in_business < 0]\n",
    "print(weird_rows.IDNumber)"
   ]
  },
  {
   "cell_type": "code",
   "execution_count": 7,
   "metadata": {},
   "outputs": [
    {
     "name": "stdout",
     "output_type": "stream",
     "text": [
      "Resulting shape: (32455, 24)\n"
     ]
    }
   ],
   "source": [
    "# Don't run this cell without inspecting your own data!\n",
    "df.drop(df[df.time_in_business < 1].index, inplace=True)\n",
    "print(\"Resulting shape:\", df.shape)"
   ]
  },
  {
   "cell_type": "code",
   "execution_count": 8,
   "metadata": {},
   "outputs": [
    {
     "name": "stdout",
     "output_type": "stream",
     "text": [
      "       IDNumber  time_in_business\n",
      "118   000025265           36599.0\n",
      "406   000031053           50390.0\n",
      "5118  000026992           46649.0\n",
      "6009  000029417           43200.0\n",
      "6415  000030582           48010.0\n",
      "6501  000022645           39415.0\n",
      "6867  000031867           38379.0\n",
      "7967  000026290           37750.0\n",
      "8102  000001992           61626.0\n",
      "8419  000027238           45379.0\n"
     ]
    }
   ],
   "source": [
    "# The max time_in_business number I have is 61626 days, or 169 years! Does Rhode Island really have that much data?\n",
    "too_long = df.loc[df.time_in_business > 36500]\n",
    "print(too_long[[\"IDNumber\", \"time_in_business\"]][:10])\n",
    "\n",
    "# I manually inspected these in my data, and they were legit. An old bank, an old cemetery, lots of churches, etc."
   ]
  },
  {
   "cell_type": "code",
   "execution_count": 9,
   "metadata": {},
   "outputs": [
    {
     "data": {
      "image/png": "[encoded data removed]",
      "text/plain": [
       "<Figure size 432x288 with 1 Axes>"
      ]
     },
     "metadata": {
      "needs_background": "light"
     },
     "output_type": "display_data"
    }
   ],
   "source": [
    "# Let's graph the distribution to see what it looks like\n",
    "plt.hist(df.time_in_business, bins = 365,\n",
    "         color = 'blue', edgecolor = 'black')\n",
    "plt.axis([0, 10000, 0, df.shape[0] / 13])\n",
    "plt.title('Binwidth = 1 year', size = 30)\n",
    "plt.xlabel('Days in business', size = 22)\n",
    "plt.ylabel('# of companies', size= 22)\n",
    "\n",
    "plt.tight_layout()\n",
    "plt.show()"
   ]
  },
  {
   "cell_type": "code",
   "execution_count": 10,
   "metadata": {},
   "outputs": [
    {
     "name": "stdout",
     "output_type": "stream",
     "text": [
      "count    32455.000000\n",
      "mean         7.682856\n",
      "std          0.985654\n",
      "min          0.000000\n",
      "25%          6.937314\n",
      "50%          7.659171\n",
      "75%          8.367068\n",
      "max         11.028839\n",
      "Name: log_tib, dtype: float64\n"
     ]
    },
    {
     "data": {
      "image/png": "[encoded data removed]",
      "text/plain": [
       "<Figure size 432x288 with 1 Axes>"
      ]
     },
     "metadata": {
      "needs_background": "light"
     },
     "output_type": "display_data"
    }
   ],
   "source": [
    "# This variable is much more appropriate to work with as a log\n",
    "first_tib = df[[\"time_in_business\", \"IDNumber\"]].copy()\n",
    "first_tib[\"log_tib\"] = np.log(first_tib.time_in_business)\n",
    "print(first_tib.log_tib.describe())\n",
    "\n",
    "# Graph it:\n",
    "plt.hist(first_tib.log_tib, bins = 35,\n",
    "         color = 'blue', edgecolor = 'black')\n",
    "plt.axis([0, 15, 0, df.shape[0] / 8])\n",
    "plt.xlabel('Log days in business', size = 22)\n",
    "plt.ylabel('# of companies', size= 22)\n",
    "\n",
    "plt.tight_layout()\n",
    "plt.show()"
   ]
  },
  {
   "cell_type": "code",
   "execution_count": 11,
   "metadata": {},
   "outputs": [
    {
     "name": "stdout",
     "output_type": "stream",
     "text": [
      "AndersonResult(statistic=36.75036083165469, critical_values=array([0.576, 0.656, 0.787, 0.918, 1.092]), significance_level=array([15. , 10. ,  5. ,  2.5,  1. ]))\n",
      "\n",
      "87.57501944588827 9.623347113283342e-20\n",
      "This doesn't look like a normal distribution (reject H0)\n"
     ]
    }
   ],
   "source": [
    "# This looks like a normal/Gaussian distrubtion to me. Let's make sure:\n",
    "print(anderson(first_tib.log_tib))\n",
    "print(\"\")\n",
    "\n",
    "stat, p = normaltest(first_tib.log_tib)\n",
    "print(stat, p)\n",
    "if p > 0.05:\n",
    "    print('We can assume a normal distribution (fail to reject H0)')\n",
    "else:\n",
    "    print(\"This doesn't look like a normal distribution (reject H0)\")"
   ]
  },
  {
   "cell_type": "markdown",
   "metadata": {},
   "source": [
    "# What can we do about our variable of interest failing its normality tests?"
   ]
  },
  {
   "cell_type": "code",
   "execution_count": 12,
   "metadata": {},
   "outputs": [
    {
     "data": {
      "image/png": "[encoded data removed]",
      "text/plain": [
       "<Figure size 432x288 with 1 Axes>"
      ]
     },
     "execution_count": 12,
     "metadata": {},
     "output_type": "execute_result"
    },
    {
     "data": {
      "image/png": "[encoded data removed]",
      "text/plain": [
       "<Figure size 432x288 with 1 Axes>"
      ]
     },
     "metadata": {
      "needs_background": "light"
     },
     "output_type": "display_data"
    }
   ],
   "source": [
    "# Why isn't this normal? Let's make a quantile-quantile plot to inspect further:\n",
    "from statsmodels.graphics.gofplots import qqplot\n",
    "qqplot(first_tib.log_tib, line='s')"
   ]
  },
  {
   "cell_type": "code",
   "execution_count": 13,
   "metadata": {},
   "outputs": [
    {
     "name": "stdout",
     "output_type": "stream",
     "text": [
      "Companies with log_tib < 5:     126\n"
     ]
    }
   ],
   "source": [
    "# There are problems in the tails. That's not unexpected. Some businesses seem to shut down almost immediately,\n",
    "# and taking the log of small numbers gives small numbers. For reference, the log of half a year in days ~= 5.2.\n",
    "# There are a reasonable number of corporations that closed that quickly. \n",
    "new_df = first_tib.drop(df[first_tib.log_tib > 5].index)\n",
    "print(\"Companies with log_tib < 5:    \", new_df.shape[0])"
   ]
  },
  {
   "cell_type": "code",
   "execution_count": 14,
   "metadata": {},
   "outputs": [
    {
     "data": {
      "image/png": "[encoded data removed]",
      "text/plain": [
       "<Figure size 432x288 with 1 Axes>"
      ]
     },
     "execution_count": 14,
     "metadata": {},
     "output_type": "execute_result"
    },
    {
     "data": {
      "image/png": "[encoded data removed]",
      "text/plain": [
       "<Figure size 432x288 with 1 Axes>"
      ]
     },
     "metadata": {
      "needs_background": "light"
     },
     "output_type": "display_data"
    }
   ],
   "source": [
    "# What if we only look at data where log_tib > 4?\n",
    "smaller_tib_df = first_tib.drop(df[first_tib.log_tib < 4].index)\n",
    "qqplot(smaller_tib_df.log_tib, line='s')"
   ]
  },
  {
   "cell_type": "code",
   "execution_count": 15,
   "metadata": {},
   "outputs": [
    {
     "name": "stdout",
     "output_type": "stream",
     "text": [
      "AndersonResult(statistic=45.01683117806169, critical_values=array([0.576, 0.656, 0.787, 0.918, 1.092]), significance_level=array([15. , 10. ,  5. ,  2.5,  1. ]))\n",
      "\n",
      "262.4525130625439 1.0213178154947688e-57\n",
      "This doesn't look like a normal distribution (reject H0)\n"
     ]
    }
   ],
   "source": [
    "# Normality tests on our adjusted DF:\n",
    "print(anderson(smaller_tib_df.log_tib))\n",
    "print(\"\")\n",
    "\n",
    "stat, p = normaltest(smaller_tib_df.log_tib)\n",
    "print(stat, p)\n",
    "if p > 0.05:\n",
    "    print('We can assume a normal distribution (fail to reject H0)')\n",
    "else:\n",
    "    print(\"This doesn't look like a normal distribution (reject H0)\")"
   ]
  },
  {
   "cell_type": "markdown",
   "metadata": {},
   "source": [
    "### Oof. Dropping those values made us fail the normality tests by an even larger margin."
   ]
  },
  {
   "cell_type": "code",
   "execution_count": 16,
   "metadata": {},
   "outputs": [
    {
     "name": "stdout",
     "output_type": "stream",
     "text": [
      "AndersonResult(statistic=38.81120835130059, critical_values=array([0.576, 0.656, 0.787, 0.918, 1.092]), significance_level=array([15. , 10. ,  5. ,  2.5,  1. ]))\n",
      "\n",
      "53.52792844481411 2.3798962481562054e-12\n",
      "This doesn't look like a normal distribution (reject H0)\n"
     ]
    },
    {
     "data": {
      "image/png": "[encoded data removed]",
      "text/plain": [
       "<Figure size 432x288 with 1 Axes>"
      ]
     },
     "metadata": {
      "needs_background": "light"
     },
     "output_type": "display_data"
    }
   ],
   "source": [
    "# What if, instead of dropping companies that failed super quickly, we set their value to some floor value?\n",
    "# For reference, log(55) ~= 4. We're setting a floor equal to about 2 months in business.\n",
    "first_tib['masked_tib'] = first_tib['log_tib']\n",
    "first_tib.loc[first_tib.log_tib < 4, 'masked_tib'] = 4\n",
    "\n",
    "# Print the Q-Q plot\n",
    "qqplot(first_tib.masked_tib, line='s')\n",
    "\n",
    "# Run the normality tests\n",
    "print(anderson(first_tib.masked_tib))\n",
    "print(\"\")\n",
    "\n",
    "stat, p = normaltest(first_tib.masked_tib)\n",
    "print(stat, p)\n",
    "if p > 0.05:\n",
    "    print('We can assume a normal distribution (fail to reject H0)')\n",
    "else:\n",
    "    print(\"This doesn't look like a normal distribution (reject H0)\")"
   ]
  },
  {
   "cell_type": "markdown",
   "metadata": {},
   "source": [
    "### Setting a lower limit for log(time_in_business) made things better, but not very meaningfully.\n",
    "### Let's see if Box-Cox can do any better."
   ]
  },
  {
   "cell_type": "code",
   "execution_count": 17,
   "metadata": {},
   "outputs": [
    {
     "data": {
      "image/png": "[encoded data removed]",
      "text/plain": [
       "<Figure size 432x288 with 1 Axes>"
      ]
     },
     "metadata": {
      "needs_background": "light"
     },
     "output_type": "display_data"
    }
   ],
   "source": [
    "first_tib['bc_tib'] = boxcox(df.time_in_business)[0]\n",
    "\n",
    "# Graph it:\n",
    "plt.hist(first_tib.bc_tib, bins = 35, edgecolor = 'black')\n",
    "plt.axis([0, 15, 0, df.shape[0] / 8])\n",
    "plt.xlabel('Box-Coxed days in business', size = 22)\n",
    "plt.ylabel('# of companies', size= 22)\n",
    "\n",
    "plt.tight_layout()\n",
    "plt.show()"
   ]
  },
  {
   "cell_type": "code",
   "execution_count": 18,
   "metadata": {},
   "outputs": [
    {
     "name": "stdout",
     "output_type": "stream",
     "text": [
      "AndersonResult(statistic=36.91422027554654, critical_values=array([0.576, 0.656, 0.787, 0.918, 1.092]), significance_level=array([15. , 10. ,  5. ,  2.5,  1. ]))\n",
      "\n",
      "85.97985345012555 2.1365450073894404e-19\n",
      "This doesn't look like a normal distribution (reject H0)\n"
     ]
    }
   ],
   "source": [
    "# Normality tests again:\n",
    "print(anderson(first_tib.bc_tib))\n",
    "print(\"\")\n",
    "\n",
    "stat, p = normaltest(first_tib.bc_tib)\n",
    "print(stat, p)\n",
    "if p > 0.05:\n",
    "    print('We can assume a normal distribution (fail to reject H0)')\n",
    "else:\n",
    "    print(\"This doesn't look like a normal distribution (reject H0)\")"
   ]
  },
  {
   "cell_type": "code",
   "execution_count": 19,
   "metadata": {},
   "outputs": [
    {
     "data": {
      "image/png": "[encoded data removed]",
      "text/plain": [
       "<Figure size 432x288 with 1 Axes>"
      ]
     },
     "execution_count": 19,
     "metadata": {},
     "output_type": "execute_result"
    },
    {
     "data": {
      "image/png": "[encoded data removed]",
      "text/plain": [
       "<Figure size 432x288 with 1 Axes>"
      ]
     },
     "metadata": {
      "needs_background": "light"
     },
     "output_type": "display_data"
    }
   ],
   "source": [
    "qqplot(first_tib.bc_tib, line='s')"
   ]
  },
  {
   "cell_type": "markdown",
   "metadata": {},
   "source": [
    "### Our data with a floor did better than Box-Cox, but none of our adjustmented distributions are technically Gaussian. However, visually they all appear so close to Gaussian that we're going to assume that we're close enough and won't violate any normality assumptions for parametric methods."
   ]
  },
  {
   "cell_type": "code",
   "execution_count": 20,
   "metadata": {},
   "outputs": [],
   "source": [
    "# Since we have to pick 1, let's use our \n",
    "df[\"log_time_in_business\"] = first_tib['masked_tib']"
   ]
  },
  {
   "cell_type": "markdown",
   "metadata": {},
   "source": [
    "#### We should inspect our other variables further, especially since we found some weird values in time_in_business. It's also worth inspecting whether we should log other variables, like the number of directors & officers. However, this is more a proof-of-concept, so I'll worry about that later."
   ]
  },
  {
   "cell_type": "markdown",
   "metadata": {},
   "source": [
    "## Next, let's look at our explanatory variables"
   ]
  },
  {
   "cell_type": "markdown",
   "metadata": {},
   "source": [
    "### Let's start by seeing what types of companies we have lots of data on."
   ]
  },
  {
   "cell_type": "code",
   "execution_count": 21,
   "metadata": {},
   "outputs": [
    {
     "name": "stdout",
     "output_type": "stream",
     "text": [
      "[('inc', 18760), ('llc', 6262), ('&', 2496), ('corporation', 1644), ('of', 1361), ('the', 1310), ('company', 1286), ('co', 1147), ('realty', 1145), ('services', 1141), ('ltd', 1031), ('associates', 1017), ('corp', 961), ('island', 839), ('and', 796), ('rhode', 714), ('construction', 696), ('enterprises', 667), ('group', 647), ('incorporated', 618)]\n"
     ]
    }
   ],
   "source": [
    "# Remove all punctuation from the names of companies\n",
    "list_of_names = [row[1] for row in df['EntityName'].iteritems()]\n",
    "\n",
    "list_of_names_no_punctuation = []\n",
    "for name in list_of_names:\n",
    "    list_of_names_no_punctuation += [re.sub('\\,|\\.|\\!|\\;|\\:|\\?|', '', name)]\n",
    "\n",
    "# Break each name into a list of words so we can count the occurrence of each word\n",
    "new_list = []        # Bad name, fix this\n",
    "for words in list_of_names_no_punctuation:\n",
    "    for word in words.split():\n",
    "        new_list += [word.lower()]\n",
    "\n",
    "# Count the occurrence of each word:\n",
    "name_count = Counter(new_list)\n",
    "popular_names = name_count.most_common(300)\n",
    "\n",
    "# Print the 10 most popular names:\n",
    "print(popular_names[:20])"
   ]
  },
  {
   "cell_type": "markdown",
   "metadata": {},
   "source": [
    "### Common ways to standardize words are stemming or lemmatization. I'm suspicious of the efficacy of lemmatization for companies' names: lemmatization only works properly when you know the part of speech (noun, verb, adjective...) of the word you're trying to standardize, and since business names aren't complete sentences, I'm doubtful that sentence parsers will do a great job figuring that out.\n",
    "### Eventually I'll compare the results of stemming vs lemmatization on business names, but that's going on the back-burner."
   ]
  },
  {
   "cell_type": "code",
   "execution_count": 22,
   "metadata": {},
   "outputs": [
    {
     "name": "stdout",
     "output_type": "stream",
     "text": [
      "[('inc', 18760), ('llc', 6262), ('&', 2496), ('corpor', 1672), ('servic', 1650), ('associ', 1500), ('of', 1361), ('compani', 1313), ('the', 1310), ('co', 1148), ('realti', 1145), ('ltd', 1031), ('corp', 968), ('island', 841), ('and', 796), ('rhode', 718), ('enterpris', 716), ('construct', 697), ('group', 649), ('incorpor', 623)]\n"
     ]
    }
   ],
   "source": [
    "stemmer = PorterStemmer()\n",
    "list_of_stems = [stemmer.stem(word) for word in new_list]\n",
    "\n",
    "# Count the occurrence of each word:\n",
    "name_count2 = Counter(list_of_stems)\n",
    "popular_names2 = name_count2.most_common(300)\n",
    "\n",
    "# Print the 10 most popular names:\n",
    "print(popular_names2[:20])"
   ]
  },
  {
   "cell_type": "code",
   "execution_count": 23,
   "metadata": {},
   "outputs": [
    {
     "name": "stdout",
     "output_type": "stream",
     "text": [
      "[('servic', 1650), ('realti', 1145), ('island', 841), ('rhode', 718), ('enterpris', 716), ('construct', 697), ('manag', 553), ('properti', 538), ('new', 468), ('develop', 441), ('invest', 408), ('intern', 391), ('system', 381), ('mortgag', 357), ('center', 355), ('england', 333), ('ri', 332), ('consult', 329), ('home', 329), ('commun', 323), ('financi', 309), ('auto', 306), ('product', 305), ('american', 295), ('market', 288), ('design', 281), ('hold', 277), ('provid', 273), ('street', 265), ('insur', 229), ('industri', 229), ('limit', 227), ('technolog', 226), ('estat', 220), ('solut', 213), ('entiti', 208), ('not', 203), ('restaur', 202), ('qualifi', 200), ('into', 197), ('capit', 195), ('builder', 193), ('sale', 191), ('**merg', 189), ('east', 185), ('agenc', 183), ('real', 177), ('newport', 176), ('state', 174), ('fund', 172), ('food', 171), ('famili', 168), ('truck', 162), ('build', 161), ('electr', 156), ('leas', 155), ('son', 155), ('health', 151), ('transport', 150), ('nation', 150), ('north', 150), ('care', 147), ('america', 146), ('ocean', 143), ('clean', 141), ('hill', 141), ('hous', 139), ('bay', 138), ('jewelri', 132), ('marin', 130), ('network', 129), ('usa', 127), ('medic', 126), ('west', 121), ('landscap', 121), ('secur', 116), ('park', 114), ('paint', 114), ('partner', 113), ('south', 111)]\n"
     ]
    }
   ],
   "source": [
    "# There are lots of words in this list that shouldn't be there. For example, any word that indicates what type of legal\n",
    "# entity the company is (llc, inc, corporation) should be excluded since we already have that data.\n",
    "# Also, there are lots of one letter words, and we wouldn't believe they have statistical significance even if our\n",
    "# tests indicated that they did. Let's clear those out from the list of popular names.\n",
    "\n",
    "boring_names = ['inc', 'llc', 'corporation', 'the', 'of', 'company', 'associate', 'co', 'ltd', 'corp', 'and', 'enterprise',\n",
    "               'association', 'group', 'associates', 'enterprises', 'incorporated', 'limited', 'partnership',\n",
    "               'club', 'in', 'for', 'lp', 'an', 'corpor', 'associ', 'compani', 'incorpor', 'busi', 'foundat', 'llp']\n",
    "popular_and_not_boring_names = [item for item in popular_names2 if item[0] not in boring_names and len(item[0]) > 1]\n",
    "print(popular_and_not_boring_names[:80])"
   ]
  },
  {
   "cell_type": "markdown",
   "metadata": {},
   "source": [
    "### Now that we've found the most popular names, let's also look at important words in the companies' descriptions of their businesses."
   ]
  },
  {
   "cell_type": "code",
   "execution_count": 24,
   "metadata": {},
   "outputs": [],
   "source": [
    "# The Comments variable is also called \"Purpose\" on Rhode Island's website. It's intended to be where companies describe\n",
    "# what kind of business they intend to do. Most companies give at least a brief answer, but plenty don't.\n",
    "# My favorite common fake response is \"Any Lawful Purpose.\"\n",
    "\n",
    "# Remove all punctuation and newline characters\n",
    "list_of_comments = [row[1] for row in df['Comments'].iteritems()]\n",
    "list_of_comments_no_punctuation = []\n",
    "for name in list_of_comments:\n",
    "    name = name.replace('\\n', ' ')\n",
    "    list_of_comments_no_punctuation += [re.sub('\\,|\\.|\\!|\\;|\\:|\\?|', '', name)]\n",
    "\n",
    "# Break each name into a list of words so we can count the occurrence of each word\n",
    "new_list = []\n",
    "for words in list_of_comments_no_punctuation:\n",
    "    for word in words.split():\n",
    "        new_list += [word.lower()]\n",
    "\n",
    "# Just like we did with EntityName, we need to stem the comments:\n",
    "list_of_stems = [stemmer.stem(word) for word in new_list]\n",
    "\n",
    "# Count the occurrence of each word:\n",
    "comment_count = Counter(list_of_stems)\n",
    "popular_comments = comment_count.most_common(300)"
   ]
  },
  {
   "cell_type": "code",
   "execution_count": 25,
   "metadata": {},
   "outputs": [
    {
     "name": "stdout",
     "output_type": "stream",
     "text": [
      "[('servic', 3044), ('real', 2635), ('estat', 2350), ('sale', 2092), ('busi', 1801), ('oper', 1753), ('sell', 1368), ('provid', 1330), ('manag', 1304), ('engag', 1081), ('develop', 1029), ('retail', 1022), ('product', 1018), ('own', 894), ('construct', 879), ('gener', 877), ('consult', 829), ('manufactur', 788), ('properti', 749), ('leas', 693), ('relat', 651), ('restaur', 640), ('other', 621), ('or', 572), ('invest', 564), ('all', 536), ('purchas', 529), ('commerci', 519), ('repair', 514), ('mortgag', 511), ('market', 509), ('design', 508), ('hold', 498), ('buy', 494), ('food', 494), ('compani', 487), ('equip', 487), ('distribut', 474), ('residenti', 445), ('deal', 426), ('wholesal', 422), ('instal', 416), ('build', 416), ('insur', 379), ('conduct', 354), ('comput', 348), ('educ', 348), ('promot', 344), ('with', 336), ('home', 336), ('rental', 335), ('store', 320), ('contract', 309), ('industri', 308), ('ani', 299), ('public', 289), ('acquir', 281), ('commun', 281), ('ownership', 273), ('jewelri', 268), ('activ', 267), ('maintain', 266), ('care', 263), ('includ', 260), ('practic', 242), ('broker', 240), ('otherwis', 236), ('and/or', 236), ('mainten', 231), ('telecommun', 228), ('system', 225), ('purpos', 224), ('health', 222), ('improv', 218), ('person', 217), ('kind', 216), ('medic', 216), ('use', 206), ('island', 203), ('suppli', 202)]\n"
     ]
    }
   ],
   "source": [
    "# Filter out the common & unhelpful words. Look at the resulting list to pick out worthwhile words to focus on.\n",
    "boring_names = ['inc', 'llc', 'corporation', 'the', 'of', 'company', 'associate', 'co', 'ltd', 'corp', 'and', 'enterprise',\n",
    "               'association', 'group', 'associates', 'enterprises', 'incorporated', 'limited', 'partnership',\n",
    "               'club', 'in', 'for', 'lp', 'an', 'title', 'to', 'as', 'on', 'gl', 'at', 'business', 'operate', 'titl']\n",
    "\n",
    "# The number clusters are references to the Rhode Island code, typically Title 7.1, which has been repealed.\n",
    "# I'm sure there's some good information in which code people are quoting, but it'd take more research to discover that.\n",
    "def numbers_present(word):\n",
    "    return any(char.isdigit() for char in word[0])\n",
    "\n",
    "popular_and_not_boring_comments = [item for item in popular_comments\n",
    "                                   if item[0] not in boring_names\n",
    "                                   and len(item[0]) > 1\n",
    "                                   and not numbers_present(item)]\n",
    "print(popular_and_not_boring_comments[:80])"
   ]
  },
  {
   "cell_type": "markdown",
   "metadata": {},
   "source": [
    "### Make variables for whether a company's name or self-description contains the most popular words or not"
   ]
  },
  {
   "cell_type": "code",
   "execution_count": 26,
   "metadata": {},
   "outputs": [
    {
     "data": {
      "text/plain": [
       "407"
      ]
     },
     "execution_count": 26,
     "metadata": {},
     "output_type": "execute_result"
    }
   ],
   "source": [
    "# These lists are based on the 300 most popular words in names or descriptions (before filtering out words).\n",
    "# That 300 number is very arbitrary.\n",
    "all_the_popular_words = [word[0] for word in popular_and_not_boring_names]\n",
    "all_the_popular_words += [word[0] for word in popular_and_not_boring_comments]\n",
    "new_variable_list = list(set(all_the_popular_words))\n",
    "len(new_variable_list)"
   ]
  },
  {
   "cell_type": "code",
   "execution_count": 27,
   "metadata": {},
   "outputs": [],
   "source": [
    "# Time to add those hundreds of variables to the dataframe.\n",
    "# Scrub entity names & descriptions in the same way we did to come up with the most common words.\n",
    "# Return a list of all words present in a company's name/description\n",
    "\n",
    "def standardize_names_and_comments(entity_name, self_description):\n",
    "    combo_phrase = []\n",
    "    return_phrase = []\n",
    "\n",
    "    entity_name.replace('\\n', ' ')\n",
    "    self_description.replace('\\n', ' ')\n",
    "\n",
    "    for word in entity_name.split():\n",
    "        combo_phrase += [word.lower()]\n",
    "    for word in self_description.split():\n",
    "        combo_phrase += [word.lower()]\n",
    "\n",
    "    for word in combo_phrase:\n",
    "        return_phrase += [re.sub('\\,|\\.|\\!|\\;|\\:|\\?|', '', word)]\n",
    "\n",
    "    return list(set([stemmer.stem(word) for word in return_phrase if len(word) > 1]))"
   ]
  },
  {
   "cell_type": "code",
   "execution_count": 28,
   "metadata": {},
   "outputs": [
    {
     "data": {
      "text/plain": [
       "(32455, 432)"
      ]
     },
     "execution_count": 28,
     "metadata": {},
     "output_type": "execute_result"
    }
   ],
   "source": [
    "# Add all our new variables to the dataframe\n",
    "new_keywords = dict.fromkeys(new_variable_list, pd.Series([0] * len(df)))\n",
    "df = df.assign(**new_keywords)\n",
    "df.shape"
   ]
  },
  {
   "cell_type": "code",
   "execution_count": 29,
   "metadata": {},
   "outputs": [],
   "source": [
    "# Iterate over each row in the df. Figure out which words they share with new_variable_list, and switch that Boolean to True\n",
    "for index, row in df.iterrows():\n",
    "        words_present = standardize_names_and_comments(row['EntityName'], row['Comments'])\n",
    "        for word in words_present:\n",
    "            if word in new_variable_list:\n",
    "                df.at[index, word] = 1"
   ]
  },
  {
   "cell_type": "code",
   "execution_count": 30,
   "metadata": {},
   "outputs": [
    {
     "data": {
      "text/plain": [
       "count    32433.000000\n",
       "mean         0.081584\n",
       "std          0.273733\n",
       "min          0.000000\n",
       "25%          0.000000\n",
       "50%          0.000000\n",
       "75%          0.000000\n",
       "max          1.000000\n",
       "Name: real, dtype: float64"
      ]
     },
     "execution_count": 30,
     "metadata": {},
     "output_type": "execute_result"
    }
   ],
   "source": [
    "# As long as there are 2 unique values, instead of the 1 (\"0\") we originally made, then things worked:\n",
    "df.real.describe()"
   ]
  },
  {
   "cell_type": "code",
   "execution_count": 31,
   "metadata": {},
   "outputs": [
    {
     "name": "stdout",
     "output_type": "stream",
     "text": [
      "Average life expectancy\n",
      "Estate (presumably real estate): 3816.0 days\n",
      "Construction: 3169.0 days\n",
      "Restaurant: 3456.0 days\n",
      "Jewelry: 5338.0 days\n",
      "Design: 3033.0 days\n",
      "Investment: 3193.0 days\n",
      "Insurance: 3893.0 days\n"
     ]
    }
   ],
   "source": [
    "# Look at the average life expectancy for businesses containing a few popular words:\n",
    "print(\"Average life expectancy\")\n",
    "print(\"Estate (presumably real estate):\", round(df.loc[df.estat == True, \"time_in_business\"].mean(), 0), \"days\")\n",
    "print(\"Construction:\", round(df.loc[df.construct == True, \"time_in_business\"].mean(), 0), \"days\")\n",
    "print(\"Restaurant:\", round(df.loc[df.restaur == True, \"time_in_business\"].mean(), 0), \"days\")\n",
    "print(\"Jewelry:\", round(df.loc[df.jewelri == True, \"time_in_business\"].mean(), 0), \"days\")\n",
    "print(\"Design:\", round(df.loc[df.design == True, \"time_in_business\"].mean(), 0), \"days\")\n",
    "print(\"Investment:\", round(df.loc[df.invest == True, \"time_in_business\"].mean(), 0), \"days\")\n",
    "print(\"Insurance:\", round(df.loc[df.insur == True, \"time_in_business\"].mean(), 0), \"days\")"
   ]
  },
  {
   "cell_type": "markdown",
   "metadata": {
    "collapsed": true
   },
   "source": [
    "### With the random sample I used, some differences were substantial. It looks like we may have some good predictors.\n",
    "### Let's make the last few variables we're going to use: the number of directors & officers listed, a word-count for the Comments variable similar to what we did for company names, and dummy variables for the type of legal entity registered"
   ]
  },
  {
   "cell_type": "code",
   "execution_count": 32,
   "metadata": {},
   "outputs": [],
   "source": [
    "# The D&O data I grabbed isn't very good. I should have saved a count for each row containing data \n",
    "# in the Directors & Officers table, but I grabbed the values instead. \n",
    "# There are lots of clever things we could do, like count the number of words coercible into integers \n",
    "# (1 per street address plus 1 per zip code), count how often \"USA\" shows up as the country code, etc, but\n",
    "# since this isn't my real, final product, I'm going to take the easy way out & count the number of characters\n",
    "# present in the field. That should serve as a fine proxy.\n",
    "df['officers_listed'] = df.apply(lambda row: len(row.d_and_o), axis=1)"
   ]
  },
  {
   "cell_type": "code",
   "execution_count": 33,
   "metadata": {},
   "outputs": [
    {
     "data": {
      "text/plain": [
       "(32455, 447)"
      ]
     },
     "execution_count": 33,
     "metadata": {},
     "output_type": "execute_result"
    }
   ],
   "source": [
    "# Make dummy variables for all the types of legal entities that have been registered. We'll use all of them\n",
    "# but one in the analysis ('Foreign Corporation').\n",
    "\n",
    "entity_dummies = pd.get_dummies(df['EntityType'])\n",
    "df = pd.concat([df, entity_dummies], axis=1)\n",
    "df.shape"
   ]
  },
  {
   "cell_type": "markdown",
   "metadata": {},
   "source": [
    "### Our dataframe has a size issue. Before we do anything with it, we need to make it smaller. Otherwise we'll get MemoryErrors"
   ]
  },
  {
   "cell_type": "code",
   "execution_count": 34,
   "metadata": {},
   "outputs": [
    {
     "name": "stdout",
     "output_type": "stream",
     "text": [
      "<class 'pandas.core.frame.DataFrame'>\n",
      "Int64Index: 32455 entries, 0 to 32479\n",
      "Columns: 447 entries, Comments to Professional Service Corporation\n",
      "dtypes: float64(409), int64(1), object(23), uint8(14)\n",
      "memory usage: 130.6 MB\n"
     ]
    }
   ],
   "source": [
    "# The rule of thumb I've heard is that anything >100MB is too much for Pandas. We're over that.\n",
    "df.info(memory_usage='deep')"
   ]
  },
  {
   "cell_type": "code",
   "execution_count": 35,
   "metadata": {},
   "outputs": [
    {
     "name": "stdout",
     "output_type": "stream",
     "text": [
      "<class 'pandas.core.frame.DataFrame'>\n",
      "Int64Index: 32455 entries, 0 to 32479\n",
      "Columns: 447 entries, Comments to Professional Service Corporation\n",
      "dtypes: bool(421), float64(2), int64(1), object(23)\n",
      "memory usage: 42.5 MB\n"
     ]
    }
   ],
   "source": [
    "# I'd prefer to keep our dummies as 0/1 instead of true/false, for ease of calculating sums, averages, etc, but\n",
    "# Booleans should use less space. Let's convert & see if the size shrinks.\n",
    "for var in new_variable_list:\n",
    "    df[var] = df[var].astype('bool')\n",
    "for var in entity_dummies.columns:\n",
    "    df[var] = df[var].astype('bool')\n",
    "df.info(memory_usage='deep')"
   ]
  },
  {
   "cell_type": "markdown",
   "metadata": {},
   "source": [
    "### Most of the space for the dataframe is now in the `object` dtypes, which are variables that won't be in our dataframes used for regressions.\n",
    "### Train/test split the data so it's ready to use"
   ]
  },
  {
   "cell_type": "code",
   "execution_count": 36,
   "metadata": {},
   "outputs": [
    {
     "name": "stdout",
     "output_type": "stream",
     "text": [
      "<class 'pandas.core.frame.DataFrame'>\n",
      "Int64Index: 25964 entries, 6644 to 2920\n",
      "Columns: 421 entries, distributor to Professional Service Corporation\n",
      "dtypes: bool(420), int64(1)\n",
      "memory usage: 10.8 MB\n"
     ]
    }
   ],
   "source": [
    "# Put together all the variables we've made into a list:\n",
    "explanatory_variables = new_variable_list + ['officers_listed'] + [dummy for dummy in entity_dummies.columns]\n",
    "# Drop an entity type to avoid the dummy variable trap\n",
    "explanatory_variables.remove('Foreign Corporation')\n",
    "\n",
    "X_train, X_test, y_train, y_test = train_test_split(df[explanatory_variables],\n",
    "                                                    df['log_time_in_business'],\n",
    "                                                    test_size=0.2,\n",
    "                                                    random_state=5)\n",
    "\n",
    "X_train.info(memory_usage='deep')"
   ]
  },
  {
   "cell_type": "markdown",
   "metadata": {},
   "source": [
    "# Step 5: make some models"
   ]
  },
  {
   "cell_type": "code",
   "execution_count": null,
   "metadata": {},
   "outputs": [],
   "source": [
    "# Bigger question: if I give you details about a new company, can you predict how long they'll be in business?\n",
    "# That's appropriate for a normal linear regression, assuming we ignore the censoring issue for still-in-business companies."
   ]
  },
  {
   "cell_type": "markdown",
   "metadata": {},
   "source": [
    "## Start with a basic elastic net model, modeling log time in business in days"
   ]
  },
  {
   "cell_type": "code",
   "execution_count": 37,
   "metadata": {},
   "outputs": [
    {
     "name": "stdout",
     "output_type": "stream",
     "text": [
      "                             OLS Regression Results                             \n",
      "================================================================================\n",
      "Dep. Variable:     log_time_in_business   R-squared:                       0.905\n",
      "Model:                              OLS   Adj. R-squared:                  0.903\n",
      "Method:                   Least Squares   F-statistic:                     577.5\n",
      "Date:                  Sun, 03 Mar 2019   Prob (F-statistic):               0.00\n",
      "Time:                          15:27:32   Log-Likelihood:                -59457.\n",
      "No. Observations:                 25964   AIC:                         1.198e+05\n",
      "Df Residuals:                     25543   BIC:                         1.232e+05\n",
      "Df Model:                           421                                         \n",
      "Covariance Type:              nonrobust                                         \n",
      "====================================================================================================================\n",
      "                                                       coef    std err          t      P>|t|      [0.025      0.975]\n",
      "--------------------------------------------------------------------------------------------------------------------\n",
      "distributor                                          0.5736      0.276      2.077      0.038       0.032       1.115\n",
      "consult                                              0.0106      0.092      0.115      0.908      -0.170       0.191\n",
      "instal                                               0.1135      0.138      0.820      0.412      -0.158       0.385\n",
      "church                                              -0.0555      0.259     -0.214      0.830      -0.563       0.452\n",
      "act                                                 -0.5923      0.246     -2.405      0.016      -1.075      -0.109\n",
      "repair                                              -0.2896      0.126     -2.303      0.021      -0.536      -0.043\n",
      "groceri                                             -1.2938      0.388     -3.339      0.001      -2.053      -0.534\n",
      "valley                                               0.2024      0.307      0.660      0.509      -0.399       0.804\n",
      "protect                                             -0.0803      0.297     -0.271      0.787      -0.662       0.501\n",
      "life                                                -0.1546      0.290     -0.534      0.594      -0.723       0.413\n",
      "carpentri                                           -1.0918      0.350     -3.120      0.002      -1.778      -0.406\n",
      "brother                                             -0.0769      0.332     -0.231      0.817      -0.729       0.575\n",
      "art                                                 -0.1205      0.201     -0.599      0.549      -0.515       0.274\n",
      "plan                                                 0.5451      0.237      2.298      0.022       0.080       1.010\n",
      "engag                                               -0.6559      0.100     -6.569      0.000      -0.852      -0.460\n",
      "wireless                                            -0.2729      0.341     -0.801      0.423      -0.940       0.395\n",
      "cafe                                                -0.3908      0.286     -1.367      0.172      -0.951       0.170\n",
      "new                                                  0.4646      0.175      2.654      0.008       0.121       0.808\n",
      "fish                                                 0.0617      0.257      0.240      0.810      -0.442       0.565\n",
      "technolog                                            0.6709      0.157      4.280      0.000       0.364       0.978\n",
      "coast                                               -0.2970      0.374     -0.795      0.426      -1.029       0.435\n",
      "into                                                 0.4881      0.569      0.858      0.391      -0.627       1.603\n",
      "alcohol                                             -1.1975      0.417     -2.873      0.004      -2.014      -0.381\n",
      "relat                                                0.0206      0.116      0.178      0.859      -0.207       0.248\n",
      "healthcar                                            0.9247      0.310      2.979      0.003       0.316       1.533\n",
      "bodi                                                -0.4745      0.296     -1.601      0.109      -1.056       0.106\n",
      "limousin                                            -1.1219      0.318     -3.523      0.000      -1.746      -0.498\n",
      "organ                                               -0.0069      0.190     -0.036      0.971      -0.379       0.365\n",
      "publish                                              0.1273      0.277      0.459      0.646      -0.416       0.671\n",
      "network                                              0.7770      0.201      3.863      0.000       0.383       1.171\n",
      "vehicl                                              -0.1856      0.245     -0.756      0.450      -0.667       0.295\n",
      "do                                                   0.0482      0.327      0.147      0.883      -0.593       0.689\n",
      "creativ                                             -1.1094      0.352     -3.153      0.002      -1.799      -0.420\n",
      "interest                                             0.1220      0.265      0.460      0.646      -0.398       0.642\n",
      "bank                                                 0.9072      0.371      2.444      0.015       0.180       1.635\n",
      "jr                                                  -0.6339      0.341     -1.860      0.063      -1.302       0.034\n",
      "gift                                                -0.2095      0.273     -0.766      0.444      -0.745       0.327\n",
      "ani                                                 -0.3350      0.189     -1.770      0.077      -0.706       0.036\n",
      "purpos                                              -0.3623      0.202     -1.792      0.073      -0.759       0.034\n",
      "environment                                          0.6296      0.237      2.662      0.008       0.166       1.093\n",
      "produc                                              -0.3916      0.252     -1.554      0.120      -0.885       0.102\n",
      "trust                                                0.5771      0.362      1.596      0.111      -0.132       1.286\n",
      "architectur                                          2.4041      0.279      8.606      0.000       1.857       2.952\n",
      "deal                                                 0.5130      0.165      3.101      0.002       0.189       0.837\n",
      "retail                                               0.5845      0.103      5.655      0.000       0.382       0.787\n",
      "from                                                -0.6806      0.294     -2.312      0.021      -1.258      -0.104\n",
      "and/or                                              -0.5093      0.190     -2.677      0.007      -0.882      -0.136\n",
      "water                                                0.4607      0.285      1.615      0.106      -0.099       1.020\n",
      "carri                                               -0.4811      0.241     -1.996      0.046      -0.953      -0.009\n",
      "assist                                              -0.8699      0.254     -3.421      0.001      -1.368      -0.371\n",
      "specialti                                            0.7813      0.301      2.596      0.009       0.191       1.371\n",
      "builder                                              0.6394      0.186      3.439      0.001       0.275       1.004\n",
      "eastern                                             -0.4905      0.363     -1.352      0.176      -1.202       0.221\n",
      "wholesal                                             0.2205      0.150      1.472      0.141      -0.073       0.514\n",
      "(de)**                                              -1.5757      0.457     -3.445      0.001      -2.472      -0.679\n",
      "care                                                 0.0977      0.155      0.629      0.530      -0.207       0.402\n",
      "beauti                                               0.0066      0.331      0.020      0.984      -0.643       0.656\n",
      "univers                                             -0.3648      0.316     -1.154      0.249      -0.985       0.255\n",
      "station                                              0.4172      0.293      1.425      0.154      -0.157       0.991\n",
      "automobil                                            0.0024      0.232      0.010      0.992      -0.452       0.457\n",
      "activ                                                0.8769      0.175      5.023      0.000       0.535       1.219\n",
      "paint                                               -0.0209      0.192     -0.109      0.913      -0.397       0.355\n",
      "north                                               -0.1755      0.214     -0.822      0.411      -0.594       0.243\n",
      "employ                                               0.0238      0.307      0.077      0.938      -0.579       0.626\n",
      "erect                                                0.7624      0.364      2.094      0.036       0.049       1.476\n",
      "intern                                               0.5035      0.133      3.777      0.000       0.242       0.765\n",
      "resourc                                              0.7013      0.238      2.945      0.003       0.235       1.168\n",
      "properti                                             0.3207      0.095      3.388      0.001       0.135       0.506\n",
      "newport                                              0.0746      0.203      0.368      0.713      -0.323       0.472\n",
      "prepar                                              -0.4998      0.278     -1.798      0.072      -1.045       0.045\n",
      "street                                              -0.0095      0.170     -0.056      0.956      -0.343       0.324\n",
      "servic                                               1.2161      0.052     23.500      0.000       1.115       1.318\n",
      "allianc                                             -1.4351      0.369     -3.886      0.000      -2.159      -0.711\n",
      "england                                              0.2913      0.225      1.292      0.196      -0.151       0.733\n",
      "star                                                 0.0120      0.317      0.038      0.970      -0.609       0.633\n",
      "social                                               0.0807      0.263      0.307      0.759      -0.435       0.596\n",
      "express                                              0.2587      0.282      0.916      0.359      -0.295       0.812\n",
      "collect                                              1.3744      0.264      5.212      0.000       0.858       1.891\n",
      "garden                                              -0.4895      0.341     -1.436      0.151      -1.158       0.179\n",
      "friend                                              -1.1846      0.375     -3.156      0.002      -1.920      -0.449\n",
      "studio                                              -0.2469      0.319     -0.774      0.439      -0.872       0.378\n",
      "distribut                                            0.3455      0.129      2.683      0.007       0.093       0.598\n",
      "promot                                              -0.2020      0.156     -1.298      0.194      -0.507       0.103\n",
      "contractor                                           0.7090      0.173      4.098      0.000       0.370       1.048\n",
      "custom                                              -0.0600      0.221     -0.271      0.786      -0.494       0.374\n",
      "jewelri                                              0.4640      0.151      3.081      0.002       0.169       0.759\n",
      "societi                                             -0.4839      0.363     -1.333      0.183      -1.196       0.228\n",
      "all                                                  0.0744      0.145      0.512      0.609      -0.211       0.359\n",
      "automot                                              0.0085      0.257      0.033      0.974      -0.494       0.511\n",
      "counti                                              -0.0921      0.301     -0.306      0.760      -0.682       0.498\n",
      "contract                                             0.4870      0.153      3.188      0.001       0.188       0.786\n",
      "such                                                -0.5081      0.336     -1.514      0.130      -1.166       0.150\n",
      "car                                                  0.3483      0.290      1.201      0.230      -0.220       0.917\n",
      "fabric                                               0.7315      0.274      2.667      0.008       0.194       1.269\n",
      "home                                                 0.6703      0.123      5.463      0.000       0.430       0.911\n",
      "equip                                                0.6357      0.124      5.119      0.000       0.392       0.879\n",
      "plumb                                                0.6191      0.351      1.763      0.078      -0.069       1.307\n",
      "electr                                               0.6758      0.186      3.642      0.000       0.312       1.039\n",
      "structur                                             0.1466      0.314      0.466      0.641      -0.470       0.763\n",
      "restor                                               0.0258      0.263      0.098      0.922      -0.489       0.540\n",
      "land                                                 0.0481      0.221      0.217      0.828      -0.386       0.482\n",
      "their                                               -0.6081      0.336     -1.813      0.070      -1.266       0.049\n",
      "fashion                                             -0.2089      0.387     -0.540      0.589      -0.968       0.550\n",
      "estat                                                0.2125      0.177      1.198      0.231      -0.135       0.560\n",
      "villag                                              -0.8055      0.420     -1.916      0.055      -1.629       0.019\n",
      "media                                                0.2756      0.309      0.892      0.373      -0.330       0.881\n",
      "merchandis                                           0.1820      0.238      0.764      0.445      -0.285       0.649\n",
      "preserv                                             -1.2338      0.335     -3.680      0.000      -1.891      -0.577\n",
      "island                                               0.8063      0.236      3.419      0.001       0.344       1.269\n",
      "school                                              -0.0137      0.219     -0.063      0.950      -0.442       0.415\n",
      "event                                                0.0968      0.333      0.291      0.771      -0.555       0.749\n",
      "control                                              0.7118      0.273      2.608      0.009       0.177       1.247\n",
      "form                                                -0.6883      0.307     -2.244      0.025      -1.290      -0.087\n",
      "print                                                0.2602      0.231      1.124      0.261      -0.193       0.714\n",
      "establish                                           -0.6674      0.223     -2.992      0.003      -1.105      -0.230\n",
      "travel                                               0.6676      0.313      2.130      0.033       0.053       1.282\n",
      "first                                                0.8692      0.248      3.505      0.000       0.383       1.355\n",
      "creat                                               -1.0306      0.356     -2.892      0.004      -1.729      -0.332\n",
      "usa                                                  1.4423      0.234      6.177      0.000       0.985       1.900\n",
      "woonsocket                                          -0.1608      0.382     -0.421      0.674      -0.910       0.588\n",
      "acquir                                              -0.2568      0.186     -1.381      0.167      -0.621       0.108\n",
      "machin                                               0.6678      0.271      2.465      0.014       0.137       1.199\n",
      "capit                                                0.5085      0.196      2.591      0.010       0.124       0.893\n",
      "central                                             -0.9585      0.390     -2.458      0.014      -1.723      -0.194\n",
      "conveni                                             -1.1231      0.338     -3.319      0.001      -1.786      -0.460\n",
      "onli                                                 1.9391      0.532      3.648      0.000       0.897       2.981\n",
      "hope                                                -0.7894      0.340     -2.319      0.020      -1.457      -0.122\n",
      "profession                                           0.7292      0.183      3.983      0.000       0.370       1.088\n",
      "import                                              -0.0323      0.272     -0.119      0.905      -0.565       0.500\n",
      "acquisit                                            -0.2574      0.215     -1.198      0.231      -0.679       0.164\n",
      "real                                                 0.3155      0.179      1.758      0.079      -0.036       0.667\n",
      "corpor                                               2.0293      0.068     29.656      0.000       1.895       2.163\n",
      "lincoln                                             -0.4200      0.388     -1.082      0.279      -1.181       0.341\n",
      "at                                                  -0.2838      0.179     -1.585      0.113      -0.635       0.067\n",
      "fund                                                 0.4489      0.190      2.368      0.018       0.077       0.820\n",
      "cater                                               -0.3149      0.321     -0.981      0.327      -0.944       0.314\n",
      "hair                                                 0.2722      0.334      0.815      0.415      -0.383       0.927\n",
      "institut                                            -0.2676      0.328     -0.815      0.415      -0.911       0.376\n",
      "with                                                -0.8107      0.163     -4.983      0.000      -1.130      -0.492\n",
      "health                                               0.4638      0.165      2.804      0.005       0.140       0.788\n",
      "america                                              1.3607      0.220      6.178      0.000       0.929       1.792\n",
      "product                                              0.4912      0.087      5.644      0.000       0.321       0.662\n",
      "narragansett                                        -0.4066      0.329     -1.237      0.216      -1.051       0.238\n",
      "nation                                               0.9021      0.207      4.356      0.000       0.496       1.308\n",
      "condominium                                         -1.6044      0.307     -5.221      0.000      -2.207      -1.002\n",
      "famili                                              -0.0911      0.175     -0.520      0.603      -0.434       0.252\n",
      "kind                                                 0.2904      0.238      1.221      0.222      -0.176       0.757\n",
      "member                                              -0.9236      0.296     -3.120      0.002      -1.504      -0.343\n",
      "advertis                                            -0.2964      0.275     -1.080      0.280      -0.835       0.242\n",
      "accessori                                           -0.1209      0.213     -0.568      0.570      -0.538       0.296\n",
      "road                                                -0.1942      0.294     -0.660      0.509      -0.771       0.382\n",
      "full                                                -0.9254      0.364     -2.543      0.011      -1.639      -0.212\n",
      "md                                                   0.1760      0.285      0.618      0.537      -0.383       0.735\n",
      "busi                                                 0.4298      0.075      5.752      0.000       0.283       0.576\n",
      "(ma)**                                              -1.6554      0.495     -3.346      0.001      -2.625      -0.686\n",
      "mainten                                              0.1976      0.167      1.181      0.238      -0.130       0.526\n",
      "**merg                                               0.4735      0.767      0.617      0.537      -1.030       1.977\n",
      "clean                                               -0.3917      0.171     -2.295      0.022      -0.726      -0.057\n",
      "variou                                              -0.1672      0.278     -0.602      0.547      -0.712       0.378\n",
      "center                                               0.4892      0.134      3.645      0.000       0.226       0.752\n",
      "suppli                                               0.6528      0.175      3.734      0.000       0.310       0.996\n",
      "littl                                               -0.6943      0.345     -2.010      0.044      -1.371      -0.017\n",
      "liquid                                              -0.0609      0.366     -0.167      0.868      -0.778       0.656\n",
      "enterpris                                            0.5203      0.102      5.095      0.000       0.320       0.720\n",
      "bristol                                             -0.2480      0.344     -0.720      0.471      -0.923       0.427\n",
      "industri                                             0.6987      0.124      5.641      0.000       0.456       0.941\n",
      "interior                                            -0.1008      0.272     -0.370      0.711      -0.635       0.433\n",
      "leagu                                               -0.1808      0.389     -0.465      0.642      -0.943       0.581\n",
      "area                                                -1.3275      0.337     -3.935      0.000      -1.989      -0.666\n",
      "entertain                                           -0.4174      0.243     -1.720      0.085      -0.893       0.058\n",
      "pub                                                 -0.6696      0.385     -1.738      0.082      -1.425       0.086\n",
      "that                                                -0.7730      0.298     -2.595      0.009      -1.357      -0.189\n",
      "process                                              0.3955      0.253      1.565      0.118      -0.100       0.891\n",
      "type                                                -0.6401      0.255     -2.507      0.012      -1.141      -0.140\n",
      "provid                                              -0.0817      0.081     -1.008      0.313      -0.240       0.077\n",
      "money                                               -0.4324      0.395     -1.095      0.274      -1.206       0.342\n",
      "tool                                                -0.1249      0.319     -0.392      0.695      -0.750       0.500\n",
      "through                                             -1.1067      0.290     -3.812      0.000      -1.676      -0.538\n",
      "energi                                               0.7460      0.301      2.481      0.013       0.157       1.335\n",
      "sell                                                 0.3689      0.104      3.536      0.000       0.164       0.573\n",
      "comput                                               0.3414      0.159      2.154      0.031       0.031       0.652\n",
      "world                                                0.3076      0.301      1.022      0.307      -0.282       0.898\n",
      "video                                               -0.1899      0.259     -0.733      0.464      -0.698       0.318\n",
      "both                                                -1.0934      0.310     -3.532      0.000      -1.700      -0.487\n",
      "research                                             0.0551      0.241      0.229      0.819      -0.417       0.527\n",
      "by                                                  -0.0999      0.193     -0.518      0.605      -0.478       0.278\n",
      "public                                              -0.3288      0.164     -2.009      0.045      -0.650      -0.008\n",
      "develop                                             -0.1082      0.082     -1.324      0.186      -0.268       0.052\n",
      "rhode                                               -0.6278      0.249     -2.517      0.012      -1.117      -0.139\n",
      "avenu                                               -0.5347      0.262     -2.042      0.041      -1.048      -0.021\n",
      "includ                                              -0.4112      0.198     -2.080      0.038      -0.799      -0.024\n",
      "person                                              -0.1083      0.192     -0.564      0.573      -0.485       0.268\n",
      "internet                                             0.2357      0.227      1.036      0.300      -0.210       0.682\n",
      "privat                                              -0.3025      0.300     -1.009      0.313      -0.890       0.285\n",
      "mill                                                -0.0798      0.368     -0.217      0.828      -0.800       0.641\n",
      "religi                                              -1.0931      0.354     -3.086      0.002      -1.787      -0.399\n",
      "de                                                  -1.1534      0.417     -2.767      0.006      -1.970      -0.336\n",
      "salon                                                0.1906      0.284      0.671      0.502      -0.366       0.747\n",
      "not                                                  1.2063      0.432      2.790      0.005       0.359       2.054\n",
      "hill                                                 0.2331      0.237      0.984      0.325      -0.231       0.697\n",
      "greenwich                                           -0.5043      0.373     -1.353      0.176      -1.235       0.227\n",
      "pizza                                               -0.1628      0.254     -0.641      0.521      -0.660       0.335\n",
      "bro                                                  0.6373      0.381      1.673      0.094      -0.109       1.384\n",
      "main                                                -0.6350      0.359     -1.771      0.077      -1.338       0.068\n",
      "countri                                             -0.1482      0.386     -0.384      0.701      -0.904       0.608\n",
      "gener                                                0.1920      0.100      1.914      0.056      -0.005       0.389\n",
      "rental                                               0.6471      0.146      4.424      0.000       0.360       0.934\n",
      "provis                                              -0.5872      0.345     -1.703      0.089      -1.263       0.089\n",
      "fire                                                -0.1519      0.305     -0.499      0.618      -0.749       0.445\n",
      "which                                               -0.6084      0.340     -1.790      0.073      -1.275       0.058\n",
      "other                                               -0.1601      0.119     -1.349      0.177      -0.393       0.073\n",
      "brokerag                                            -0.0900      0.225     -0.399      0.690      -0.532       0.352\n",
      "music                                                0.5184      0.258      2.012      0.044       0.013       1.023\n",
      "serv                                                -0.1677      0.295     -0.569      0.569      -0.746       0.410\n",
      "oil                                                  0.7913      0.274      2.890      0.004       0.255       1.328\n",
      "titl                                                 1.0444      0.053     19.837      0.000       0.941       1.148\n",
      "well                                                -0.3553      0.301     -1.179      0.238      -0.946       0.235\n",
      "administr                                            1.3346      0.297      4.488      0.000       0.752       1.917\n",
      "train                                                0.3245      0.222      1.462      0.144      -0.110       0.759\n",
      "green                                               -0.9341      0.380     -2.455      0.014      -1.680      -0.188\n",
      "temporari                                            1.8065      0.325      5.553      0.000       1.169       2.444\n",
      "ventur                                              -1.0122      0.267     -3.791      0.000      -1.535      -0.489\n",
      "packag                                              -0.1509      0.298     -0.507      0.612      -0.734       0.432\n",
      "graphic                                              0.0317      0.325      0.098      0.922      -0.605       0.668\n",
      "landscap                                            -0.0820      0.194     -0.422      0.673      -0.463       0.299\n",
      "eagl                                                -1.0491      0.409     -2.567      0.010      -1.850      -0.248\n",
      "farm                                                 0.3452      0.256      1.346      0.178      -0.158       0.848\n",
      "point                                               -0.2784      0.311     -0.894      0.371      -0.889       0.332\n",
      "law                                                  0.1603      0.229      0.700      0.484      -0.289       0.609\n",
      "memori                                              -0.6587      0.386     -1.707      0.088      -1.415       0.098\n",
      "design                                               0.2916      0.109      2.669      0.008       0.077       0.506\n",
      "auto                                                 0.7620      0.155      4.928      0.000       0.459       1.065\n",
      "warwick                                              0.1341      0.281      0.477      0.633      -0.417       0.685\n",
      "recreat                                             -0.9893      0.327     -3.026      0.002      -1.630      -0.348\n",
      "ri                                                   0.3058      0.163      1.871      0.061      -0.014       0.626\n",
      "electron                                             0.2597      0.225      1.154      0.249      -0.182       0.701\n",
      "but                                                 -2.3819      0.538     -4.426      0.000      -3.437      -1.327\n",
      "benefit                                              0.1198      0.278      0.430      0.667      -0.426       0.666\n",
      "perform                                             -0.2510      0.221     -1.136      0.256      -0.684       0.182\n",
      "associ                                               0.6952      0.075      9.316      0.000       0.549       0.842\n",
      "everi                                               -0.5983      0.347     -1.725      0.084      -1.278       0.081\n",
      "commerci                                             0.5217      0.133      3.924      0.000       0.261       0.782\n",
      "otherwis                                            -0.8402      0.221     -3.796      0.000      -1.274      -0.406\n",
      "remodel                                             -0.5340      0.221     -2.421      0.015      -0.966      -0.102\n",
      "beverag                                              0.0240      0.259      0.093      0.926      -0.483       0.531\n",
      "use                                                 -0.4006      0.198     -2.026      0.043      -0.788      -0.013\n",
      "unlimit                                             -1.0138      0.387     -2.618      0.009      -1.773      -0.255\n",
      "special                                              0.3642      0.265      1.373      0.170      -0.156       0.884\n",
      "origin                                               0.4056      0.329      1.232      0.218      -0.240       1.051\n",
      "boat                                                 0.3744      0.211      1.776      0.076      -0.039       0.788\n",
      "materi                                              -0.2824      0.230     -1.230      0.219      -0.732       0.168\n",
      "engin                                                1.6254      0.190      8.572      0.000       1.254       1.997\n",
      "educ                                                -0.2232      0.151     -1.473      0.141      -0.520       0.074\n",
      "inn                                                 -0.1150      0.354     -0.325      0.745      -0.808       0.578\n",
      "residenti                                           -0.1341      0.147     -0.910      0.363      -0.423       0.155\n",
      "broker                                               0.0659      0.184      0.358      0.720      -0.294       0.426\n",
      "medic                                                0.6014      0.168      3.576      0.000       0.272       0.931\n",
      "state                                                0.4084      0.187      2.184      0.029       0.042       0.775\n",
      "loan                                                 0.6048      0.236      2.564      0.010       0.142       1.067\n",
      "liquor                                              -0.0794      0.242     -0.328      0.743      -0.554       0.396\n",
      "unit                                                 0.5156      0.239      2.158      0.031       0.047       0.984\n",
      "river                                               -0.5013      0.323     -1.552      0.121      -1.134       0.132\n",
      "oper                                                 0.1554      0.084      1.861      0.063      -0.008       0.319\n",
      "global                                              -0.0868      0.287     -0.303      0.762      -0.649       0.475\n",
      "part                                                -0.4784      0.255     -1.878      0.060      -0.978       0.021\n",
      "legal                                               -0.5066      0.286     -1.771      0.077      -1.067       0.054\n",
      "asset                                               -0.3889      0.286     -1.358      0.175      -0.950       0.173\n",
      "name                                                 1.4525      0.449      3.232      0.001       0.572       2.333\n",
      "truck                                                0.1014      0.169      0.600      0.548      -0.230       0.432\n",
      "park                                                 0.1087      0.232      0.469      0.639      -0.345       0.563\n",
      "concept                                             -0.1387      0.291     -0.477      0.633      -0.708       0.431\n",
      "place                                               -0.1378      0.271     -0.508      0.611      -0.669       0.394\n",
      "account                                              0.4126      0.268      1.541      0.123      -0.112       0.937\n",
      "descript                                            -0.9469      0.397     -2.383      0.017      -1.726      -0.168\n",
      "tax                                                 -1.0218      0.356     -2.873      0.004      -1.719      -0.325\n",
      "old                                                 -0.0885      0.360     -0.246      0.806      -0.794       0.617\n",
      "maintain                                            -0.2414      0.175     -1.379      0.168      -0.584       0.102\n",
      "etc                                                 -0.3046      0.248     -1.227      0.220      -0.791       0.182\n",
      "mortgag                                              1.7952      0.141     12.703      0.000       1.518       2.072\n",
      "leas                                                 0.8555      0.114      7.511      0.000       0.632       1.079\n",
      "peopl                                               -0.4544      0.303     -1.502      0.133      -1.047       0.139\n",
      "charit                                              -0.2036      0.301     -0.677      0.498      -0.793       0.386\n",
      "program                                              0.2323      0.212      1.098      0.272      -0.183       0.647\n",
      "hold                                                 0.3022      0.109      2.764      0.006       0.088       0.516\n",
      "john                                                 0.6895      0.304      2.268      0.023       0.094       1.285\n",
      "concret                                              0.3786      0.322      1.176      0.240      -0.253       1.010\n",
      "offic                                                0.1873      0.229      0.819      0.413      -0.261       0.636\n",
      "sea                                                 -0.5570      0.385     -1.447      0.148      -1.312       0.198\n",
      "cranston                                            -0.5358      0.300     -1.786      0.074      -1.124       0.052\n",
      "steel                                               -0.2346      0.373     -0.629      0.529      -0.965       0.496\n",
      "practic                                              0.3464      0.209      1.657      0.097      -0.063       0.756\n",
      "pc                                                   0.5769      0.307      1.877      0.060      -0.025       1.179\n",
      "credit                                               1.1779      0.282      4.176      0.000       0.625       1.731\n",
      "imag                                                 0.2471      0.359      0.688      0.492      -0.457       0.952\n",
      "insur                                                1.2292      0.152      8.062      0.000       0.930       1.528\n",
      "ii                                                  -0.0227      0.271     -0.084      0.933      -0.554       0.508\n",
      "citi                                                -0.2964      0.265     -1.117      0.264      -0.816       0.224\n",
      "is                                                   0.0030      0.361      0.008      0.993      -0.704       0.710\n",
      "conduct                                             -0.2138      0.161     -1.326      0.185      -0.530       0.102\n",
      "renov                                               -0.5585      0.272     -2.052      0.040      -1.092      -0.025\n",
      "food                                                 0.3392      0.127      2.671      0.008       0.090       0.588\n",
      "secur                                                1.0979      0.180      6.114      0.000       0.746       1.450\n",
      "vessel                                               0.1818      0.306      0.595      0.552      -0.417       0.781\n",
      "charter                                              0.1667      0.263      0.634      0.526      -0.348       0.682\n",
      "trade                                                0.2478      0.186      1.331      0.183      -0.117       0.613\n",
      "data                                                -0.0200      0.318     -0.063      0.950      -0.644       0.604\n",
      "metal                                                0.9449      0.249      3.791      0.000       0.456       1.433\n",
      "or                                                   0.0646      0.143      0.450      0.653      -0.216       0.346\n",
      "softwar                                              0.6771      0.207      3.272      0.001       0.271       1.083\n",
      "lend                                                 1.4085      0.242      5.817      0.000       0.934       1.883\n",
      "individu                                            -0.9934      0.295     -3.362      0.001      -1.573      -0.414\n",
      "ownership                                           -0.0350      0.171     -0.204      0.838      -0.371       0.301\n",
      "realti                                               0.7078      0.085      8.368      0.000       0.542       0.874\n",
      "entiti                                               0.2403      0.468      0.513      0.608      -0.678       1.158\n",
      "good                                                -0.3839      0.203     -1.894      0.058      -0.781       0.013\n",
      "solut                                                0.1885      0.174      1.084      0.278      -0.152       0.529\n",
      "manag                                                0.5172      0.072      7.158      0.000       0.376       0.659\n",
      "atlant                                              -0.3455      0.290     -1.193      0.233      -0.913       0.222\n",
      "heat                                                -0.7293      0.333     -2.193      0.028      -1.381      -0.078\n",
      "american                                             0.7465      0.157      4.767      0.000       0.440       1.053\n",
      "creation                                            -0.6641      0.284     -2.336      0.019      -1.221      -0.107\n",
      "own                                                 -0.3419      0.111     -3.092      0.002      -0.559      -0.125\n",
      "rent                                                -0.5032      0.232     -2.168      0.030      -0.958      -0.048\n",
      "one                                                  0.2899      0.285      1.018      0.309      -0.268       0.848\n",
      "bar                                                 -0.0313      0.262     -0.119      0.905      -0.545       0.482\n",
      "william                                             -0.2979      0.374     -0.796      0.426      -1.031       0.435\n",
      "exchang                                             -0.0952      0.300     -0.317      0.751      -0.684       0.493\n",
      "gasolin                                             -1.0054      0.370     -2.719      0.007      -1.730      -0.281\n",
      "it                                                   0.0932      0.262      0.356      0.722      -0.420       0.606\n",
      "seafood                                             -0.5394      0.314     -1.720      0.086      -1.154       0.075\n",
      "transport                                            0.5431      0.166      3.281      0.001       0.219       0.868\n",
      "son                                                  0.8702      0.221      3.937      0.000       0.437       1.303\n",
      "store                                                0.9988      0.165      6.043      0.000       0.675       1.323\n",
      "manufactur                                           0.7545      0.103      7.328      0.000       0.553       0.956\n",
      "smith                                               -0.2869      0.360     -0.797      0.425      -0.992       0.419\n",
      "northeast                                            0.1528      0.280      0.545      0.586      -0.396       0.702\n",
      "sport                                               -0.0118      0.200     -0.059      0.953      -0.404       0.381\n",
      "coventri                                            -1.2010      0.400     -2.999      0.003      -1.986      -0.416\n",
      "natur                                                0.1397      0.289      0.483      0.629      -0.427       0.706\n",
      "item                                                 0.1359      0.213      0.639      0.523      -0.281       0.553\n",
      "telecommun                                           2.6334      0.187     14.079      0.000       2.267       3.000\n",
      "hous                                                 0.1552      0.184      0.845      0.398      -0.205       0.515\n",
      "offer                                               -1.3379      0.357     -3.750      0.000      -2.037      -0.639\n",
      "yacht                                                0.2266      0.241      0.941      0.347      -0.246       0.699\n",
      "purchas                                             -0.4206      0.130     -3.237      0.001      -0.675      -0.166\n",
      "agenc                                                1.1423      0.172      6.652      0.000       0.806       1.479\n",
      "limit                                                0.6765      0.176      3.834      0.000       0.331       1.022\n",
      "motor                                                0.6635      0.241      2.757      0.006       0.192       1.135\n",
      "view                                                -1.1751      0.421     -2.793      0.005      -2.000      -0.351\n",
      "advanc                                              -0.4400      0.281     -1.567      0.117      -0.990       0.111\n",
      "hardwar                                             -1.3138      0.334     -3.934      0.000      -1.968      -0.659\n",
      "to                                                  -0.1035      0.057     -1.811      0.070      -0.216       0.008\n",
      "improv                                              -0.3955      0.178     -2.224      0.026      -0.744      -0.047\n",
      "consum                                               0.1882      0.281      0.670      0.503      -0.362       0.739\n",
      "render                                              -1.0920      0.320     -3.411      0.001      -1.720      -0.465\n",
      "invest                                               0.2656      0.097      2.738      0.006       0.075       0.456\n",
      "buy                                                 -0.4888      0.156     -3.141      0.002      -0.794      -0.184\n",
      "medicin                                             -0.4051      0.333     -1.216      0.224      -1.058       0.248\n",
      "west                                                -0.0290      0.273     -0.106      0.915      -0.564       0.506\n",
      "sale                                                 0.7121      0.068     10.481      0.000       0.579       0.845\n",
      "employe                                              0.4819      0.348      1.383      0.167      -0.201       1.165\n",
      "children                                            -0.5816      0.279     -2.088      0.037      -1.128      -0.036\n",
      "build                                                0.1543      0.126      1.224      0.221      -0.093       0.401\n",
      "south                                               -0.3380      0.299     -1.130      0.258      -0.924       0.248\n",
      "feder                                                0.1719      0.340      0.506      0.613      -0.494       0.837\n",
      "cloth                                                0.5291      0.220      2.402      0.016       0.097       0.961\n",
      "construct                                            0.6560      0.082      7.986      0.000       0.495       0.817\n",
      "ocean                                               -0.8610      0.261     -3.296      0.001      -1.373      -0.349\n",
      "st                                                   0.1353      0.324      0.417      0.677      -0.501       0.771\n",
      "restaur                                              0.7024      0.111      6.334      0.000       0.485       0.920\n",
      "export                                              -0.2941      0.340     -0.865      0.387      -0.961       0.372\n",
      "make                                                -0.7273      0.310     -2.348      0.019      -1.335      -0.120\n",
      "power                                                0.6784      0.265      2.556      0.011       0.158       1.199\n",
      "qualifi                                             -2.0248      0.629     -3.219      0.001      -3.258      -0.792\n",
      "shop                                                 0.7941      0.192      4.134      0.000       0.418       1.171\n",
      "compani                                              1.5842      0.068     23.364      0.000       1.451       1.717\n",
      "commun                                               0.4534      0.125      3.621      0.000       0.208       0.699\n",
      "air                                                  0.2762      0.327      0.843      0.399      -0.366       0.918\n",
      "system                                               1.3877      0.120     11.594      0.000       1.153       1.622\n",
      "marin                                                0.0804      0.200      0.403      0.687      -0.311       0.471\n",
      "us                                                  -0.4372      0.323     -1.354      0.176      -1.070       0.196\n",
      "block                                               -1.3733      0.402     -3.418      0.001      -2.161      -0.586\n",
      "support                                             -0.3902      0.210     -1.859      0.063      -0.802       0.021\n",
      "fit                                                 -0.5431      0.303     -1.790      0.073      -1.138       0.052\n",
      "under                                                0.2794      0.353      0.791      0.429      -0.413       0.972\n",
      "facil                                                0.7269      0.203      3.582      0.000       0.329       1.125\n",
      "rais                                                -0.4897      0.396     -1.236      0.216      -1.266       0.287\n",
      "long                                                 0.9673      0.315      3.073      0.002       0.350       1.584\n",
      "financ                                               1.3425      0.208      6.444      0.000       0.934       1.751\n",
      "financi                                              0.7110      0.135      5.257      0.000       0.446       0.976\n",
      "be                                                  -0.7043      0.285     -2.470      0.014      -1.263      -0.145\n",
      "deliveri                                            -0.1119      0.279     -0.401      0.688      -0.658       0.434\n",
      "cultur                                              -1.0287      0.305     -3.375      0.001      -1.626      -0.431\n",
      "partner                                              0.5710      0.224      2.551      0.011       0.132       1.010\n",
      "work                                                 0.3441      0.178      1.933      0.053      -0.005       0.693\n",
      "bay                                                  0.2278      0.242      0.940      0.347      -0.247       0.703\n",
      "assembl                                             -0.7907      0.325     -2.431      0.015      -1.428      -0.153\n",
      "robert                                              -0.7428      0.393     -1.892      0.058      -1.512       0.027\n",
      "market                                               0.4880      0.105      4.652      0.000       0.282       0.694\n",
      "deli                                                -0.7364      0.369     -1.995      0.046      -1.460      -0.013\n",
      "ministri                                            -1.6456      0.401     -4.099      0.000      -2.432      -0.859\n",
      "inform                                               0.4403      0.214      2.057      0.040       0.021       0.860\n",
      "connect                                             -0.3615      0.342     -1.058      0.290      -1.031       0.308\n",
      "youth                                               -0.6794      0.293     -2.323      0.020      -1.253      -0.106\n",
      "licens                                               0.3965      0.287      1.381      0.167      -0.166       0.959\n",
      "furnitur                                             0.8296      0.269      3.083      0.002       0.302       1.357\n",
      "east                                                 0.1038      0.220      0.472      0.637      -0.327       0.535\n",
      "officers_listed                                      0.2013      0.003     61.615      0.000       0.195       0.208\n",
      "Bank                                                 7.7121      1.246      6.188      0.000       5.269      10.155\n",
      "Credit Union                                         7.7209      1.749      4.414      0.000       4.292      11.150\n",
      "Domestic Limited Liability Company                   5.4798      0.066     83.595      0.000       5.351       5.608\n",
      "Domestic Limited Liability Partnership               4.2876      0.296     14.495      0.000       3.708       4.867\n",
      "Domestic Limited Partnership                         6.7059      0.217     30.961      0.000       6.281       7.130\n",
      "Domestic Non-Profit Corporation                      6.0374      0.089     67.995      0.000       5.863       6.211\n",
      "Domestic Profit Corporation                          5.2945      0.051    103.624      0.000       5.194       5.395\n",
      "Foreign Limited Liability Company                    4.8634      0.105     46.311      0.000       4.658       5.069\n",
      "Foreign Limited Partnership                          5.2028      0.294     17.683      0.000       4.626       5.779\n",
      "Foreign Non-Profit Corporation                       4.9341      0.254     19.412      0.000       4.436       5.432\n",
      "Foreign Registered Limited Liability Partnership     4.9351      0.495      9.964      0.000       3.964       5.906\n",
      "Insurance                                            5.0643      0.999      5.068      0.000       3.106       7.023\n",
      "Professional Service Corporation                     5.8978      0.214     27.558      0.000       5.478       6.317\n",
      "==============================================================================\n",
      "Omnibus:                     7239.903   Durbin-Watson:                   1.855\n",
      "Prob(Omnibus):                  0.000   Jarque-Bera (JB):           822522.410\n",
      "Skew:                          -0.152   Prob(JB):                         0.00\n",
      "Kurtosis:                      30.572   Cond. No.                         673.\n",
      "==============================================================================\n",
      "\n",
      "Warnings:\n",
      "[1] Standard Errors assume that the covariance matrix of the errors is correctly specified.\n"
     ]
    }
   ],
   "source": [
    "# We have so many variables here that overfitting is a reasonable concern. Let's go with an elastic net model\n",
    "# as a first line of defense.\n",
    "\n",
    "e_net = sm.OLS(y_train, X_train.astype(float), L1_wt=.5)\n",
    "print(e_net.fit().summary())"
   ]
  },
  {
   "cell_type": "code",
   "execution_count": 68,
   "metadata": {},
   "outputs": [
    {
     "name": "stdout",
     "output_type": "stream",
     "text": [
      "                             OLS Regression Results                             \n",
      "================================================================================\n",
      "Dep. Variable:     log_time_in_business   R-squared:                       0.902\n",
      "Model:                              OLS   Adj. R-squared:                  0.902\n",
      "Method:                   Least Squares   F-statistic:                     1590.\n",
      "Date:                  Sun, 03 Mar 2019   Prob (F-statistic):               0.00\n",
      "Time:                          17:42:45   Log-Likelihood:                -59804.\n",
      "No. Observations:                 25964   AIC:                         1.199e+05\n",
      "Df Residuals:                     25814   BIC:                         1.211e+05\n",
      "Df Model:                           150                                         \n",
      "Covariance Type:              nonrobust                                         \n",
      "====================================================================================================================\n",
      "                                                       coef    std err          t      P>|t|      [0.025      0.975]\n",
      "--------------------------------------------------------------------------------------------------------------------\n",
      "groceri                                             -1.7503      0.384     -4.561      0.000      -2.503      -0.998\n",
      "carpentri                                           -1.5266      0.346     -4.411      0.000      -2.205      -0.848\n",
      "engag                                               -0.6711      0.092     -7.308      0.000      -0.851      -0.491\n",
      "new                                                  0.5882      0.114      5.168      0.000       0.365       0.811\n",
      "technolog                                            0.6588      0.154      4.282      0.000       0.357       0.960\n",
      "alcohol                                             -1.7935      0.358     -5.009      0.000      -2.495      -1.092\n",
      "healthcar                                            0.6911      0.308      2.240      0.025       0.086       1.296\n",
      "limousin                                            -1.5523      0.318     -4.884      0.000      -2.175      -0.929\n",
      "network                                              0.6841      0.199      3.445      0.001       0.295       1.073\n",
      "creativ                                             -1.4803      0.350     -4.229      0.000      -2.166      -0.794\n",
      "environment                                          0.3858      0.236      1.637      0.102      -0.076       0.848\n",
      "architectur                                          2.2713      0.274      8.295      0.000       1.735       2.808\n",
      "deal                                                 0.4944      0.160      3.085      0.002       0.180       0.809\n",
      "retail                                               0.5546      0.093      5.942      0.000       0.372       0.737\n",
      "and/or                                              -0.6673      0.188     -3.543      0.000      -1.036      -0.298\n",
      "assist                                              -1.1980      0.248     -4.839      0.000      -1.683      -0.713\n",
      "specialti                                            0.4979      0.300      1.661      0.097      -0.090       1.086\n",
      "builder                                              0.4743      0.186      2.554      0.011       0.110       0.838\n",
      "(de)**                                              -1.8667      0.434     -4.304      0.000      -2.717      -1.017\n",
      "activ                                                0.7073      0.169      4.184      0.000       0.376       1.039\n",
      "intern                                               0.4444      0.133      3.350      0.001       0.184       0.704\n",
      "resourc                                              0.6414      0.238      2.699      0.007       0.176       1.107\n",
      "properti                                             0.2429      0.087      2.797      0.005       0.073       0.413\n",
      "servic                                               1.2156      0.048     25.328      0.000       1.122       1.310\n",
      "allianc                                             -1.8056      0.366     -4.937      0.000      -2.522      -1.089\n",
      "collect                                              1.1311      0.261      4.329      0.000       0.619       1.643\n",
      "friend                                              -1.7182      0.370     -4.639      0.000      -2.444      -0.992\n",
      "distribut                                            0.2815      0.126      2.226      0.026       0.034       0.529\n",
      "contractor                                           0.6363      0.166      3.837      0.000       0.311       0.961\n",
      "jewelri                                              0.3093      0.149      2.077      0.038       0.017       0.601\n",
      "contract                                             0.4269      0.149      2.859      0.004       0.134       0.719\n",
      "fabric                                               0.5268      0.273      1.932      0.053      -0.008       1.061\n",
      "home                                                 0.5512      0.118      4.673      0.000       0.320       0.782\n",
      "equip                                                0.6194      0.123      5.039      0.000       0.378       0.860\n",
      "electr                                               0.5578      0.184      3.029      0.002       0.197       0.919\n",
      "preserv                                             -1.5700      0.330     -4.755      0.000      -2.217      -0.923\n",
      "island                                               0.2517      0.092      2.742      0.006       0.072       0.432\n",
      "control                                              0.4599      0.271      1.694      0.090      -0.072       0.992\n",
      "establish                                           -0.8731      0.217     -4.027      0.000      -1.298      -0.448\n",
      "first                                                0.7236      0.246      2.944      0.003       0.242       1.205\n",
      "creat                                               -1.5562      0.347     -4.486      0.000      -2.236      -0.876\n",
      "usa                                                  1.1922      0.233      5.121      0.000       0.736       1.648\n",
      "capit                                                0.4764      0.196      2.429      0.015       0.092       0.861\n",
      "conveni                                             -1.4421      0.333     -4.326      0.000      -2.095      -0.789\n",
      "onli                                                 1.8099      0.469      3.859      0.000       0.891       2.729\n",
      "profession                                           0.7066      0.182      3.883      0.000       0.350       1.063\n",
      "corpor                                               2.0384      0.068     29.886      0.000       1.905       2.172\n",
      "with                                                -0.8708      0.158     -5.498      0.000      -1.181      -0.560\n",
      "health                                               0.3509      0.155      2.270      0.023       0.048       0.654\n",
      "america                                              1.2163      0.217      5.607      0.000       0.791       1.641\n",
      "product                                              0.4193      0.085      4.923      0.000       0.252       0.586\n",
      "nation                                               0.8127      0.206      3.944      0.000       0.409       1.217\n",
      "condominium                                         -1.8026      0.304     -5.926      0.000      -2.399      -1.206\n",
      "member                                              -1.2048      0.288     -4.187      0.000      -1.769      -0.641\n",
      "busi                                                 0.3783      0.070      5.395      0.000       0.241       0.516\n",
      "(ma)**                                              -2.0328      0.471     -4.319      0.000      -2.955      -1.110\n",
      "center                                               0.3737      0.131      2.848      0.004       0.117       0.631\n",
      "suppli                                               0.5703      0.173      3.289      0.001       0.230       0.910\n",
      "enterpris                                            0.4926      0.102      4.818      0.000       0.292       0.693\n",
      "industri                                             0.6241      0.123      5.082      0.000       0.383       0.865\n",
      "area                                                -1.7351      0.333     -5.206      0.000      -2.388      -1.082\n",
      "that                                                -1.0542      0.292     -3.616      0.000      -1.626      -0.483\n",
      "through                                             -1.6388      0.282     -5.814      0.000      -2.191      -1.086\n",
      "sell                                                 0.3376      0.100      3.388      0.001       0.142       0.533\n",
      "both                                                -1.6395      0.302     -5.431      0.000      -2.231      -1.048\n",
      "religi                                              -1.6022      0.336     -4.774      0.000      -2.260      -0.944\n",
      "de                                                  -1.5602      0.414     -3.770      0.000      -2.371      -0.749\n",
      "not                                                  2.0442      0.405      5.050      0.000       1.251       2.838\n",
      "rental                                               0.6576      0.145      4.545      0.000       0.374       0.941\n",
      "oil                                                  0.4618      0.271      1.705      0.088      -0.069       0.993\n",
      "titl                                                 1.1007      0.052     21.151      0.000       0.999       1.203\n",
      "administr                                            1.1855      0.294      4.027      0.000       0.609       1.762\n",
      "temporari                                            1.5713      0.314      5.007      0.000       0.956       2.186\n",
      "ventur                                              -1.2477      0.267     -4.677      0.000      -1.771      -0.725\n",
      "design                                               0.2612      0.106      2.454      0.014       0.053       0.470\n",
      "auto                                                 0.5055      0.143      3.532      0.000       0.225       0.786\n",
      "recreat                                             -1.3979      0.319     -4.384      0.000      -2.023      -0.773\n",
      "but                                                 -3.8267      0.494     -7.751      0.000      -4.794      -2.859\n",
      "associ                                               0.7125      0.074      9.609      0.000       0.567       0.858\n",
      "commerci                                             0.4629      0.121      3.821      0.000       0.225       0.700\n",
      "otherwis                                            -1.0977      0.207     -5.298      0.000      -1.504      -0.692\n",
      "unlimit                                             -1.4416      0.385     -3.744      0.000      -2.196      -0.687\n",
      "engin                                                1.5466      0.186      8.308      0.000       1.182       1.912\n",
      "medic                                                0.5395      0.163      3.301      0.001       0.219       0.860\n",
      "name                                                 1.3603      0.433      3.145      0.002       0.512       2.208\n",
      "tax                                                 -1.3757      0.339     -4.056      0.000      -2.041      -0.711\n",
      "mortgag                                              1.9831      0.127     15.564      0.000       1.733       2.233\n",
      "leas                                                 0.8348      0.109      7.628      0.000       0.620       1.049\n",
      "hold                                                 0.3663      0.107      3.418      0.001       0.156       0.576\n",
      "credit                                               1.0494      0.281      3.737      0.000       0.499       1.600\n",
      "insur                                                1.1778      0.150      7.867      0.000       0.884       1.471\n",
      "food                                                 0.2395      0.118      2.026      0.043       0.008       0.471\n",
      "secur                                                1.0081      0.178      5.654      0.000       0.659       1.358\n",
      "metal                                                0.7227      0.249      2.906      0.004       0.235       1.210\n",
      "softwar                                              0.6945      0.198      3.514      0.000       0.307       1.082\n",
      "lend                                                 1.2368      0.242      5.116      0.000       0.763       1.711\n",
      "individu                                            -1.2999      0.290     -4.479      0.000      -1.869      -0.731\n",
      "realti                                               0.7762      0.083      9.390      0.000       0.614       0.938\n",
      "manag                                                0.5760      0.071      8.110      0.000       0.437       0.715\n",
      "american                                             0.6359      0.156      4.085      0.000       0.331       0.941\n",
      "own                                                 -0.2843      0.099     -2.885      0.004      -0.477      -0.091\n",
      "gasolin                                             -1.0654      0.337     -3.166      0.002      -1.725      -0.406\n",
      "transport                                            0.3938      0.162      2.424      0.015       0.075       0.712\n",
      "son                                                  0.7117      0.221      3.218      0.001       0.278       1.145\n",
      "store                                                1.0516      0.160      6.555      0.000       0.737       1.366\n",
      "manufactur                                           0.6798      0.102      6.676      0.000       0.480       0.879\n",
      "coventri                                            -1.7224      0.398     -4.332      0.000      -2.502      -0.943\n",
      "telecommun                                           2.5288      0.186     13.586      0.000       2.164       2.894\n",
      "offer                                               -1.6812      0.347     -4.843      0.000      -2.362      -1.001\n",
      "purchas                                             -0.4113      0.128     -3.223      0.001      -0.661      -0.161\n",
      "agenc                                                1.1134      0.168      6.617      0.000       0.784       1.443\n",
      "limit                                                0.6449      0.174      3.710      0.000       0.304       0.986\n",
      "motor                                                0.3284      0.207      1.586      0.113      -0.077       0.734\n",
      "view                                                -1.6635      0.415     -4.013      0.000      -2.476      -0.851\n",
      "hardwar                                             -1.5631      0.330     -4.738      0.000      -2.210      -0.916\n",
      "render                                              -1.4200      0.315     -4.509      0.000      -2.037      -0.803\n",
      "invest                                               0.2896      0.095      3.044      0.002       0.103       0.476\n",
      "buy                                                 -0.5091      0.152     -3.356      0.001      -0.806      -0.212\n",
      "sale                                                 0.7356      0.066     11.091      0.000       0.606       0.866\n",
      "construct                                            0.6171      0.079      7.784      0.000       0.462       0.772\n",
      "ocean                                               -0.7435      0.228     -3.263      0.001      -1.190      -0.297\n",
      "restaur                                              0.5583      0.103      5.404      0.000       0.356       0.761\n",
      "qualifi                                             -1.4534      0.455     -3.191      0.001      -2.346      -0.561\n",
      "shop                                                 0.6080      0.189      3.224      0.001       0.238       0.978\n",
      "compani                                              1.5665      0.068     23.204      0.000       1.434       1.699\n",
      "commun                                               0.3693      0.124      2.980      0.003       0.126       0.612\n",
      "system                                               1.3991      0.117     11.998      0.000       1.171       1.628\n",
      "block                                               -1.4103      0.363     -3.888      0.000      -2.121      -0.699\n",
      "facil                                                0.5300      0.201      2.641      0.008       0.137       0.923\n",
      "long                                                 0.6784      0.314      2.160      0.031       0.063       1.294\n",
      "financ                                               1.1965      0.207      5.787      0.000       0.791       1.602\n",
      "financi                                              0.6443      0.135      4.786      0.000       0.380       0.908\n",
      "cultur                                              -1.2814      0.295     -4.342      0.000      -1.860      -0.703\n",
      "market                                               0.4567      0.104      4.391      0.000       0.253       0.661\n",
      "ministri                                            -2.0106      0.396     -5.074      0.000      -2.787      -1.234\n",
      "furnitur                                             0.5422      0.268      2.023      0.043       0.017       1.068\n",
      "officers_listed                                      0.2071      0.003     63.601      0.000       0.201       0.214\n",
      "Bank                                                 8.0176      1.215      6.597      0.000       5.635      10.400\n",
      "Credit Union                                         7.9661      1.740      4.578      0.000       4.555      11.377\n",
      "Domestic Limited Liability Company                   5.5521      0.064     86.680      0.000       5.427       5.678\n",
      "Domestic Limited Liability Partnership               4.5112      0.280     16.112      0.000       3.962       5.060\n",
      "Domestic Limited Partnership                         6.6666      0.213     31.289      0.000       6.249       7.084\n",
      "Domestic Non-Profit Corporation                      5.8359      0.080     72.637      0.000       5.678       5.993\n",
      "Domestic Profit Corporation                          5.2578      0.051    103.975      0.000       5.159       5.357\n",
      "Foreign Limited Liability Company                    4.9530      0.105     47.281      0.000       4.748       5.158\n",
      "Foreign Limited Partnership                          5.3690      0.294     18.247      0.000       4.792       5.946\n",
      "Foreign Non-Profit Corporation                       4.7876      0.249     19.257      0.000       4.300       5.275\n",
      "Foreign Registered Limited Liability Partnership     5.1228      0.493     10.385      0.000       4.156       6.090\n",
      "Insurance                                            5.0747      0.999      5.080      0.000       3.117       7.033\n",
      "Professional Service Corporation                     5.9574      0.199     30.003      0.000       5.568       6.347\n",
      "==============================================================================\n",
      "Omnibus:                     7355.659   Durbin-Watson:                   1.851\n",
      "Prob(Omnibus):                  0.000   Jarque-Bera (JB):           885593.273\n",
      "Skew:                          -0.168   Prob(JB):                         0.00\n",
      "Kurtosis:                      31.609   Cond. No.                         663.\n",
      "==============================================================================\n",
      "\n",
      "Warnings:\n",
      "[1] Standard Errors assume that the covariance matrix of the errors is correctly specified.\n"
     ]
    }
   ],
   "source": [
    "# This model is clearly overspecified. Clear out the worst performing variables & see what happens\n",
    "vars_to_keep = []\n",
    "for item in explanatory_variables:\n",
    "    if e_net.fit().pvalues[item] < 0.05:\n",
    "        vars_to_keep += [item]\n",
    "\n",
    "smaller_X_train = X_train[vars_to_keep]\n",
    "\n",
    "e_net2 = sm.OLS(y_train, smaller_X_train.astype(float), L1_wt=.5)\n",
    "print(e_net2.fit().summary())"
   ]
  },
  {
   "cell_type": "markdown",
   "metadata": {
    "collapsed": true
   },
   "source": [
    "### An adjusted R^2 of ~90% is crazy. How can we know so much about the life expectancy of a company from such a small amount of information? Also, lots of these variables seem dubious. `and/or` is statistically significant? `(ma)**` also? I don't even know what that one means."
   ]
  },
  {
   "cell_type": "code",
   "execution_count": 74,
   "metadata": {},
   "outputs": [
    {
     "data": {
      "text/plain": [
       "0.12661802632328545"
      ]
     },
     "execution_count": 74,
     "metadata": {},
     "output_type": "execute_result"
    }
   ],
   "source": [
    "# At first glance, the model still seems overspecified with a condition number > 600. Let's do some cross validation:\n",
    "e_net_cv = ElasticNetCV(cv=5)\n",
    "e_net_cv.fit(df[vars_to_keep], df['log_time_in_business'])\n",
    "e_net_cv.score(X_test[vars_to_keep], y_test)"
   ]
  },
  {
   "cell_type": "markdown",
   "metadata": {},
   "source": [
    "### Our earlier adjusted R^2 isn't accurate. Our model is overspecified, with a condition number > 600, and our model's out-of-sample score is only 13%.\n",
    "### Regardless, we have too many variables for more complex models to run in a reasonable amount of time. We need to be smarter about variable selection."
   ]
  },
  {
   "cell_type": "code",
   "execution_count": 75,
   "metadata": {},
   "outputs": [],
   "source": [
    "from yellowbrick.features import RFECV\n",
    "from sklearn.ensemble import RandomForestRegressor"
   ]
  },
  {
   "cell_type": "markdown",
   "metadata": {},
   "source": [
    "### One simple solution is to run recursive feature elemination on our giant model. If you go this route, then run it over the weekend, cause it takes forever. I gave mine 10 hours, then stopped it when it hadn't finished."
   ]
  },
  {
   "cell_type": "code",
   "execution_count": 79,
   "metadata": {},
   "outputs": [],
   "source": [
    "#rf_model = RFECV(RandomForestRegressor(n_estimators=8))\n",
    "#rf_model.fit(X_test[vars_to_keep], y_test)\n",
    "#rf_model.poof()"
   ]
  },
  {
   "cell_type": "markdown",
   "metadata": {},
   "source": [
    "### It's time to concede that variable selection in this study isn't reasonable to automate. There are too many dimensions in this data. Instead, we need to manually pick out features that reasonable and test those."
   ]
  },
  {
   "cell_type": "code",
   "execution_count": 90,
   "metadata": {},
   "outputs": [
    {
     "name": "stdout",
     "output_type": "stream",
     "text": [
      "(de)**\n",
      "(ma)**\n",
      "**merg\n",
      "Bank\n",
      "Comments\n",
      "ConsentFlag\n",
      "Credit Union\n",
      "Domestic Limited Liability Company\n",
      "Domestic Limited Liability Partnership\n",
      "Domestic Limited Partnership\n",
      "Domestic Non-Profit Corporation\n",
      "Domestic Profit Corporation\n",
      "EffectiveDate\n",
      "EntityName\n",
      "EntityType\n",
      "Foreign Corporation\n",
      "Foreign Limited Liability Company\n",
      "Foreign Limited Partnership\n",
      "Foreign Non-Profit Corporation\n",
      "Foreign Registered Limited Liability Partnership\n",
      "IDNumber\n",
      "InactiveDate\n",
      "Insurance\n",
      "NIACS\n",
      "OrganisationDate\n",
      "PrincipleCity\n",
      "PrincipleCountry\n",
      "PrincipleState\n",
      "PrincipleStreet\n",
      "PrincipleZip\n",
      "Professional Service Corporation\n",
      "ResidentAgentFlag\n",
      "ResidentAgentName\n",
      "ResidentCity\n",
      "ResidentCountry\n",
      "ResidentState\n",
      "ResidentStreet\n",
      "ResidentZip\n",
      "accessori\n",
      "account\n",
      "acquir\n",
      "acquisit\n",
      "act\n",
      "activ\n",
      "administr\n",
      "advanc\n",
      "advertis\n",
      "agenc\n",
      "air\n",
      "alcohol\n",
      "all\n",
      "allianc\n",
      "america\n",
      "american\n",
      "and/or\n",
      "ani\n",
      "architectur\n",
      "area\n",
      "art\n",
      "assembl\n",
      "asset\n",
      "assist\n",
      "associ\n",
      "at\n",
      "atlant\n",
      "auto\n",
      "automobil\n",
      "automot\n",
      "avenu\n",
      "bank\n",
      "bar\n",
      "bay\n",
      "be\n",
      "beauti\n",
      "benefit\n",
      "beverag\n",
      "block\n",
      "boat\n",
      "bodi\n",
      "both\n",
      "bristol\n",
      "bro\n",
      "broker\n",
      "brokerag\n",
      "brother\n",
      "build\n",
      "builder\n",
      "busi\n",
      "but\n",
      "buy\n",
      "by\n",
      "cafe\n",
      "capit\n",
      "car\n",
      "care\n",
      "carpentri\n",
      "carri\n",
      "cater\n",
      "center\n",
      "central\n",
      "charit\n",
      "charter\n",
      "children\n",
      "church\n",
      "citi\n",
      "clean\n",
      "cloth\n",
      "coast\n",
      "collect\n",
      "commerci\n",
      "commun\n",
      "compani\n",
      "comput\n",
      "concept\n",
      "concret\n",
      "condominium\n",
      "conduct\n",
      "connect\n",
      "construct\n",
      "consult\n",
      "consum\n",
      "contract\n",
      "contractor\n",
      "control\n",
      "conveni\n",
      "corpor\n",
      "counti\n",
      "countri\n",
      "coventri\n",
      "cranston\n",
      "creat\n",
      "creation\n",
      "creativ\n",
      "credit\n",
      "cultur\n",
      "custom\n",
      "d_and_o\n",
      "data\n",
      "de\n",
      "deal\n",
      "deli\n",
      "deliveri\n",
      "descript\n",
      "design\n",
      "develop\n",
      "distribut\n",
      "distributor\n",
      "do\n",
      "eagl\n",
      "east\n",
      "eastern\n",
      "educ\n",
      "electr\n",
      "electron\n",
      "employ\n",
      "employe\n",
      "energi\n",
      "engag\n",
      "engin\n",
      "england\n",
      "enterpris\n",
      "entertain\n",
      "entiti\n",
      "environment\n",
      "equip\n",
      "erect\n",
      "establish\n",
      "estat\n",
      "etc\n",
      "event\n",
      "everi\n",
      "exchang\n",
      "export\n",
      "express\n",
      "fabric\n",
      "facil\n",
      "famili\n",
      "farm\n",
      "fashion\n",
      "feder\n",
      "financ\n",
      "financi\n",
      "fire\n",
      "first\n",
      "fish\n",
      "fit\n",
      "food\n",
      "form\n",
      "friend\n",
      "from\n",
      "full\n",
      "fund\n",
      "furnitur\n",
      "garden\n",
      "gasolin\n",
      "gener\n",
      "gift\n",
      "global\n",
      "good\n",
      "graphic\n",
      "green\n",
      "greenwich\n",
      "groceri\n",
      "hair\n",
      "hardwar\n",
      "health\n",
      "healthcar\n",
      "heat\n",
      "hill\n",
      "hold\n",
      "home\n",
      "hope\n",
      "hous\n",
      "ii\n",
      "imag\n",
      "import\n",
      "improv\n",
      "includ\n",
      "individu\n",
      "industri\n",
      "inform\n",
      "inn\n",
      "instal\n",
      "institut\n",
      "insur\n",
      "interest\n",
      "interior\n",
      "intern\n",
      "internet\n",
      "into\n",
      "invest\n",
      "is\n",
      "island\n",
      "it\n",
      "item\n",
      "jewelri\n",
      "john\n",
      "jr\n",
      "kind\n",
      "land\n",
      "landscap\n",
      "law\n",
      "leagu\n",
      "leas\n",
      "legal\n",
      "lend\n",
      "licens\n",
      "life\n",
      "limit\n",
      "limousin\n",
      "lincoln\n",
      "liquid\n",
      "liquor\n",
      "littl\n",
      "loan\n",
      "log_time_in_business\n",
      "long\n",
      "machin\n",
      "main\n",
      "maintain\n",
      "mainten\n",
      "make\n",
      "manag\n",
      "manufactur\n",
      "marin\n",
      "market\n",
      "materi\n",
      "md\n",
      "media\n",
      "medic\n",
      "medicin\n",
      "member\n",
      "memori\n",
      "merchandis\n",
      "metal\n",
      "mill\n",
      "ministri\n",
      "money\n",
      "mortgag\n",
      "motor\n",
      "music\n",
      "name\n",
      "narragansett\n",
      "nation\n",
      "natur\n",
      "network\n",
      "new\n",
      "newport\n",
      "north\n",
      "northeast\n",
      "not\n",
      "ocean\n",
      "offer\n",
      "offic\n",
      "officers_listed\n",
      "oil\n",
      "old\n",
      "one\n",
      "onli\n",
      "oper\n",
      "or\n",
      "organ\n",
      "origin\n",
      "other\n",
      "otherwis\n",
      "own\n",
      "ownership\n",
      "packag\n",
      "paint\n",
      "park\n",
      "part\n",
      "partner\n",
      "pc\n",
      "peopl\n",
      "perform\n",
      "person\n",
      "pizza\n",
      "place\n",
      "plan\n",
      "plumb\n",
      "point\n",
      "power\n",
      "practic\n",
      "prepar\n",
      "preserv\n",
      "print\n",
      "privat\n",
      "process\n",
      "produc\n",
      "product\n",
      "profession\n",
      "program\n",
      "promot\n",
      "properti\n",
      "protect\n",
      "provid\n",
      "provis\n",
      "pub\n",
      "public\n",
      "publish\n",
      "purchas\n",
      "purpos\n",
      "qualifi\n",
      "rais\n",
      "real\n",
      "realti\n",
      "recreat\n",
      "relat\n",
      "religi\n",
      "remodel\n",
      "render\n",
      "renov\n",
      "rent\n",
      "rental\n",
      "repair\n",
      "research\n",
      "residenti\n",
      "resourc\n",
      "restaur\n",
      "restor\n",
      "retail\n",
      "rhode\n",
      "ri\n",
      "river\n",
      "road\n",
      "robert\n",
      "sale\n",
      "salon\n",
      "school\n",
      "sea\n",
      "seafood\n",
      "secur\n",
      "sell\n",
      "serv\n",
      "servic\n",
      "shop\n",
      "smith\n",
      "social\n",
      "societi\n",
      "softwar\n",
      "solut\n",
      "son\n",
      "south\n",
      "special\n",
      "specialti\n",
      "sport\n",
      "st\n",
      "star\n",
      "state\n",
      "station\n",
      "steel\n",
      "stock_info\n",
      "store\n",
      "street\n",
      "structur\n",
      "studio\n",
      "such\n",
      "suppli\n",
      "support\n",
      "system\n",
      "tax\n",
      "technolog\n",
      "telecommun\n",
      "temporari\n",
      "that\n",
      "their\n",
      "through\n",
      "time_in_business\n",
      "titl\n",
      "to\n",
      "tool\n",
      "trade\n",
      "train\n",
      "transport\n",
      "travel\n",
      "truck\n",
      "trust\n",
      "type\n",
      "under\n",
      "unit\n",
      "univers\n",
      "unlimit\n",
      "us\n",
      "usa\n",
      "use\n",
      "valley\n",
      "variou\n",
      "vehicl\n",
      "ventur\n",
      "vessel\n",
      "video\n",
      "view\n",
      "villag\n",
      "warwick\n",
      "water\n",
      "well\n",
      "west\n",
      "which\n",
      "wholesal\n",
      "william\n",
      "wireless\n",
      "with\n",
      "woonsocket\n",
      "work\n",
      "world\n",
      "yacht\n",
      "youth\n"
     ]
    }
   ],
   "source": [
    "for item in df.columns.sort_values():\n",
    "    print(item)"
   ]
  },
  {
   "cell_type": "code",
   "execution_count": 121,
   "metadata": {},
   "outputs": [],
   "source": [
    "manually_chosen_variables = [\n",
    "    'Bank', 'Credit Union', 'Domestic Limited Liability Company',\n",
    "    'Domestic Limited Liability Partnership', 'Domestic Limited Partnership', 'Domestic Non-Profit Corporation',\n",
    "    'Domestic Profit Corporation', 'Foreign Limited Liability Company',\n",
    "    'Foreign Limited Partnership', 'Foreign Non-Profit Corporation', 'Foreign Registered Limited Liability Partnership',\n",
    "    'Insurance', 'Professional Service Corporation',\n",
    "    'accessori', 'account', 'acquir', 'acquisit', 'act', 'activ', 'administr', 'advanc', 'advertis',\n",
    "    'agenc', 'air', 'alcohol', 'architectur', 'art', 'assembl', 'asset', 'assist', 'associ', 'auto',\n",
    "    'automobil', 'automot', 'bank', 'bar', 'beauti', 'benefit', 'beverag', 'boat', 'bodi', 'broker',\n",
    "    'brokerag', 'build', 'builder', 'cafe', 'capit', 'car', 'care', 'carpentri', 'carri', 'cater', 'children',\n",
    "    'church', 'clean', 'cloth', 'collect', 'commerci', 'commun', 'comput', 'concept', 'concret', 'condominium',\n",
    "    'conduct', 'construct', 'consult', 'consum', 'contract', 'contractor', 'conveni', 'counti', 'creation',\n",
    "    'creativ', 'credit', 'cultur', 'custom', 'deli', 'deliveri', 'design', 'develop', 'distribut', 'distributor',\n",
    "    'educ', 'electr', 'electron', 'employe', 'energi', 'engin', 'entertain', 'entiti', 'environment', 'equip',\n",
    "    'erect', 'establish', 'estat', 'event', 'exchang', 'export', 'fabric', 'farm', 'fashion', 'financ',\n",
    "    'financi', 'fire', 'fish', 'fit', 'food', 'friend', 'fund', 'furnitur', 'garden', 'gasolin', 'gener', 'gift',\n",
    "    'graphic', 'groceri', 'hair', 'hardwar', 'health', 'healthcar', 'heat', 'hold', 'home', 'hous', 'imag', 'import',\n",
    "    'individu', 'industri', 'inform', 'inn', 'instal', 'institut', 'insur', 'interest', 'interior', 'internet',\n",
    "    'invest', 'jewelri', 'land', 'landscap', 'law', 'leas', 'legal', 'lend', 'licens', 'limousin', 'liquid',\n",
    "    'liquor', 'loan', 'machin', 'maintain', 'mainten', 'manufactur', 'market', 'materi', 'media', 'medic',\n",
    "    'medicin', 'merchandis', 'metal', 'mill', 'ministri', 'money',\n",
    "    'mortgag', 'motor', 'music', 'natur', 'ocean', 'oil', 'onli', 'oper', 'organ', 'packag', 'paint', 'park', 'pizza',\n",
    "    'place', 'power', 'practic', 'preserv', 'print', 'promot', 'properti', 'protect', 'provid', 'provis', 'pub',\n",
    "    'publish', 'real', 'realti', 'recreat', 'religi', 'remodel', 'renov', 'rent', 'rental', 'repair', 'research',\n",
    "    'residenti', 'resourc', 'restaur', 'restor', 'retail', 'salon', 'school', 'sea', 'seafood', 'secur',\n",
    "    'softwar', 'specialti', 'sport', 'steel', 'structur', 'studio', 'suppli', 'support', 'system',\n",
    "    'tax', 'technolog', 'telecommun', 'temporari', 'titl', 'tool', 'trade', 'train', 'transport', 'travel',\n",
    "    'truck', 'trust', 'vehicl', 'vessel', 'video', 'water', 'well', 'wholesal', 'wireless', 'yacht', 'youth', \n",
    "    'officers_listed']"
   ]
  },
  {
   "cell_type": "code",
   "execution_count": 122,
   "metadata": {},
   "outputs": [
    {
     "data": {
      "text/plain": [
       "239"
      ]
     },
     "execution_count": 122,
     "metadata": {},
     "output_type": "execute_result"
    }
   ],
   "source": [
    "# If this doesn't work, then we'll need to scale back our ambitions & start grouping together words into categories:\n",
    "# words around food (restaurant, cafe, food), real estate (real, estate, land, property), etc.\n",
    "len(manually_chosen_variables)"
   ]
  },
  {
   "cell_type": "code",
   "execution_count": 123,
   "metadata": {},
   "outputs": [
    {
     "name": "stdout",
     "output_type": "stream",
     "text": [
      "<class 'pandas.core.frame.DataFrame'>\n",
      "Int64Index: 25964 entries, 6644 to 2920\n",
      "Data columns (total 15 columns):\n",
      "Bank                                                25964 non-null bool\n",
      "Credit Union                                        25964 non-null bool\n",
      "Domestic Limited Liability Company                  25964 non-null bool\n",
      "Domestic Limited Liability Partnership              25964 non-null bool\n",
      "Domestic Limited Partnership                        25964 non-null bool\n",
      "Domestic Non-Profit Corporation                     25964 non-null bool\n",
      "Domestic Profit Corporation                         25964 non-null bool\n",
      "Foreign Corporation                                 25964 non-null bool\n",
      "Foreign Limited Liability Company                   25964 non-null bool\n",
      "Foreign Limited Partnership                         25964 non-null bool\n",
      "Foreign Non-Profit Corporation                      25964 non-null bool\n",
      "Foreign Registered Limited Liability Partnership    25964 non-null bool\n",
      "Insurance                                           25964 non-null bool\n",
      "Professional Service Corporation                    25964 non-null bool\n",
      "officers_listed                                     25964 non-null int64\n",
      "dtypes: bool(14), int64(1)\n",
      "memory usage: 760.7 KB\n"
     ]
    }
   ],
   "source": [
    "# time_in_business as days\n",
    "X_train_manual, X_test_manual, y_train_manual, y_test_manual = train_test_split(df[manually_chosen_variables],\n",
    "                                                    df['log_time_in_business'],\n",
    "                                                    test_size=0.2,\n",
    "                                                    random_state=5)\n",
    "\n",
    "X_train.info(memory_usage='deep')"
   ]
  },
  {
   "cell_type": "code",
   "execution_count": 124,
   "metadata": {},
   "outputs": [
    {
     "name": "stdout",
     "output_type": "stream",
     "text": [
      "                             OLS Regression Results                             \n",
      "================================================================================\n",
      "Dep. Variable:     log_time_in_business   R-squared:                       0.892\n",
      "Model:                              OLS   Adj. R-squared:                  0.891\n",
      "Method:                   Least Squares   F-statistic:                     890.8\n",
      "Date:                  Mon, 04 Mar 2019   Prob (F-statistic):               0.00\n",
      "Time:                          18:46:37   Log-Likelihood:                -61088.\n",
      "No. Observations:                 25964   AIC:                         1.227e+05\n",
      "Df Residuals:                     25725   BIC:                         1.246e+05\n",
      "Df Model:                           239                                         \n",
      "Covariance Type:              nonrobust                                         \n",
      "====================================================================================================================\n",
      "                                                       coef    std err          t      P>|t|      [0.025      0.975]\n",
      "--------------------------------------------------------------------------------------------------------------------\n",
      "Bank                                                 9.0222      1.311      6.879      0.000       6.452      11.593\n",
      "Credit Union                                         7.2442      1.832      3.955      0.000       3.654      10.834\n",
      "Domestic Limited Liability Company                   5.5266      0.069     80.637      0.000       5.392       5.661\n",
      "Domestic Limited Liability Partnership               4.4131      0.311     14.185      0.000       3.803       5.023\n",
      "Domestic Limited Partnership                         6.8595      0.213     32.272      0.000       6.443       7.276\n",
      "Domestic Non-Profit Corporation                      5.8142      0.088     66.061      0.000       5.642       5.987\n",
      "Domestic Profit Corporation                          5.3764      0.053    100.656      0.000       5.272       5.481\n",
      "Foreign Limited Liability Company                    5.0145      0.110     45.442      0.000       4.798       5.231\n",
      "Foreign Limited Partnership                          5.7141      0.305     18.761      0.000       5.117       6.311\n",
      "Foreign Non-Profit Corporation                       5.0620      0.264     19.193      0.000       4.545       5.579\n",
      "Foreign Registered Limited Liability Partnership     5.2047      0.524      9.930      0.000       4.177       6.232\n",
      "Insurance                                            6.7518      1.050      6.431      0.000       4.694       8.810\n",
      "Professional Service Corporation                     6.0224      0.211     28.502      0.000       5.608       6.437\n",
      "accessori                                           -0.1089      0.223     -0.489      0.625      -0.546       0.328\n",
      "account                                              0.4877      0.279      1.748      0.080      -0.059       1.035\n",
      "acquir                                              -0.6201      0.188     -3.296      0.001      -0.989      -0.251\n",
      "acquisit                                            -0.1382      0.225     -0.615      0.539      -0.579       0.303\n",
      "act                                                 -0.2987      0.252     -1.183      0.237      -0.794       0.196\n",
      "activ                                                0.5783      0.179      3.238      0.001       0.228       0.928\n",
      "administr                                            1.7740      0.311      5.704      0.000       1.164       2.384\n",
      "advanc                                              -0.5730      0.296     -1.933      0.053      -1.154       0.008\n",
      "advertis                                            -0.4934      0.289     -1.707      0.088      -1.060       0.073\n",
      "agenc                                                0.9237      0.180      5.134      0.000       0.571       1.276\n",
      "air                                                  0.2055      0.339      0.606      0.544      -0.459       0.870\n",
      "alcohol                                             -1.6546      0.434     -3.809      0.000      -2.506      -0.803\n",
      "architectur                                          2.7567      0.292      9.435      0.000       2.184       3.329\n",
      "art                                                 -0.2727      0.211     -1.294      0.196      -0.686       0.140\n",
      "assembl                                             -1.1678      0.342     -3.410      0.001      -1.839      -0.496\n",
      "asset                                               -0.3646      0.300     -1.216      0.224      -0.952       0.223\n",
      "assist                                              -1.2291      0.262     -4.690      0.000      -1.743      -0.715\n",
      "associ                                               0.5520      0.078      7.043      0.000       0.398       0.706\n",
      "auto                                                 0.8356      0.160      5.228      0.000       0.522       1.149\n",
      "automobil                                            0.0416      0.243      0.171      0.864      -0.435       0.519\n",
      "automot                                             -0.0304      0.269     -0.113      0.910      -0.557       0.497\n",
      "bank                                                 0.3473      0.391      0.888      0.374      -0.419       1.114\n",
      "bar                                                 -0.2973      0.276     -1.075      0.282      -0.839       0.245\n",
      "beauti                                              -0.0906      0.349     -0.259      0.795      -0.776       0.594\n",
      "benefit                                              0.1036      0.290      0.357      0.721      -0.465       0.672\n",
      "beverag                                              0.0206      0.272      0.076      0.939      -0.512       0.553\n",
      "boat                                                 0.2213      0.213      1.039      0.299      -0.196       0.639\n",
      "bodi                                                -0.8433      0.311     -2.710      0.007      -1.453      -0.233\n",
      "broker                                              -0.0691      0.193     -0.358      0.721      -0.448       0.310\n",
      "brokerag                                            -0.0390      0.238     -0.164      0.870      -0.505       0.427\n",
      "build                                                0.2046      0.133      1.539      0.124      -0.056       0.465\n",
      "builder                                              0.3359      0.196      1.712      0.087      -0.049       0.721\n",
      "cafe                                                -0.7052      0.301     -2.346      0.019      -1.294      -0.116\n",
      "capit                                                0.4918      0.207      2.378      0.017       0.086       0.897\n",
      "car                                                  0.1088      0.304      0.358      0.721      -0.488       0.705\n",
      "care                                                 0.1614      0.163      0.991      0.322      -0.158       0.480\n",
      "carpentri                                           -1.4711      0.368     -3.994      0.000      -2.193      -0.749\n",
      "carri                                               -0.6160      0.251     -2.456      0.014      -1.108      -0.124\n",
      "cater                                               -0.7527      0.338     -2.227      0.026      -1.415      -0.090\n",
      "children                                            -1.2909      0.289     -4.467      0.000      -1.857      -0.724\n",
      "church                                              -0.0962      0.271     -0.355      0.723      -0.627       0.435\n",
      "clean                                               -0.1422      0.179     -0.793      0.428      -0.494       0.209\n",
      "cloth                                                0.3698      0.231      1.603      0.109      -0.082       0.822\n",
      "collect                                              1.2291      0.277      4.443      0.000       0.687       1.771\n",
      "commerci                                             0.6232      0.140      4.454      0.000       0.349       0.898\n",
      "commun                                               0.5655      0.131      4.313      0.000       0.309       0.822\n",
      "comput                                               0.7413      0.165      4.504      0.000       0.419       1.064\n",
      "concept                                             -0.5741      0.307     -1.871      0.061      -1.175       0.027\n",
      "concret                                             -0.2672      0.334     -0.800      0.424      -0.922       0.388\n",
      "condominium                                         -1.9839      0.322     -6.168      0.000      -2.614      -1.353\n",
      "conduct                                              0.0694      0.166      0.417      0.676      -0.256       0.395\n",
      "construct                                            0.7418      0.086      8.577      0.000       0.572       0.911\n",
      "consult                                              0.1648      0.096      1.714      0.087      -0.024       0.353\n",
      "consum                                               0.1364      0.294      0.463      0.643      -0.441       0.714\n",
      "contract                                             0.4746      0.161      2.952      0.003       0.159       0.790\n",
      "contractor                                           0.4825      0.182      2.646      0.008       0.125       0.840\n",
      "conveni                                             -0.9152      0.324     -2.828      0.005      -1.549      -0.281\n",
      "counti                                              -0.6000      0.270     -2.223      0.026      -1.129      -0.071\n",
      "creation                                            -1.1000      0.299     -3.673      0.000      -1.687      -0.513\n",
      "creativ                                             -1.5849      0.371     -4.273      0.000      -2.312      -0.858\n",
      "credit                                               1.7150      0.297      5.775      0.000       1.133       2.297\n",
      "cultur                                              -1.1175      0.317     -3.527      0.000      -1.738      -0.497\n",
      "custom                                              -0.1307      0.233     -0.560      0.576      -0.588       0.327\n",
      "deli                                                -1.2548      0.389     -3.223      0.001      -2.018      -0.492\n",
      "deliveri                                             0.0966      0.293      0.330      0.742      -0.478       0.671\n",
      "design                                               0.2808      0.115      2.441      0.015       0.055       0.506\n",
      "develop                                             -0.0643      0.086     -0.750      0.454      -0.232       0.104\n",
      "distribut                                            0.4657      0.134      3.481      0.001       0.203       0.728\n",
      "distributor                                          0.3836      0.291      1.318      0.187      -0.187       0.954\n",
      "educ                                                -0.3755      0.155     -2.426      0.015      -0.679      -0.072\n",
      "electr                                               0.6887      0.196      3.517      0.000       0.305       1.073\n",
      "electron                                             0.5006      0.237      2.108      0.035       0.035       0.966\n",
      "employe                                              0.3929      0.365      1.077      0.282      -0.322       1.108\n",
      "energi                                               0.9424      0.317      2.971      0.003       0.321       1.564\n",
      "engin                                                1.8271      0.200      9.156      0.000       1.436       2.218\n",
      "entertain                                           -0.5292      0.256     -2.070      0.038      -1.030      -0.028\n",
      "entiti                                               0.0937      0.191      0.491      0.623      -0.280       0.468\n",
      "environment                                          0.6670      0.249      2.674      0.007       0.178       1.156\n",
      "equip                                                0.9552      0.130      7.350      0.000       0.700       1.210\n",
      "erect                                                0.4534      0.381      1.189      0.235      -0.294       1.201\n",
      "establish                                           -1.0028      0.233     -4.303      0.000      -1.459      -0.546\n",
      "estat                                                0.3410      0.183      1.863      0.063      -0.018       0.700\n",
      "event                                               -0.2579      0.345     -0.747      0.455      -0.935       0.419\n",
      "exchang                                             -0.6318      0.311     -2.028      0.043      -1.242      -0.021\n",
      "export                                              -0.4762      0.356     -1.336      0.182      -1.175       0.222\n",
      "fabric                                               0.5358      0.289      1.853      0.064      -0.031       1.102\n",
      "farm                                                -0.0267      0.270     -0.099      0.921      -0.557       0.503\n",
      "fashion                                             -0.9858      0.408     -2.415      0.016      -1.786      -0.186\n",
      "financ                                               1.5724      0.219      7.171      0.000       1.143       2.002\n",
      "financi                                              1.1723      0.141      8.285      0.000       0.895       1.450\n",
      "fire                                                -0.3300      0.321     -1.029      0.303      -0.958       0.298\n",
      "fish                                                -0.2744      0.268     -1.023      0.306      -0.800       0.251\n",
      "fit                                                 -0.7540      0.317     -2.378      0.017      -1.376      -0.133\n",
      "food                                                 0.4384      0.130      3.373      0.001       0.184       0.693\n",
      "friend                                              -1.8049      0.393     -4.594      0.000      -2.575      -1.035\n",
      "fund                                                 0.0266      0.189      0.141      0.888      -0.344       0.398\n",
      "furnitur                                             0.6352      0.284      2.240      0.025       0.079       1.191\n",
      "garden                                              -0.8038      0.359     -2.238      0.025      -1.508      -0.100\n",
      "gasolin                                             -0.5631      0.356     -1.580      0.114      -1.262       0.135\n",
      "gener                                                0.1832      0.104      1.767      0.077      -0.020       0.386\n",
      "gift                                                -0.4621      0.285     -1.624      0.104      -1.020       0.096\n",
      "graphic                                             -0.3353      0.343     -0.978      0.328      -1.008       0.337\n",
      "groceri                                             -1.4047      0.402     -3.499      0.000      -2.192      -0.618\n",
      "hair                                                 0.0626      0.353      0.177      0.859      -0.629       0.754\n",
      "hardwar                                             -1.5572      0.352     -4.430      0.000      -2.246      -0.868\n",
      "health                                               0.7105      0.173      4.097      0.000       0.371       1.050\n",
      "healthcar                                            0.9075      0.326      2.781      0.005       0.268       1.547\n",
      "heat                                                -0.4121      0.266     -1.549      0.121      -0.933       0.109\n",
      "hold                                                 0.5011      0.114      4.401      0.000       0.278       0.724\n",
      "home                                                 0.5668      0.126      4.506      0.000       0.320       0.813\n",
      "hous                                                 0.0029      0.193      0.015      0.988      -0.376       0.382\n",
      "imag                                                 0.1214      0.378      0.321      0.748      -0.619       0.862\n",
      "import                                               0.0537      0.285      0.188      0.851      -0.506       0.613\n",
      "individu                                            -1.2189      0.308     -3.961      0.000      -1.822      -0.616\n",
      "industri                                             0.6513      0.130      5.002      0.000       0.396       0.906\n",
      "inform                                               0.6475      0.225      2.878      0.004       0.206       1.088\n",
      "inn                                                 -0.4688      0.371     -1.264      0.206      -1.196       0.258\n",
      "instal                                               0.2475      0.145      1.702      0.089      -0.038       0.533\n",
      "institut                                            -0.3774      0.345     -1.095      0.274      -1.053       0.298\n",
      "insur                                                1.4892      0.159      9.379      0.000       1.178       1.800\n",
      "interest                                            -0.0672      0.275     -0.244      0.807      -0.607       0.472\n",
      "interior                                            -0.3126      0.288     -1.086      0.278      -0.877       0.252\n",
      "internet                                             0.3256      0.239      1.364      0.172      -0.142       0.793\n",
      "invest                                               0.2768      0.102      2.713      0.007       0.077       0.477\n",
      "jewelri                                              0.3436      0.159      2.160      0.031       0.032       0.655\n",
      "land                                                -0.0826      0.233     -0.355      0.723      -0.539       0.373\n",
      "landscap                                            -0.1513      0.205     -0.739      0.460      -0.553       0.250\n",
      "law                                                 -0.1680      0.219     -0.767      0.443      -0.597       0.261\n",
      "leas                                                 0.8243      0.116      7.097      0.000       0.597       1.052\n",
      "legal                                               -0.4161      0.295     -1.408      0.159      -0.995       0.163\n",
      "lend                                                 1.2271      0.256      4.802      0.000       0.726       1.728\n",
      "licens                                               0.0743      0.299      0.248      0.804      -0.512       0.661\n",
      "limousin                                            -1.0355      0.335     -3.089      0.002      -1.692      -0.379\n",
      "liquid                                              -0.1781      0.386     -0.462      0.644      -0.934       0.578\n",
      "liquor                                              -0.3133      0.251     -1.250      0.211      -0.804       0.178\n",
      "loan                                                 0.8426      0.236      3.577      0.000       0.381       1.304\n",
      "machin                                               0.7889      0.284      2.781      0.005       0.233       1.345\n",
      "maintain                                            -0.3782      0.183     -2.064      0.039      -0.737      -0.019\n",
      "mainten                                              0.3188      0.176      1.812      0.070      -0.026       0.664\n",
      "manufactur                                           0.9382      0.107      8.790      0.000       0.729       1.147\n",
      "market                                               0.7007      0.110      6.391      0.000       0.486       0.916\n",
      "materi                                              -0.4959      0.240     -2.068      0.039      -0.966      -0.026\n",
      "media                                                0.1414      0.326      0.434      0.664      -0.497       0.780\n",
      "medic                                                0.7307      0.175      4.178      0.000       0.388       1.073\n",
      "medicin                                             -0.8684      0.348     -2.495      0.013      -1.551      -0.186\n",
      "merchandis                                           0.0299      0.247      0.121      0.904      -0.455       0.515\n",
      "metal                                                0.8384      0.263      3.190      0.001       0.323       1.354\n",
      "mill                                                -0.4918      0.386     -1.275      0.202      -1.248       0.264\n",
      "ministri                                            -2.1695      0.421     -5.156      0.000      -2.994      -1.345\n",
      "money                                               -0.7930      0.403     -1.968      0.049      -1.583      -0.003\n",
      "mortgag                                              2.3735      0.144     16.434      0.000       2.090       2.657\n",
      "motor                                                0.4796      0.254      1.890      0.059      -0.018       0.977\n",
      "music                                                0.1937      0.270      0.717      0.473      -0.336       0.723\n",
      "natur                                               -0.2519      0.291     -0.867      0.386      -0.822       0.318\n",
      "ocean                                               -0.8531      0.240     -3.551      0.000      -1.324      -0.382\n",
      "oil                                                  1.1105      0.288      3.862      0.000       0.547       1.674\n",
      "onli                                                 3.2893      0.374      8.806      0.000       2.557       4.021\n",
      "oper                                                 0.2412      0.076      3.154      0.002       0.091       0.391\n",
      "organ                                               -0.2544      0.196     -1.300      0.194      -0.638       0.129\n",
      "packag                                              -0.1235      0.313     -0.395      0.693      -0.737       0.490\n",
      "paint                                               -0.0727      0.203     -0.359      0.720      -0.470       0.324\n",
      "park                                                -0.1059      0.243     -0.437      0.662      -0.581       0.370\n",
      "pizza                                               -0.6305      0.268     -2.354      0.019      -1.155      -0.106\n",
      "place                                               -0.5224      0.285     -1.832      0.067      -1.081       0.037\n",
      "power                                                0.5680      0.280      2.026      0.043       0.018       1.118\n",
      "practic                                              0.2119      0.216      0.979      0.328      -0.212       0.636\n",
      "preserv                                             -1.6186      0.351     -4.618      0.000      -2.306      -0.932\n",
      "print                                                0.3163      0.244      1.294      0.196      -0.163       0.795\n",
      "promot                                              -0.2298      0.161     -1.428      0.153      -0.545       0.086\n",
      "properti                                             0.2380      0.098      2.437      0.015       0.047       0.429\n",
      "protect                                             -0.1400      0.312     -0.448      0.654      -0.752       0.472\n",
      "provid                                               0.3879      0.078      4.958      0.000       0.235       0.541\n",
      "provis                                              -0.1826      0.362     -0.505      0.614      -0.891       0.526\n",
      "pub                                                 -1.3101      0.405     -3.231      0.001      -2.105      -0.515\n",
      "publish                                             -0.1437      0.291     -0.493      0.622      -0.715       0.427\n",
      "real                                                 0.0615      0.184      0.334      0.738      -0.299       0.422\n",
      "realti                                               0.6955      0.089      7.795      0.000       0.521       0.870\n",
      "recreat                                             -1.1589      0.342     -3.386      0.001      -1.830      -0.488\n",
      "religi                                              -1.7828      0.361     -4.935      0.000      -2.491      -1.075\n",
      "remodel                                             -0.7686      0.232     -3.318      0.001      -1.223      -0.315\n",
      "renov                                               -0.8525      0.286     -2.976      0.003      -1.414      -0.291\n",
      "rent                                                -0.8156      0.242     -3.373      0.001      -1.290      -0.342\n",
      "rental                                               0.6241      0.154      4.059      0.000       0.323       0.926\n",
      "repair                                              -0.2329      0.132     -1.769      0.077      -0.491       0.025\n",
      "research                                            -0.0478      0.253     -0.189      0.850      -0.544       0.448\n",
      "residenti                                           -0.2392      0.154     -1.548      0.122      -0.542       0.064\n",
      "resourc                                              0.7906      0.251      3.147      0.002       0.298       1.283\n",
      "restaur                                              0.5682      0.116      4.878      0.000       0.340       0.797\n",
      "restor                                              -0.2613      0.277     -0.944      0.345      -0.804       0.281\n",
      "retail                                               0.9165      0.102      8.949      0.000       0.716       1.117\n",
      "salon                                               -0.1808      0.299     -0.604      0.546      -0.767       0.406\n",
      "school                                              -0.3366      0.228     -1.473      0.141      -0.784       0.111\n",
      "sea                                                 -1.2773      0.403     -3.172      0.002      -2.067      -0.488\n",
      "seafood                                             -0.8345      0.330     -2.531      0.011      -1.481      -0.188\n",
      "secur                                                1.2324      0.189      6.525      0.000       0.862       1.603\n",
      "softwar                                              0.6566      0.218      3.006      0.003       0.228       1.085\n",
      "specialti                                            0.8164      0.317      2.571      0.010       0.194       1.439\n",
      "sport                                               -0.1894      0.210     -0.903      0.367      -0.601       0.222\n",
      "steel                                                0.0110      0.392      0.028      0.978      -0.758       0.780\n",
      "structur                                            -0.3867      0.330     -1.171      0.242      -1.034       0.260\n",
      "studio                                              -0.6707      0.336     -1.993      0.046      -1.330      -0.011\n",
      "suppli                                               0.7016      0.183      3.824      0.000       0.342       1.061\n",
      "support                                             -0.5195      0.220     -2.365      0.018      -0.950      -0.089\n",
      "system                                               1.5141      0.126     12.021      0.000       1.267       1.761\n",
      "tax                                                 -1.1364      0.372     -3.059      0.002      -1.865      -0.408\n",
      "technolog                                            0.7581      0.165      4.586      0.000       0.434       1.082\n",
      "telecommun                                           3.5037      0.191     18.387      0.000       3.130       3.877\n",
      "temporari                                            1.6805      0.332      5.061      0.000       1.030       2.331\n",
      "titl                                                 1.3224      0.055     24.180      0.000       1.215       1.430\n",
      "tool                                                -0.3748      0.336     -1.116      0.265      -1.033       0.284\n",
      "trade                                                0.3312      0.195      1.697      0.090      -0.051       0.714\n",
      "train                                                0.2213      0.233      0.950      0.342      -0.235       0.678\n",
      "transport                                            0.4648      0.174      2.669      0.008       0.123       0.806\n",
      "travel                                               0.6893      0.331      2.086      0.037       0.042       1.337\n",
      "truck                                               -0.0042      0.177     -0.023      0.981      -0.352       0.343\n",
      "trust                                                0.0436      0.380      0.115      0.909      -0.701       0.789\n",
      "vehicl                                              -0.2094      0.258     -0.811      0.418      -0.716       0.297\n",
      "vessel                                              -0.4907      0.315     -1.560      0.119      -1.107       0.126\n",
      "video                                               -0.2056      0.273     -0.754      0.451      -0.740       0.329\n",
      "water                                                0.3309      0.300      1.102      0.271      -0.258       0.920\n",
      "well                                                -0.5841      0.317     -1.844      0.065      -1.205       0.037\n",
      "wholesal                                            -0.1088      0.152     -0.714      0.475      -0.407       0.190\n",
      "wireless                                            -0.5567      0.358     -1.557      0.120      -1.258       0.144\n",
      "yacht                                                0.2348      0.248      0.946      0.344      -0.252       0.721\n",
      "youth                                               -0.9582      0.303     -3.159      0.002      -1.553      -0.364\n",
      "officers_listed                                      0.2259      0.003     66.273      0.000       0.219       0.233\n",
      "==============================================================================\n",
      "Omnibus:                     8486.388   Durbin-Watson:                   1.824\n",
      "Prob(Omnibus):                  0.000   Jarque-Bera (JB):          1825013.332\n",
      "Skew:                          -0.292   Prob(JB):                         0.00\n",
      "Kurtosis:                      44.068   Cond. No.                         663.\n",
      "==============================================================================\n",
      "\n",
      "Warnings:\n",
      "[1] Standard Errors assume that the covariance matrix of the errors is correctly specified.\n"
     ]
    }
   ],
   "source": [
    "# Same as before, let's use a simple elastic net model to filter out our worst-performing variables:\n",
    "e_net = sm.OLS(y_train_manual, X_train_manual.astype(float), L1_wt=.5)\n",
    "print(e_net.fit().summary())"
   ]
  },
  {
   "cell_type": "code",
   "execution_count": 125,
   "metadata": {},
   "outputs": [
    {
     "name": "stdout",
     "output_type": "stream",
     "text": [
      "                             OLS Regression Results                             \n",
      "================================================================================\n",
      "Dep. Variable:     log_time_in_business   R-squared:                       0.892\n",
      "Model:                              OLS   Adj. R-squared:                  0.891\n",
      "Method:                   Least Squares   F-statistic:                     1633.\n",
      "Date:                  Mon, 04 Mar 2019   Prob (F-statistic):               0.00\n",
      "Time:                          18:46:53   Log-Likelihood:                -61168.\n",
      "No. Observations:                 25964   AIC:                         1.226e+05\n",
      "Df Residuals:                     25834   BIC:                         1.237e+05\n",
      "Df Model:                           130                                         \n",
      "Covariance Type:              nonrobust                                         \n",
      "====================================================================================================================\n",
      "                                                       coef    std err          t      P>|t|      [0.025      0.975]\n",
      "--------------------------------------------------------------------------------------------------------------------\n",
      "Bank                                                 9.0654      1.279      7.086      0.000       6.558      11.573\n",
      "Credit Union                                         7.3260      1.833      3.997      0.000       3.733      10.919\n",
      "Domestic Limited Liability Company                   5.5656      0.067     82.810      0.000       5.434       5.697\n",
      "Domestic Limited Liability Partnership               4.5324      0.295     15.375      0.000       3.955       5.110\n",
      "Domestic Limited Partnership                         6.8271      0.212     32.251      0.000       6.412       7.242\n",
      "Domestic Non-Profit Corporation                      5.7327      0.084     68.335      0.000       5.568       5.897\n",
      "Domestic Profit Corporation                          5.3577      0.053    101.466      0.000       5.254       5.461\n",
      "Foreign Limited Liability Company                    5.0377      0.110     45.773      0.000       4.822       5.253\n",
      "Foreign Limited Partnership                          5.7201      0.304     18.832      0.000       5.125       6.315\n",
      "Foreign Non-Profit Corporation                       5.0168      0.262     19.132      0.000       4.503       5.531\n",
      "Foreign Registered Limited Liability Partnership     5.2905      0.520     10.172      0.000       4.271       6.310\n",
      "Insurance                                            6.7401      1.050      6.418      0.000       4.682       8.799\n",
      "Professional Service Corporation                     6.0259      0.209     28.838      0.000       5.616       6.435\n",
      "acquir                                              -0.6580      0.183     -3.601      0.000      -1.016      -0.300\n",
      "activ                                                0.5654      0.177      3.192      0.001       0.218       0.913\n",
      "administr                                            1.7050      0.309      5.519      0.000       1.100       2.311\n",
      "agenc                                                0.9074      0.179      5.059      0.000       0.556       1.259\n",
      "alcohol                                             -1.9076      0.377     -5.066      0.000      -2.646      -1.170\n",
      "architectur                                          2.6328      0.288      9.153      0.000       2.069       3.197\n",
      "assembl                                             -1.2928      0.338     -3.824      0.000      -1.955      -0.630\n",
      "assist                                              -1.2639      0.260     -4.858      0.000      -1.774      -0.754\n",
      "associ                                               0.5837      0.078      7.490      0.000       0.431       0.736\n",
      "auto                                                 0.7685      0.156      4.923      0.000       0.462       1.074\n",
      "bodi                                                -0.9775      0.308     -3.178      0.001      -1.580      -0.375\n",
      "cafe                                                -0.8360      0.298     -2.804      0.005      -1.420      -0.252\n",
      "capit                                                0.4585      0.206      2.222      0.026       0.054       0.863\n",
      "carpentri                                           -1.6121      0.365     -4.418      0.000      -2.327      -0.897\n",
      "carri                                               -0.5564      0.235     -2.365      0.018      -1.018      -0.095\n",
      "cater                                               -0.8843      0.337     -2.624      0.009      -1.545      -0.224\n",
      "children                                            -1.3569      0.287     -4.730      0.000      -1.919      -0.795\n",
      "collect                                              1.1725      0.274      4.276      0.000       0.635       1.710\n",
      "commerci                                             0.5450      0.128      4.261      0.000       0.294       0.796\n",
      "commun                                               0.5404      0.130      4.155      0.000       0.285       0.795\n",
      "comput                                               0.7814      0.162      4.817      0.000       0.463       1.099\n",
      "condominium                                         -2.0809      0.320     -6.507      0.000      -2.708      -1.454\n",
      "construct                                            0.7657      0.084      9.099      0.000       0.601       0.931\n",
      "contract                                             0.5302      0.157      3.374      0.001       0.222       0.838\n",
      "contractor                                           0.5367      0.175      3.073      0.002       0.194       0.879\n",
      "conveni                                             -1.1561      0.313     -3.690      0.000      -1.770      -0.542\n",
      "counti                                              -0.6647      0.268     -2.478      0.013      -1.190      -0.139\n",
      "creation                                            -1.1939      0.298     -4.002      0.000      -1.779      -0.609\n",
      "creativ                                             -1.7375      0.369     -4.714      0.000      -2.460      -1.015\n",
      "credit                                               1.6269      0.295      5.521      0.000       1.049       2.205\n",
      "cultur                                              -1.2651      0.311     -4.073      0.000      -1.874      -0.656\n",
      "deli                                                -1.3522      0.388     -3.482      0.000      -2.113      -0.591\n",
      "design                                               0.2400      0.112      2.142      0.032       0.020       0.460\n",
      "distribut                                            0.4243      0.131      3.230      0.001       0.167       0.682\n",
      "educ                                                -0.4183      0.152     -2.747      0.006      -0.717      -0.120\n",
      "electr                                               0.6231      0.195      3.203      0.001       0.242       1.004\n",
      "electron                                             0.4888      0.236      2.073      0.038       0.027       0.951\n",
      "energi                                               0.8686      0.316      2.751      0.006       0.250       1.488\n",
      "engin                                                1.7682      0.195      9.049      0.000       1.385       2.151\n",
      "entertain                                           -0.6397      0.252     -2.540      0.011      -1.133      -0.146\n",
      "environment                                          0.6303      0.248      2.543      0.011       0.145       1.116\n",
      "equip                                                0.9272      0.129      7.197      0.000       0.675       1.180\n",
      "establish                                           -1.0500      0.230     -4.558      0.000      -1.502      -0.598\n",
      "exchang                                             -0.6840      0.308     -2.219      0.027      -1.288      -0.080\n",
      "fashion                                             -1.1257      0.403     -2.792      0.005      -1.916      -0.335\n",
      "financ                                               1.5661      0.218      7.196      0.000       1.140       1.993\n",
      "financi                                              1.1579      0.141      8.229      0.000       0.882       1.434\n",
      "fit                                                 -0.8409      0.315     -2.667      0.008      -1.459      -0.223\n",
      "food                                                 0.4533      0.125      3.636      0.000       0.209       0.698\n",
      "friend                                              -1.9889      0.389     -5.110      0.000      -2.752      -1.226\n",
      "furnitur                                             0.5356      0.282      1.900      0.057      -0.017       1.088\n",
      "garden                                              -0.9680      0.353     -2.742      0.006      -1.660      -0.276\n",
      "groceri                                             -1.5110      0.398     -3.796      0.000      -2.291      -0.731\n",
      "hardwar                                             -1.6585      0.350     -4.739      0.000      -2.344      -0.973\n",
      "health                                               0.7011      0.164      4.281      0.000       0.380       1.022\n",
      "healthcar                                            0.8464      0.325      2.604      0.009       0.209       1.483\n",
      "hold                                                 0.5597      0.111      5.028      0.000       0.342       0.778\n",
      "home                                                 0.5723      0.124      4.600      0.000       0.328       0.816\n",
      "individu                                            -1.2533      0.304     -4.123      0.000      -1.849      -0.657\n",
      "industri                                             0.6427      0.130      4.959      0.000       0.389       0.897\n",
      "inform                                               0.6026      0.224      2.687      0.007       0.163       1.042\n",
      "insur                                                1.4615      0.158      9.273      0.000       1.153       1.770\n",
      "invest                                               0.3558      0.100      3.558      0.000       0.160       0.552\n",
      "jewelri                                              0.3023      0.158      1.910      0.056      -0.008       0.612\n",
      "leas                                                 0.9067      0.113      7.996      0.000       0.684       1.129\n",
      "lend                                                 1.1606      0.254      4.566      0.000       0.662       1.659\n",
      "limousin                                            -1.1788      0.334     -3.526      0.000      -1.834      -0.524\n",
      "loan                                                 0.7543      0.234      3.228      0.001       0.296       1.212\n",
      "machin                                               0.6908      0.279      2.479      0.013       0.145       1.237\n",
      "maintain                                            -0.3620      0.181     -2.002      0.045      -0.716      -0.008\n",
      "manufactur                                           0.9326      0.106      8.824      0.000       0.725       1.140\n",
      "market                                               0.6723      0.109      6.188      0.000       0.459       0.885\n",
      "materi                                              -0.5276      0.237     -2.228      0.026      -0.992      -0.064\n",
      "medic                                                0.7497      0.171      4.373      0.000       0.414       1.086\n",
      "medicin                                             -0.8827      0.325     -2.716      0.007      -1.520      -0.246\n",
      "metal                                                0.8387      0.261      3.218      0.001       0.328       1.350\n",
      "ministri                                            -2.3321      0.415     -5.618      0.000      -3.146      -1.518\n",
      "money                                               -0.8971      0.399     -2.248      0.025      -1.679      -0.115\n",
      "mortgag                                              2.3500      0.134     17.483      0.000       2.087       2.613\n",
      "ocean                                               -0.9298      0.239     -3.883      0.000      -1.399      -0.461\n",
      "oil                                                  0.9268      0.281      3.293      0.001       0.375       1.479\n",
      "onli                                                 3.1259      0.372      8.412      0.000       2.398       3.854\n",
      "oper                                                 0.2145      0.075      2.844      0.004       0.067       0.362\n",
      "pizza                                               -0.6913      0.267     -2.589      0.010      -1.215      -0.168\n",
      "power                                                0.4836      0.278      1.736      0.082      -0.062       1.029\n",
      "preserv                                             -1.7681      0.347     -5.091      0.000      -2.449      -1.087\n",
      "properti                                             0.2533      0.091      2.791      0.005       0.075       0.431\n",
      "provid                                               0.4126      0.077      5.339      0.000       0.261       0.564\n",
      "pub                                                 -1.5565      0.400     -3.890      0.000      -2.341      -0.772\n",
      "realti                                               0.7934      0.087      9.154      0.000       0.623       0.963\n",
      "recreat                                             -1.3011      0.338     -3.855      0.000      -1.963      -0.640\n",
      "religi                                              -1.9140      0.353     -5.426      0.000      -2.605      -1.223\n",
      "remodel                                             -0.8261      0.226     -3.657      0.000      -1.269      -0.383\n",
      "renov                                               -0.9396      0.283     -3.314      0.001      -1.495      -0.384\n",
      "rent                                                -0.7938      0.240     -3.309      0.001      -1.264      -0.324\n",
      "rental                                               0.6729      0.152      4.426      0.000       0.375       0.971\n",
      "resourc                                              0.7526      0.250      3.011      0.003       0.263       1.243\n",
      "restaur                                              0.5305      0.113      4.682      0.000       0.308       0.753\n",
      "retail                                               0.8740      0.093      9.415      0.000       0.692       1.056\n",
      "sea                                                 -1.4816      0.397     -3.733      0.000      -2.259      -0.704\n",
      "seafood                                             -0.9735      0.327     -2.980      0.003      -1.614      -0.333\n",
      "secur                                                1.2080      0.188      6.435      0.000       0.840       1.576\n",
      "softwar                                              0.6334      0.216      2.938      0.003       0.211       1.056\n",
      "specialti                                            0.6778      0.316      2.147      0.032       0.059       1.297\n",
      "studio                                              -0.9048      0.332     -2.728      0.006      -1.555      -0.255\n",
      "suppli                                               0.6726      0.182      3.689      0.000       0.315       1.030\n",
      "support                                             -0.6016      0.218     -2.755      0.006      -1.030      -0.174\n",
      "system                                               1.5277      0.123     12.373      0.000       1.286       1.770\n",
      "tax                                                 -1.0937      0.357     -3.061      0.002      -1.794      -0.393\n",
      "technolog                                            0.7213      0.165      4.384      0.000       0.399       1.044\n",
      "telecommun                                           3.4533      0.189     18.306      0.000       3.084       3.823\n",
      "temporari                                            1.6044      0.329      4.870      0.000       0.959       2.250\n",
      "titl                                                 1.3590      0.054     25.104      0.000       1.253       1.465\n",
      "transport                                            0.4254      0.171      2.490      0.013       0.091       0.760\n",
      "travel                                               0.5501      0.330      1.669      0.095      -0.096       1.196\n",
      "youth                                               -1.1174      0.300     -3.728      0.000      -1.705      -0.530\n",
      "officers_listed                                      0.2280      0.003     67.147      0.000       0.221       0.235\n",
      "==============================================================================\n",
      "Omnibus:                     8528.016   Durbin-Watson:                   1.824\n",
      "Prob(Omnibus):                  0.000   Jarque-Bera (JB):          1868619.285\n",
      "Skew:                          -0.298   Prob(JB):                         0.00\n",
      "Kurtosis:                      44.556   Cond. No.                         663.\n",
      "==============================================================================\n",
      "\n",
      "Warnings:\n",
      "[1] Standard Errors assume that the covariance matrix of the errors is correctly specified.\n"
     ]
    }
   ],
   "source": [
    "vars_to_keep = []\n",
    "for item in manually_chosen_variables:\n",
    "    if e_net.fit().pvalues[item] < 0.05:\n",
    "        vars_to_keep += [item]\n",
    "\n",
    "smaller_X_train_manual = X_train_manual[vars_to_keep]\n",
    "\n",
    "e_net2 = sm.OLS(y_train, smaller_X_train_manual.astype(float), L1_wt=.5)\n",
    "print(e_net2.fit().summary())"
   ]
  },
  {
   "cell_type": "code",
   "execution_count": null,
   "metadata": {},
   "outputs": [],
   "source": [
    "# What are those \"(XX)**\" variables?\n",
    "#COAST TO COAST CONSTRUCTION CO. **MERGED INTO AN ENTITY NOT QUALIFIED IN RI**\n",
    "#Spectrum Fabrics Corporation **MERGED INTO AN ENTITY NOT QUALIFIED IN RI: SF Capital Corp. (NY)**\n",
    "#Phoenixx TPC, Inc. **MERGED INTO AN ENTITY NOT QUALIFIED IN RI: Phoenixx TPC of Delaware, Inc. (DE)**\n",
    "#Executive Aviation, Inc. **MERGED INTO AN ENTITY NOT QUALIFIED IN RI: EXECUTIVE AVIATION, INC. (OR)**\n"
   ]
  },
  {
   "cell_type": "code",
   "execution_count": 112,
   "metadata": {},
   "outputs": [
    {
     "name": "stderr",
     "output_type": "stream",
     "text": [
      "c:\\users\\aubre\\desktop\\github_math\\git_math\\lib\\site-packages\\yellowbrick\\features\\rankd.py:262: FutureWarning: Method .as_matrix will be removed in a future version. Use .values instead.\n",
      "  X = X.as_matrix()\n"
     ]
    },
    {
     "data": {
      "image/png": "[encoded data removed]",
      "text/plain": [
       "<Figure size 576x396 with 2 Axes>"
      ]
     },
     "metadata": {},
     "output_type": "display_data"
    }
   ],
   "source": [
    "# We're down to 91 significant variables, an adjusted R^2 that's in the right ballpark, but we still have an \n",
    "# enormous condition number. 91 is too many variables to use tools like covariance rankings.\n",
    "\n",
    "from yellowbrick.features import Rank2D\n",
    "\n",
    "visualizer = Rank2D(features=vars_to_keep, algorithm='covariance')\n",
    "\n",
    "visualizer.fit(smaller_X_train_manual, y_train_manual)\n",
    "visualizer.transform(X_train_manual.astype(float))\n",
    "visualizer.poof()"
   ]
  },
  {
   "cell_type": "markdown",
   "metadata": {},
   "source": [
    "### Filtering from everything to a few variables doesn't seem like the right approach anymore. Let's do the opposite."
   ]
  },
  {
   "cell_type": "code",
   "execution_count": 118,
   "metadata": {},
   "outputs": [
    {
     "name": "stdout",
     "output_type": "stream",
     "text": [
      "                             OLS Regression Results                             \n",
      "================================================================================\n",
      "Dep. Variable:     log_time_in_business   R-squared:                       0.869\n",
      "Model:                              OLS   Adj. R-squared:                  0.869\n",
      "Method:                   Least Squares   F-statistic:                 1.230e+04\n",
      "Date:                  Mon, 04 Mar 2019   Prob (F-statistic):               0.00\n",
      "Time:                          18:41:48   Log-Likelihood:                -63612.\n",
      "No. Observations:                 25964   AIC:                         1.273e+05\n",
      "Df Residuals:                     25950   BIC:                         1.274e+05\n",
      "Df Model:                            14                                         \n",
      "Covariance Type:              nonrobust                                         \n",
      "====================================================================================================================\n",
      "                                                       coef    std err          t      P>|t|      [0.025      0.975]\n",
      "--------------------------------------------------------------------------------------------------------------------\n",
      "Bank                                                 9.2085      1.402      6.566      0.000       6.460      11.957\n",
      "Credit Union                                         8.7564      1.983      4.415      0.000       4.869      12.644\n",
      "Domestic Limited Liability Company                   7.3517      0.042    173.327      0.000       7.269       7.435\n",
      "Domestic Limited Liability Partnership               6.4169      0.318     20.205      0.000       5.794       7.039\n",
      "Domestic Limited Partnership                         8.1050      0.227     35.742      0.000       7.660       8.549\n",
      "Domestic Non-Profit Corporation                      6.4501      0.068     95.287      0.000       6.317       6.583\n",
      "Domestic Profit Corporation                          6.7922      0.026    260.241      0.000       6.741       6.843\n",
      "Foreign Limited Liability Company                    7.2810      0.107     67.989      0.000       7.071       7.491\n",
      "Foreign Limited Partnership                          7.6409      0.328     23.275      0.000       6.997       8.284\n",
      "Foreign Non-Profit Corporation                       5.5565      0.280     19.816      0.000       5.007       6.106\n",
      "Foreign Registered Limited Liability Partnership     6.9487      0.561     12.387      0.000       5.849       8.048\n",
      "Insurance                                            7.7192      1.145      6.741      0.000       5.475       9.964\n",
      "Professional Service Corporation                     7.3119      0.217     33.624      0.000       6.886       7.738\n",
      "officers_listed                                      0.2935      0.004     83.057      0.000       0.287       0.300\n",
      "==============================================================================\n",
      "Omnibus:                    13516.549   Durbin-Watson:                   1.779\n",
      "Prob(Omnibus):                  0.000   Jarque-Bera (JB):          8062625.131\n",
      "Skew:                          -1.133   Prob(JB):                         0.00\n",
      "Kurtosis:                      89.300   Cond. No.                         652.\n",
      "==============================================================================\n",
      "\n",
      "Warnings:\n",
      "[1] Standard Errors assume that the covariance matrix of the errors is correctly specified.\n"
     ]
    }
   ],
   "source": [
    "# What can we learn without any information from companies' names and descriptions?\n",
    "base_variables = [dummy for dummy in entity_dummies.columns] + ['officers_listed']\n",
    "base_variables.remove('Foreign Corporation')\n",
    "\n",
    "X_train_base, X_test_base, y_train_base, y_test_base = train_test_split(df[base_variables],\n",
    "                                                    df['log_time_in_business'],\n",
    "                                                    test_size=0.2,\n",
    "                                                    random_state=5)\n",
    "\n",
    "small_e_net = sm.OLS(y_train_base, X_train_base.astype(float), L1_wt=.5)\n",
    "print(small_e_net.fit().summary())"
   ]
  },
  {
   "cell_type": "code",
   "execution_count": 136,
   "metadata": {},
   "outputs": [
    {
     "data": {
      "text/plain": [
       "0.06609682062087685"
      ]
     },
     "execution_count": 136,
     "metadata": {},
     "output_type": "execute_result"
    }
   ],
   "source": [
    "# Proving that our 87% adjusted R^2 is meaningless:\n",
    "e_net_cv_base = ElasticNetCV(cv=5)\n",
    "e_net_cv_base.fit(X_train_base, y_train_base)\n",
    "e_net_cv_base.score(X_test_base, y_test_base)"
   ]
  },
  {
   "cell_type": "markdown",
   "metadata": {},
   "source": [
    "### Dang. Lesson learned. I figured the multicolinearity was coming from all the names and descriptions, but it looks like a surprisingly large contributor is the legal organizational status of the companies."
   ]
  },
  {
   "cell_type": "code",
   "execution_count": 119,
   "metadata": {},
   "outputs": [
    {
     "data": {
      "image/png": "[encoded data removed]",
      "text/plain": [
       "<Figure size 576x396 with 2 Axes>"
      ]
     },
     "metadata": {},
     "output_type": "display_data"
    }
   ],
   "source": [
    "# Look for any unusually high covariances between variables\n",
    "visualizer = Rank2D(features=base_variables, algorithm='covariance')\n",
    "\n",
    "visualizer.fit(X_train_base, y_train_base)\n",
    "visualizer.transform(X_train_base.astype(float))\n",
    "visualizer.poof()"
   ]
  },
  {
   "cell_type": "code",
   "execution_count": 120,
   "metadata": {},
   "outputs": [
    {
     "data": {
      "image/png": "[encoded data removed]",
      "text/plain": [
       "<Figure size 576x396 with 2 Axes>"
      ]
     },
     "metadata": {},
     "output_type": "display_data"
    }
   ],
   "source": [
    "# That wasn't very useful. Give it another try:\n",
    "visualizer = Rank2D(features=base_variables, algorithm='pearson')\n",
    "\n",
    "visualizer.fit(X_train_base, y_train_base)\n",
    "visualizer.transform(X_train_base.astype(float))\n",
    "visualizer.poof()"
   ]
  },
  {
   "cell_type": "markdown",
   "metadata": {},
   "source": [
    "### I can't decide how uncomfortable to feel about the non-normality test statistics. We knew that log(days_in_business) wasn't normally distributed, but it looked reasonably close. The kurtosis values in our ANOVA table of ~90 is really, really high.\n",
    "### I'm going to abandon OLS and see if we have better luck with non-linear options."
   ]
  },
  {
   "cell_type": "code",
   "execution_count": 134,
   "metadata": {},
   "outputs": [
    {
     "name": "stdout",
     "output_type": "stream",
     "text": [
      "Score: 0.09576136224883791\n",
      "CVS: 0.09867887668700376\n"
     ]
    }
   ],
   "source": [
    "from sklearn.model_selection import cross_val_score\n",
    "\n",
    "rf_model = RandomForestRegressor(n_estimators=100)\n",
    "rf_model.fit(X_train_base, y_train_base)\n",
    "rf_model.get_params()\n",
    "\n",
    "# Score the random forest two different ways, just cause.\n",
    "print(\"Score:\", rf_model.score(X_test_base, y_test_base))\n",
    "print(\"CVS:\", np.mean(cross_val_score(rf_model, X_train_base, y_train_base, cv=10)))"
   ]
  },
  {
   "cell_type": "code",
   "execution_count": 140,
   "metadata": {},
   "outputs": [
    {
     "name": "stderr",
     "output_type": "stream",
     "text": [
      "c:\\users\\aubre\\desktop\\github_math\\git_math\\lib\\site-packages\\sklearn\\model_selection\\_split.py:2053: FutureWarning: You should specify a value for 'cv' instead of relying on the default value. The default value will change from 3 to 5 in version 0.22.\n",
      "  warnings.warn(CV_WARNING, FutureWarning)\n",
      "c:\\users\\aubre\\desktop\\github_math\\git_math\\lib\\site-packages\\sklearn\\model_selection\\_split.py:2053: FutureWarning: You should specify a value for 'cv' instead of relying on the default value. The default value will change from 3 to 5 in version 0.22.\n",
      "  warnings.warn(CV_WARNING, FutureWarning)\n",
      "c:\\users\\aubre\\desktop\\github_math\\git_math\\lib\\site-packages\\sklearn\\model_selection\\_split.py:2053: FutureWarning: You should specify a value for 'cv' instead of relying on the default value. The default value will change from 3 to 5 in version 0.22.\n",
      "  warnings.warn(CV_WARNING, FutureWarning)\n",
      "c:\\users\\aubre\\desktop\\github_math\\git_math\\lib\\site-packages\\sklearn\\model_selection\\_split.py:2053: FutureWarning: You should specify a value for 'cv' instead of relying on the default value. The default value will change from 3 to 5 in version 0.22.\n",
      "  warnings.warn(CV_WARNING, FutureWarning)\n",
      "c:\\users\\aubre\\desktop\\github_math\\git_math\\lib\\site-packages\\sklearn\\model_selection\\_split.py:2053: FutureWarning: You should specify a value for 'cv' instead of relying on the default value. The default value will change from 3 to 5 in version 0.22.\n",
      "  warnings.warn(CV_WARNING, FutureWarning)\n",
      "c:\\users\\aubre\\desktop\\github_math\\git_math\\lib\\site-packages\\sklearn\\model_selection\\_split.py:2053: FutureWarning: You should specify a value for 'cv' instead of relying on the default value. The default value will change from 3 to 5 in version 0.22.\n",
      "  warnings.warn(CV_WARNING, FutureWarning)\n",
      "c:\\users\\aubre\\desktop\\github_math\\git_math\\lib\\site-packages\\sklearn\\model_selection\\_split.py:2053: FutureWarning: You should specify a value for 'cv' instead of relying on the default value. The default value will change from 3 to 5 in version 0.22.\n",
      "  warnings.warn(CV_WARNING, FutureWarning)\n",
      "c:\\users\\aubre\\desktop\\github_math\\git_math\\lib\\site-packages\\sklearn\\model_selection\\_split.py:2053: FutureWarning: You should specify a value for 'cv' instead of relying on the default value. The default value will change from 3 to 5 in version 0.22.\n",
      "  warnings.warn(CV_WARNING, FutureWarning)\n",
      "c:\\users\\aubre\\desktop\\github_math\\git_math\\lib\\site-packages\\sklearn\\model_selection\\_split.py:2053: FutureWarning: You should specify a value for 'cv' instead of relying on the default value. The default value will change from 3 to 5 in version 0.22.\n",
      "  warnings.warn(CV_WARNING, FutureWarning)\n",
      "c:\\users\\aubre\\desktop\\github_math\\git_math\\lib\\site-packages\\sklearn\\model_selection\\_split.py:2053: FutureWarning: You should specify a value for 'cv' instead of relying on the default value. The default value will change from 3 to 5 in version 0.22.\n",
      "  warnings.warn(CV_WARNING, FutureWarning)\n",
      "c:\\users\\aubre\\desktop\\github_math\\git_math\\lib\\site-packages\\sklearn\\model_selection\\_split.py:2053: FutureWarning: You should specify a value for 'cv' instead of relying on the default value. The default value will change from 3 to 5 in version 0.22.\n",
      "  warnings.warn(CV_WARNING, FutureWarning)\n",
      "c:\\users\\aubre\\desktop\\github_math\\git_math\\lib\\site-packages\\sklearn\\model_selection\\_split.py:2053: FutureWarning: You should specify a value for 'cv' instead of relying on the default value. The default value will change from 3 to 5 in version 0.22.\n",
      "  warnings.warn(CV_WARNING, FutureWarning)\n",
      "c:\\users\\aubre\\desktop\\github_math\\git_math\\lib\\site-packages\\sklearn\\model_selection\\_split.py:2053: FutureWarning: You should specify a value for 'cv' instead of relying on the default value. The default value will change from 3 to 5 in version 0.22.\n",
      "  warnings.warn(CV_WARNING, FutureWarning)\n",
      "c:\\users\\aubre\\desktop\\github_math\\git_math\\lib\\site-packages\\sklearn\\model_selection\\_split.py:2053: FutureWarning: You should specify a value for 'cv' instead of relying on the default value. The default value will change from 3 to 5 in version 0.22.\n",
      "  warnings.warn(CV_WARNING, FutureWarning)\n"
     ]
    },
    {
     "data": {
      "image/png": "[encoded data removed]",
      "text/plain": [
       "<Figure size 576x396 with 1 Axes>"
      ]
     },
     "metadata": {},
     "output_type": "display_data"
    }
   ],
   "source": [
    "rf_model = RFECV(RandomForestRegressor(n_estimators=10))\n",
    "rf_model.fit(X_train_base, y_train_base)\n",
    "rf_model.poof()"
   ]
  },
  {
   "cell_type": "code",
   "execution_count": 148,
   "metadata": {},
   "outputs": [
    {
     "name": "stdout",
     "output_type": "stream",
     "text": [
      "Most important features:\n",
      "Domestic Limited Liability Partnership\n",
      "Domestic Limited Partnership\n",
      "Domestic Non-Profit Corporation\n",
      "Domestic Profit Corporation\n",
      "Professional Service Corporation\n",
      "officers_listed\n",
      "\n",
      "Least important features:\n",
      "Bank\n",
      "Credit Union\n",
      "Domestic Limited Liability Company\n",
      "Foreign Limited Liability Company\n",
      "Foreign Limited Partnership\n",
      "Foreign Non-Profit Corporation\n",
      "Foreign Registered Limited Liability Partnership\n",
      "Insurance\n"
     ]
    }
   ],
   "source": [
    "# Diminishing returns hit hard after 6 variables. What are those 6?\n",
    "from sklearn.feature_selection import RFE\n",
    "\n",
    "estimator = RandomForestRegressor(n_estimators=10)\n",
    "selector = RFE(estimator, 6, step=1)\n",
    "selector = selector.fit(X_train_base, y_train_base)\n",
    "selector.ranking_\n",
    "\n",
    "print(\"Most important features:\")\n",
    "for item in range(len(selector.ranking_)):\n",
    "    if selector.ranking_[item] == 1:\n",
    "        print(X_train_base.columns[item])\n",
    "\n",
    "print(\"\")\n",
    "print(\"Least important features:\")\n",
    "for item in range(len(selector.ranking_)):\n",
    "    if selector.ranking_[item] != 1:\n",
    "        print(X_train_base.columns[item])"
   ]
  },
  {
   "cell_type": "code",
   "execution_count": null,
   "metadata": {},
   "outputs": [],
   "source": [
    "# The distinction here might be the number of entities registered as each entity type.\n",
    "# Banks have significantly longer lives than average, but there aren't many of them.\n",
    "### Check this out"
   ]
  },
  {
   "cell_type": "code",
   "execution_count": null,
   "metadata": {},
   "outputs": [],
   "source": []
  },
  {
   "cell_type": "code",
   "execution_count": null,
   "metadata": {},
   "outputs": [],
   "source": []
  },
  {
   "cell_type": "markdown",
   "metadata": {},
   "source": [
    "# This is far from a completed study. \n",
    "\n",
    "### Things left to do:\n",
    "    - There's a colinearity problem introduced by having separate variables for keywords in both EntityName and Comments: lots of companies with names like ABC Insurance will also say in their description that they sell insurance. Instead, the keyword variables should apply to both EntityName and Comments.\n",
    "    - Similarly, I should figure out some clever way to make different variables for all words in EntityName & Comments that's present more than X amount of times. This whole inspect-by-hand thing isn't scalable and leaves too much room for my own biases in what names are important.\n",
    "    - Inspect the error terms. Because log(time_in_business) isn't normally distributed, and the exceptions seem to be around the tails of the distribution, I bet the error term isn't fully independent.\n",
    "    - Assess the impact of our data being censored (companies that are still in business aren't included in the analysis, which biases our results towards earlier deaths)\n",
    "    - Not all of these businesses failed. Some were sold, merged, etc. An example is this: http://ucc.state.ri.us/CorpWeb/CorpSearch/CorpSummary.aspx?FEIN=000001992. The issue is figuring out the structure of the pages scraped to know how to scrape it.\n",
    "    - Some of the data we used is subject to change over a company's lifetime. Addresses, DBAs, or the number of directors & officers can all change. Rhode Island includes lots of other documents, and it'd be great to see what other data we can get from those.\n",
    "    - Overlay census data based on companies' principal addresses to see how population density or nearby wealth impact their life expectancy\n",
    "    - Use our other variables like stock information, NAICS codes, or which foreign entities use registered agents\n",
    "    - Consider macroeconomic factors: GDP growth, unemployment rates, etc\n",
    "    - Test for unit roots: are there trends over time that we need to account for? Are survival rates different for companies founded in 1900 vs 1980? Do survival rates for different industruies, like technology or construction companies, change significantly over time due to structural changes (not due to macroeconomic factors that we can control for)?\n",
    "    - More data is always better. I only used 10,000 samples in this study.\n",
    "### An extension of this study:\n",
    "    - It's neat to be able to estimate a company's lifespan at birth. It'd be useful to estimate how much longer a company will stay in business, regardless of how old it already is."
   ]
  },
  {
   "cell_type": "code",
   "execution_count": null,
   "metadata": {},
   "outputs": [],
   "source": [
    "# If you've done much scraping, then your failed_records list could be pretty long. You don't want to\n",
    "# repeat attempting to scrape those failed records, so save the list to a file.\n",
    "\n",
    "#with open('failed_records', 'wb') as fp:\n",
    "#    pickle.dump(failed_records, fp)"
   ]
  },
  {
   "cell_type": "code",
   "execution_count": null,
   "metadata": {},
   "outputs": [],
   "source": []
  }
 ],
 "metadata": {
  "kernelspec": {
   "display_name": "Python 3",
   "language": "python",
   "name": "python3"
  },
  "language_info": {
   "codemirror_mode": {
    "name": "ipython",
    "version": 3
   },
   "file_extension": ".py",
   "mimetype": "text/x-python",
   "name": "python",
   "nbconvert_exporter": "python",
   "pygments_lexer": "ipython3",
   "version": "3.6.4"
  }
 },
 "nbformat": 4,
 "nbformat_minor": 2
}
